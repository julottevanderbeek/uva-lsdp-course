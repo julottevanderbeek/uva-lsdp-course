{
 "cells": [
  {
   "cell_type": "markdown",
   "metadata": {
    "id": "eLDO5_Lj4jlD"
   },
   "source": [
    "# Predicting Profile Features Based on Dialogue\n",
    "####  Language & Speech & Dialogue Processing Project\n",
    "*Sam Titarsolej, Ying Liem, Selina Khan*\n",
    "\n",
    "\n",
    "## Table of Contents\n",
    "\n",
    "\n",
    "1. Introduction\n",
    "2. Experimental Setup\n",
    "    * South Park dataset\n",
    "    * Friends dataset\n",
    "    * Movies dataset\n",
    "    * Approaches  \n",
    "3. Evaluation\n",
    "    * Results\n",
    "4. Findings\n",
    "    * Discussion\n",
    "5. Conclusion"
   ]
  },
  {
   "cell_type": "code",
   "execution_count": 1,
   "metadata": {
    "id": "DzqUiN0qVEXW"
   },
   "outputs": [],
   "source": [
    "# General imports\n",
    "import re\n",
    "import nltk\n",
    "import json\n",
    "import time\n",
    "import requests\n",
    "import data_utils\n",
    "import numpy as np\n",
    "import pandas as pd\n",
    "import matplotlib.pyplot as plt\n",
    "\n",
    "from tqdm import tqdm\n",
    "from bs4 import BeautifulSoup\n",
    "from collections import Counter, defaultdict\n",
    "\n",
    "# Imports for the age & gender model\n",
    "import torch\n",
    "import transformers as ppb\n",
    "from sklearn.model_selection import train_test_split\n",
    "from sklearn.linear_model import LogisticRegression\n",
    "from sklearn.metrics import plot_confusion_matrix\n",
    "\n",
    "# Imports for the personalities model\n",
    "import personalities.configuration as config\n",
    "from personalities.training import train_persona"
   ]
  },
  {
   "cell_type": "markdown",
   "metadata": {
    "id": "l4F6PFZU5m_4"
   },
   "source": [
    "## Introduction\n",
    "\n",
    "Dialogue is rich in information and essential for human conversation. In a dialogue, one can convey pieces of info they want their conversation partner to know. For example, plans for tomorrow, newest updates about their lives, etc. However, dialogue can also be used to retrieve underlying information about the conversers. Research suggests that characteristics such as gender[[1]](https://journals.sagepub.com/doi/10.1177/0023830914549084), age[[2]](https://www.ncbi.nlm.nih.gov/pmc/articles/PMC3783449/) and personality[[2]](https://www.ncbi.nlm.nih.gov/pmc/articles/PMC3783449/) can influence one’s language usage. Moreover, there's a trend in how such profile features influence language use across feature categories. The aim for this project is to use existing models to propose a method to extract various character traits from dialogue, rather than developing a perfectly functioning model.\n",
    "\n",
    "Our research question is hereby proposed as follows: “to what extent can dialogue be used to form a profile of a person?”. We aim to answer this question using personas from movies and TV shows, since a lot of data is available in the form of dialogues and profile features. Moreover, this research will focus on the profile features gender, age and personality, resulting in the following subquestions:\n",
    "\n",
    "1.   “To what extent can dialogue be used to predict the gender of a TV show or movie character?”\n",
    "2.   “To what extent can dialogue be used to predict the age of a TV show or movie character?”\n",
    "3. “To what extent can dialogue be used to predict the personality of a TV show or movie character?”\n",
    "\n",
    "To illustrate the research questions, in the TV-show 'Brooklyn 99', the main character Jake Peralta is an adult male with a quirky personality. By merely analysing the transcript of the show, one could guess Jake's profile features. Take his usage of the word 'bro', which is more commonly used by men. Moreover, he uses words that would normally not be included in a child's vocabulary and doesn't use old-fashioned words that could be seen in the vocabulary of elderly. Based on such observations, one could make an estimation that Jake is an adult. Lastly, a lot of jokes can be found in Jake's dialogue, which could show that he has a quirky personality. \\\\\n",
    "However, trends between profile features and dialogue aren't concrete and certain. There are females that also use 'bro' to call their male friend. Also, some children have a much broader vocabulary, whereas not all elderly use old-fashioned words and might even know and use some internet slang. And of course, personalities don't have black and white definitions; you could describe someone as quirky, but that doesn't necessarily mean he/she makes a lot of jokes. Nevertheless, there could be some general trends in language use across profile features that would work for most people. \n",
    "Therefore, we will investigate to what extent dialogue can be used to predict gender, age and personality of a TV show or movie character. <br><br>\n",
    "\n",
    "\n",
    "\n",
    "### Related Literature\n",
    "\n",
    "Quite some research has already been done in the attempt to extract specific features from dialogue. There are many published papers and articles proposing methods to determine a person’s gender based on spoken dialogues. This includes both audio-based approaches[[3]](http://www.cs.columbia.edu/~sarahita/papers/speech_prosody16.pdf)[[4]](https://ieeexplore.ieee.org/document/7342709)[[5]](https://iranjournals.nlai.ir/bitstream/handle/123456789/621435/50D7B725BB44A32A9317C554F68ADC2D.pdf?sequence=-1) and textual approaches[[6]](https://www.researchgate.net/publication/306093567_Gender-Distinguishing_Features_in_Film_Dialogue)[[7]](https://www.researchgate.net/publication/332017320_Gender_Classification_Using_Sentiment_Analysis_and_Deep_Learning_in_a_Health_Web_Forum). Age group classification of a person based on spoken dialogues have also been researched to some extent[[8]](https://www.aclweb.org/anthology/E17-2030.pdf). Research in age categorization involves more audi-based approaches, as opposed to a textual approach we aim to research. Jiang et al.[[9]](https://arxiv.org/abs/1911.09304) have researched text-based classification of personality, and will be of great inspiration to us in our research. "
   ]
  },
  {
   "cell_type": "markdown",
   "metadata": {
    "id": "NHeDE-Tw6Xd5"
   },
   "source": [
    "## Experimental Setup\n",
    "We present an approach for automatic age, gender and personality classification. The gender and age approaches use a pre-trained contextual embedding model (‘DistilBERT’) and a logistic regression model. For predicting personality traits, a bidirectional LSTM with attention mechanisms is proposed.\n",
    "\n",
    "### Profile features\n",
    "As mentioned earlier, the profile features we focused on are gender, age and personality. While acknowledging that there are more than two genders, we will stick with two classes within the scope of this project: male and female. Age has a much wider range of possible values, therefore we decided to create age categories to make classification easier and more logical. The categories we settled on are ‘kid (0-9)', 'teen (10-19)', 'YA (20-35)' (young-adult), 'adult (36-50)' and 'elderly (50+)'. For personality, we will be using the big five personality traits, a widely used and accepeted taxonomy of five personality traits. The traits are: agreeableness, conscientiousness, extroversion, openess and neuroticism.\n",
    "\n",
    "### Datasets\n",
    "\n",
    "To perform this investigation we used three dialogue datasets, namely from the cartoon ‘South Park’, the convokit corpus of the TV-show ‘Friends’ and the convokit ‘Cornell Movie-Dialogs Corpus’. Furthermore, we used the Wiki Fandom pages of the shows ‘South Park’ and ‘Friends’ to obtain gender and age labels for the characters using a web-scraping method. The movie dataset already included gender labels, however ages of the characters had to be manually annotated. For the personality labels, we were greatly inspired by Jiang et al.[[9]](https://arxiv.org/abs/1911.09304) and used their annotated Friends personalities, which they obtained through crowdsourcing, for our own research. The training and testing of the personality classification model was thereby limited to usage of only the Friends dataset. "
   ]
  },
  {
   "cell_type": "code",
   "execution_count": 2,
   "metadata": {
    "colab": {
     "base_uri": "https://localhost:8080/",
     "height": 231
    },
    "id": "2C3zxAILq9O6",
    "outputId": "6905ace3-f603-4844-c691-2edc7b1f5b7c"
   },
   "outputs": [],
   "source": [
    "# Load stop words and swear words files.\n",
    "# From: https://gist.github.com/sebleier/554280\n",
    "with open('data/stop_words.txt', 'r') as f:\n",
    "    stop_words = f.read().split('\\n')\n",
    "# From: https://www.cs.cmu.edu/~biglou/resources/bad-words.txt\n",
    "with open('data/swear_words.txt', 'r') as f:\n",
    "    swear_words = f.read().split('\\n')"
   ]
  },
  {
   "cell_type": "markdown",
   "metadata": {
    "id": "E9K1PoaVw1v-"
   },
   "source": [
    "Four functions used for statistical analysis are defined."
   ]
  },
  {
   "cell_type": "code",
   "execution_count": 3,
   "metadata": {
    "id": "g9qvJjyFVZQC"
   },
   "outputs": [],
   "source": [
    "def simplify(x):\n",
    "    x = re.sub(r'[^\\w\\s]', '', x)\n",
    "    x = x.lower()\n",
    "    x = x.split()\n",
    "    return x\n",
    "\n",
    "# Calculate word frequency for each specified character\n",
    "def word_freq(characters, df):\n",
    "    axs = tuple(['ax' + str(i) for i in range(len(characters))])    \n",
    "    wordfreqs = []\n",
    "    \n",
    "    for character in characters:\n",
    "        df_char = df[df['speaker'] == character]['text'].apply(simplify)\n",
    "        char = [item for sublist in df_char.tolist() for item in sublist]\n",
    "        char = [word for word in char if word not in stop_words]\n",
    "        counts = Counter(char).most_common(10)\n",
    "        wordfreqs.append(dict((x, y) for x, y in counts))\n",
    "        \n",
    "    fig, axs = plt.subplots(len(axs), figsize=(10, 20))\n",
    "    fig.suptitle('Word frequency per character')\n",
    "    for i, ax in enumerate(axs):\n",
    "        ax.set_title(characters[i])\n",
    "        ax.bar(wordfreqs[i].keys(), wordfreqs[i].values())\n",
    "\n",
    "# Calculate average utterance length for each specified character\n",
    "def seq_length(characters, df):\n",
    "    avgs = []\n",
    "    \n",
    "    for i, char in enumerate(characters):\n",
    "        seqs = df[df['speaker'] == char]['length'].tolist()\n",
    "        avg_len = sum(seqs)/len(seqs)\n",
    "        avgs.append(str(char + ' has an average utterance length of ' + str(avg_len)))\n",
    "    return avgs\n",
    "\n",
    "# Calculate the swearword-rate of each specified character\n",
    "def swearing(characters, df):\n",
    "    result = []\n",
    "    \n",
    "    for char in characters:\n",
    "        df_char = df[df['speaker'] == char]['text'].apply(simplify)\n",
    "        words = [item for sublist in df_char.tolist() for item in sublist]\n",
    "        wordlist = [word for word in words if word not in stop_words]\n",
    "\n",
    "        sw_words = 0\n",
    "        swears = []\n",
    "        for word in wordlist:\n",
    "            if word in swear_words:\n",
    "                sw_words += 1\n",
    "        perc = round(sw_words / len(wordlist) * 100)\n",
    "        result.append(str(char + ' speaks ' + str(len(wordlist)) + ' words, of which ' \n",
    "                          + str(sw_words) + ' are swear words. This is ' + str(perc) + '%'))\n",
    "    return result"
   ]
  },
  {
   "cell_type": "markdown",
   "metadata": {
    "id": "O2PMUCzUzVyI"
   },
   "source": [
    "As mentioned before, we used the South Park and Friends Wiki fandom pages to obtain gender and age labels for all the characters. This was done using web-scraping, which was enabled by a clear structure in the fandom pages. This task is defined in the function '*label*'. As these labels are essential for training the prediction models, the characters with no labels will be excluded from the dataset.\n",
    "\n",
    "<u>Gender</u>: The extraction of gender labels was relatively simple. To stick to the selected gender categories, characters with different or multiple genders are labelled with 'None' (no label) to also be excluded from the dataset.\n",
    "\n",
    "<u>Age</u>: The South Park characters remain the same age throughout the whole show, which if known was stated on the Wiki Fandom pages. Sometimes an estimation was given, e.g. '10-11'. For simplicity and ease of computation, only the first age was taken as the actual age. For Friends, the characters age around a decade throughout the whole series. Therefore, the Wiki fandom pages only stated the birth year. We decided to take about the median age. It can be noted that only the birth years of the main characters were available. Nevertheless, this corresponds with our choice to only include the characters with significant or sufficient amount of dialogue."
   ]
  },
  {
   "cell_type": "code",
   "execution_count": 4,
   "metadata": {
    "id": "nryvBPFZrBOF"
   },
   "outputs": [],
   "source": [
    "# Define the age categories\n",
    "def age_category(age):\n",
    "    if 0 <= age <= 9:\n",
    "        category = 'kid (0-9)'\n",
    "    elif 10 <= age <= 19:\n",
    "        category = 'teen (10-19)'\n",
    "    elif 20 <= age <= 35:\n",
    "        category = 'young adult (20-35)'\n",
    "    elif 36 <= age <= 50:\n",
    "        category = 'adult (36-50)'\n",
    "    else:\n",
    "        category = 'elderly (50+)'\n",
    "    return category\n",
    "\n",
    "# Use web-scraping to find the gender and age of the TV-show characters\n",
    "def label(show, characters):\n",
    "    genders = defaultdict(str)\n",
    "    ages = defaultdict(str)\n",
    "    \n",
    "    cont_class = 'pi-item pi-data pi-item-spacing pi-border-color'\n",
    "    hold_class = 'pi-data-value pi-font'\n",
    "    \n",
    "    for character in tqdm(characters):        \n",
    "        try:\n",
    "            c_name = character.replace(' ', '_')\n",
    "            url = 'https://' + show + '.fandom.com/wiki/' + c_name\n",
    "            soup = BeautifulSoup(requests.get(url).content, 'lxml')\n",
    "        except requests.exceptions.HTTPError as e:\n",
    "            print(e.code)\n",
    "            if e.code == 404:              # Character's profile features are unkown or not available\n",
    "                genders[character], ages[character] = None, None\n",
    "                print(f'no info for {character}')\n",
    "                continue\n",
    "            else:\n",
    "                raise e\n",
    "            \n",
    "        # Extract gender\n",
    "        gender_div = soup.find('div', { 'class': cont_class, 'data-source': 'gender' })\n",
    "        if gender_div is not None:\n",
    "            gender = gender_div.find('div', { 'class': hold_class }).get_text()\n",
    "            if (gender == 'Male') or (gender == 'Female'):\n",
    "                genders[character] = gender\n",
    "\n",
    "        # Extract age\n",
    "        if show == 'southpark':\n",
    "            age_div = soup.find('div', { 'class': cont_class, 'data-source' : 'age'})\n",
    "            if age_div is not None:\n",
    "                age = age_div.find('div', { 'class': hold_class }).get_text()\n",
    "                number = re.findall(\"[\\dA-Za-z]*\", age)[0]\n",
    "                if number.isdigit():\n",
    "                    age = age.split('[')[0]\n",
    "                    age = age.split('-')[0]\n",
    "                    ages[character] = age_category(int(age))\n",
    "        else:\n",
    "            dob_div = soup.find('div', { 'class': cont_class, 'data-source': 'dob' })\n",
    "            if dob_div is not None:\n",
    "                dob = dob_div.find('div', { 'class': hold_class }).get_text()\n",
    "                year = int(re.match(r'.*([1-3][0-9]{3})', dob).group(1))\n",
    "                age = 1998 - year\n",
    "                ages[character] = age_category(int(age))\n",
    "                \n",
    "    return genders, ages"
   ]
  },
  {
   "cell_type": "markdown",
   "metadata": {
    "id": "H2Lh6BuC6uqY"
   },
   "source": [
    "#### South Park dataset\n",
    "The South-Park dataset spans over 10 seasons specifying the season number, utterance and character description for each row in the dataset. We only keep the character name and dialogue line (utterance) as the other aspects are irrelevant to the task at hand. Some columns are renamed, in order to let the dataframes of the three datasets match. Moreover, only the characters with a significant amount of dialogue lines are included in the dataset and labelled."
   ]
  },
  {
   "cell_type": "code",
   "execution_count": 5,
   "metadata": {
    "id": "NszTORca6ttV"
   },
   "outputs": [],
   "source": [
    "def load_southpark(in_file):\n",
    "    # Load input file\n",
    "    df = pd.read_csv(in_file)\n",
    "    df = df[['Character', 'Line']]\n",
    "    df = df.rename(columns={ 'Character': 'speaker', 'Line': 'text' })\n",
    "    df['text'] = df['text'].apply(lambda x: x.replace('\\n', ''))\n",
    "    \n",
    "    significant_characters = df['speaker'].value_counts()[:30]\n",
    "    genders, ages = label('southpark', significant_characters.index)\n",
    "    \n",
    "    df['source'] = 'South Park'\n",
    "    df['gender'] = df['speaker'].apply(lambda x: genders[x])\n",
    "    df['age'] = df['speaker'].apply(lambda x: ages[x])\n",
    "\n",
    "    df['length'] = df['text'].apply(lambda x: x.count(' ') + 1)\n",
    "\n",
    "    return df"
   ]
  },
  {
   "cell_type": "code",
   "execution_count": 6,
   "metadata": {
    "id": "RCX70yLBrD83"
   },
   "outputs": [
    {
     "name": "stderr",
     "output_type": "stream",
     "text": [
      "100%|██████████| 30/30 [00:08<00:00,  3.72it/s]\n"
     ]
    }
   ],
   "source": [
    "south_park = load_southpark('data/southpark.csv')"
   ]
  },
  {
   "cell_type": "markdown",
   "metadata": {},
   "source": [
    "A statistical analysis of the dataset was done to give insights in what the dataset is composed of. This could help us later in the process of evaluating when explaining the results and discussing performance. "
   ]
  },
  {
   "cell_type": "code",
   "execution_count": 7,
   "metadata": {
    "id": "fHCpqbySrJsf"
   },
   "outputs": [
    {
     "data": {
      "image/png": "[encoded data removed]",
      "text/plain": [
       "<Figure size 720x1440 with 5 Axes>"
      ]
     },
     "metadata": {
      "needs_background": "light"
     },
     "output_type": "display_data"
    }
   ],
   "source": [
    "word_freq(['Butters', 'Kyle', 'Cartman', 'Kenny', 'Stan'], south_park)"
   ]
  },
  {
   "cell_type": "markdown",
   "metadata": {},
   "source": [
    "We notice that the main characters of the show use quite casual street langage."
   ]
  },
  {
   "cell_type": "code",
   "execution_count": 8,
   "metadata": {
    "id": "W2DKfNhLrLVn"
   },
   "outputs": [
    {
     "data": {
      "text/plain": [
       "['Butters has an average utterance length of 11.620292083013068',\n",
       " 'Kyle has an average utterance length of 9.190449359064656',\n",
       " 'Cartman has an average utterance length of 13.69500716185799',\n",
       " 'Kenny has an average utterance length of 5.009080590238366',\n",
       " 'Stan has an average utterance length of 9.195703125']"
      ]
     },
     "execution_count": 8,
     "metadata": {},
     "output_type": "execute_result"
    }
   ],
   "source": [
    "seq_length(['Butters', 'Kyle', 'Cartman', 'Kenny', 'Stan'], south_park)"
   ]
  },
  {
   "cell_type": "code",
   "execution_count": 9,
   "metadata": {
    "id": "ovRoIM1MrMkv"
   },
   "outputs": [
    {
     "data": {
      "text/plain": [
       "['Butters speaks 13990 words, of which 637 are swear words. This is 5%',\n",
       " 'Kyle speaks 30234 words, of which 2019 are swear words. This is 7%',\n",
       " 'Cartman speaks 63752 words, of which 4432 are swear words. This is 7%',\n",
       " 'Kenny speaks 1990 words, of which 227 are swear words. This is 11%',\n",
       " 'Stan speaks 32874 words, of which 1970 are swear words. This is 6%']"
      ]
     },
     "execution_count": 9,
     "metadata": {},
     "output_type": "execute_result"
    }
   ],
   "source": [
    "swearing(['Butters', 'Kyle', 'Cartman', 'Kenny', 'Stan'], south_park)"
   ]
  },
  {
   "cell_type": "markdown",
   "metadata": {},
   "source": [
    "We also notice that the young teenagers use a lot of profound language, this is important to keep in mind when evaluating results, since it could have a significant influence."
   ]
  },
  {
   "cell_type": "markdown",
   "metadata": {
    "id": "bM1TkGvX7iS_"
   },
   "source": [
    "#### Friends Dataset\n",
    "\n",
    "The Friends corpus also spans 10 seasons and includes utterance id, utterance, to who the utterance is spoken to, the tokens (tokenized utterance/line), the season and episode information. Similar to the South Park dataset, only the relevant columns were kept and similar processing steps such as labelling are performed."
   ]
  },
  {
   "cell_type": "code",
   "execution_count": 10,
   "metadata": {
    "id": "cTOA_G1h4fYC"
   },
   "outputs": [],
   "source": [
    "def load_friends(in_file):\n",
    "    with open(in_file) as f:\n",
    "        content = f.readlines()\n",
    "        \n",
    "    # Load json lines and keep columns of interest\n",
    "    df = pd.DataFrame([json.loads(line) for line in content])\n",
    "    df = df[['speaker', 'text']]\n",
    "    df = df[df['speaker'] != 'TRANSCRIPT_NOTE']\n",
    "    \n",
    "    significant_characters = df['speaker'].value_counts()[:30]\n",
    "    genders, ages = label('friends', significant_characters.index)\n",
    "    \n",
    "    df['source'] = 'Friends'\n",
    "    df['gender'] = df['speaker'].apply(lambda x: genders[x])\n",
    "    df['age'] = df['speaker'].apply(lambda x: ages[x])\n",
    "\n",
    "    df['length'] = df['text'].apply(lambda x: x.count(' ') + 1)\n",
    "    \n",
    "    return df"
   ]
  },
  {
   "cell_type": "code",
   "execution_count": 11,
   "metadata": {
    "id": "hbkbu1e9rO8M"
   },
   "outputs": [
    {
     "name": "stderr",
     "output_type": "stream",
     "text": [
      "100%|██████████| 30/30 [00:06<00:00,  4.78it/s]\n"
     ]
    }
   ],
   "source": [
    "friends = load_friends('data/friends.jsonl')"
   ]
  },
  {
   "cell_type": "code",
   "execution_count": 12,
   "metadata": {},
   "outputs": [
    {
     "data": {
      "image/png": "[encoded data removed]",
      "text/plain": [
       "<Figure size 720x1440 with 6 Axes>"
      ]
     },
     "metadata": {
      "needs_background": "light"
     },
     "output_type": "display_data"
    }
   ],
   "source": [
    "word_freq(['Monica Geller', 'Rachel Green', 'Phoebe Buffay', 'Joey Tribbiani', 'Chandler Bing', 'Ross Geller'], friends)"
   ]
  },
  {
   "cell_type": "markdown",
   "metadata": {},
   "source": [
    "We see that the statistical analysis of the Friends dataset doesn't seem particularly interesting, so we don't expect that the results will be influences a lot by the type of dialogue in this dataset."
   ]
  },
  {
   "cell_type": "code",
   "execution_count": 13,
   "metadata": {
    "id": "nH3jgTW3rPfC"
   },
   "outputs": [
    {
     "data": {
      "text/plain": [
       "['Monica Geller has an average utterance length of 9.778771475641328',\n",
       " 'Rachel Green has an average utterance length of 10.466938163112207',\n",
       " 'Phoebe Buffay has an average utterance length of 10.82239023743202',\n",
       " 'Joey Tribbiani has an average utterance length of 10.534023128423616',\n",
       " 'Chandler Bing has an average utterance length of 10.135971055088703',\n",
       " 'Ross Geller has an average utterance length of 10.43193974456937']"
      ]
     },
     "execution_count": 13,
     "metadata": {},
     "output_type": "execute_result"
    }
   ],
   "source": [
    "seq_length(['Monica Geller', 'Rachel Green', 'Phoebe Buffay', 'Joey Tribbiani', 'Chandler Bing', 'Ross Geller'], friends)"
   ]
  },
  {
   "cell_type": "code",
   "execution_count": 14,
   "metadata": {
    "id": "QXR4DTU0rQmh"
   },
   "outputs": [
    {
     "data": {
      "text/plain": [
       "['Monica Geller speaks 36412 words, of which 967 are swear words. This is 3%',\n",
       " 'Rachel Green speaks 41765 words, of which 1161 are swear words. This is 3%',\n",
       " 'Phoebe Buffay speaks 35690 words, of which 1008 are swear words. This is 3%',\n",
       " 'Joey Tribbiani speaks 38091 words, of which 894 are swear words. This is 2%',\n",
       " 'Chandler Bing speaks 37933 words, of which 949 are swear words. This is 3%',\n",
       " 'Ross Geller speaks 42095 words, of which 857 are swear words. This is 2%']"
      ]
     },
     "execution_count": 14,
     "metadata": {},
     "output_type": "execute_result"
    }
   ],
   "source": [
    "swearing(['Monica Geller', 'Rachel Green', 'Phoebe Buffay', 'Joey Tribbiani', 'Chandler Bing', 'Ross Geller'], friends)"
   ]
  },
  {
   "cell_type": "markdown",
   "metadata": {},
   "source": [
    "The amount of swearing doesn't stand out either."
   ]
  },
  {
   "cell_type": "markdown",
   "metadata": {
    "id": "XP93Mxpy8MwM"
   },
   "source": [
    "#### Movies Dataset\n",
    "This dataset is composed of multiple movies and hand annotated for the age and gender fields."
   ]
  },
  {
   "cell_type": "code",
   "execution_count": 15,
   "metadata": {
    "id": "ZdL1i5aO8QxY"
   },
   "outputs": [],
   "source": [
    "def load_movies(lines_file, meta_file):\n",
    "    # Load dataframes\n",
    "    kwargs = { 'delimiter': '\\ \\+\\+\\+\\$\\+\\+\\+\\ ', 'encoding' : 'latin-1', 'header' : None }\n",
    "    line_df = pd.read_csv(lines_file, engine='python', **kwargs)\n",
    "    meta_df = pd.read_csv(meta_file, engine='python', **kwargs)\n",
    "\n",
    "    # Set column names\n",
    "    line_df.columns = ['line_id','char_id','movie_id','char_name','text']\n",
    "    meta_df.columns = ['char_id','char_name','movie_id', 'movie_name','gender','credits_pos']\n",
    "\n",
    "    # Fromalize meta dataframe\n",
    "    meta_df['gender'] = meta_df['gender'].str.strip()\n",
    "    meta_df = meta_df[meta_df['gender'] != '?']\n",
    "    meta_df['gender'] = meta_df['gender'].apply(lambda x: 'Male' if x in ['m', 'M'] else 'Female') \n",
    "\n",
    "    # Merge meta and lines df's on movie_id and char_name\n",
    "    df = pd.merge(line_df, meta_df, how='inner', on=['movie_id', 'char_name'],\n",
    "                  left_index=False, right_index=False, sort=True, copy=False,\n",
    "                  indicator=False).drop('char_id_y', axis=1)\n",
    "    df = df.rename(columns={ 'char_id_x': 'char_id' })\n",
    "\n",
    "    # Cleanup final df\n",
    "    df['age'] = df['char_id'].apply(lambda x: data_utils.MOVIE_CHAR_TO_AGE.get(x))\n",
    "    df = df[['movie_name', 'char_name', 'text', 'age', 'gender']]\n",
    "    df = df.rename(columns={ 'movie_name': 'source', 'char_name': 'speaker' })\n",
    "\n",
    "    df['length'] = df['text'].apply(lambda x: x.count(' ') + 1)\n",
    "\n",
    "    return df"
   ]
  },
  {
   "cell_type": "code",
   "execution_count": 16,
   "metadata": {
    "id": "pUHXH1r5rWAP"
   },
   "outputs": [],
   "source": [
    "movies = load_movies('data/movie_lines.txt', 'data/movie_meta.txt')"
   ]
  },
  {
   "cell_type": "code",
   "execution_count": 17,
   "metadata": {
    "id": "CKSD8XAarWsK"
   },
   "outputs": [],
   "source": [
    "full_df = pd.concat([movies, friends, south_park])\n",
    "full_df = full_df[full_df['length'] < 100]"
   ]
  },
  {
   "cell_type": "markdown",
   "metadata": {
    "id": "1NUJlT3T8_6o"
   },
   "source": [
    "### Approaches\n",
    "In this section, we will elaborate on the models we have used, after which we initialize and train our classification models on the datasets. \n",
    "\n",
    "#### Models used\n",
    "BERT (Bidirectional Encoder Representations from Transformers) is a method of pre-training language representations. This means that we train a general-purpose model which is able to understand the language on a text corpus (In our case, the datasets mentioned earlier). The pre-trained model is thereafter used for NLP tasks, such as text classification. We have decided to use BERT since it is a state-of-the-art encoder which has shown to outperform previous methods. BERT’s key technical innovation is the application of a bi-directional Transformer (an attention model) on language modelling tasks. This model has a better sense of context within a  language and has shown outstanding results for NLP-tasks[9]. Moreover, its code is open-source and user-friendly, making it possible to actually use and implement it.\n",
    "\n",
    "We used the smaller version of Google’s BERT model, called ‘DistilBERT’ to process the input dialogue lines and extract information from it. A smaller version was used since we had limited computational power. The information is encoded in the form of a vector/matrix that can be seen as the embedding of the input. This vector is used by the scikit Logistic Regression model to actually do the classification by predicting the labels. We used a pre-trained DistilBERT model that was trained on the English language."
   ]
  },
  {
   "cell_type": "code",
   "execution_count": 18,
   "metadata": {
    "id": "iKf1fDqfimlw"
   },
   "outputs": [],
   "source": [
    "device = 'cuda' if torch.cuda.is_available() else 'cpu'\n",
    "\n",
    "# Load BERT\n",
    "bert_model = ppb.DistilBertModel.from_pretrained('distilbert-base-uncased')\n",
    "bert_tokenizer = ppb.DistilBertTokenizer.from_pretrained('distilbert-base-uncased')\n",
    "bert_model = bert_model.to(device)"
   ]
  },
  {
   "cell_type": "markdown",
   "metadata": {
    "id": "839Pm4Ox7WSH"
   },
   "source": [
    "The `get_bert_features` function does the following: encoding the dialogue lines in a desired-format for BERT, padding and masking the input and finally returning the features. The BERT tokenizer, besides encoding the sentences, also adds special tokens, which are needed for classification, at the beginning and end of a sequence. Next, the tokenizer replaces the tokens with corresponding ids from the embedding table. This results in a list of lists or vectors of uneven lengths. In order to be able to give the input to DistilBERT in one go, we need to make it a suitable input matrix. To do so, the vectors need to be padded to equal sizes. The shorter sentences are padded with an id of 0. Nevertheless, we don’t want DistilBERT to read those zeroes, hence we mask them to let BERT know that they should be ignored. Finally, the input matrix can be given to DistilBERT. The processed results are given to ‘last_hidden_states’. The features we want is only a slice of the full output, corresponding to the complete sentence embeddings. \n",
    "\n",
    "The `get_bert_features` function was used on both the age and gender training and test sets to obtain age and gender features as input for the LR models. It should be noted that the padding step of the `get_bert_features` function results in a sparse matrix, which can take a lot of unnecessary computing power. For example, if in the dataset, there’s one sentence that’s 200 tokens long, whilst most lines only consist of 50 tokens, then the resulting matrix will have a lot of insignificant zeros. To limit the amount of zeros in the input matrix, we constrain the length of sentences given to the `get_bert_features` function.\n",
    "The features and corresponding labels were first again split into training and test features with a 3:1 ratio. Here, the test features are used to test the accuracy of the LR model. We used separate LR models for age and gender, because they are two separate predictions. The models were trained using the train features and tested with the test features."
   ]
  },
  {
   "cell_type": "code",
   "execution_count": 19,
   "metadata": {
    "id": "bXT6LLbtreGS"
   },
   "outputs": [],
   "source": [
    "def get_bert_features(batch):\n",
    "    encoded = batch['text'].apply(lambda x: bert_tokenizer.encode(x, add_special_tokens=True))\n",
    "    \n",
    "    # Apply zero-padding\n",
    "    max_len = max(len(x) for x in encoded.values)\n",
    "    padded = np.array([x + [0] * (max_len - len(x)) for x in encoded.values])\n",
    "\n",
    "    # Calculate attention mask\n",
    "    mask = np.where(padded != 0, 1, 0)\n",
    "    \n",
    "    # Create input tensors for BERT\n",
    "    X = torch.tensor(padded).to(device)\n",
    "    mask = torch.tensor(mask).to(device)\n",
    "    \n",
    "    # Forward input through model\n",
    "    with torch.no_grad():\n",
    "        y = bert_model(X, attention_mask=mask)\n",
    "    result = y[0][:, 0, :].cpu().numpy()\n",
    "    \n",
    "    # Clear CUDA memory\n",
    "    if device == 'cuda':\n",
    "        del X, mask, y\n",
    "        torch.cuda.empty_cache()\n",
    "    return result"
   ]
  },
  {
   "cell_type": "code",
   "execution_count": 20,
   "metadata": {
    "id": "yV5wYUN9rfYr"
   },
   "outputs": [],
   "source": [
    "batch_size = 256"
   ]
  },
  {
   "cell_type": "code",
   "execution_count": 21,
   "metadata": {
    "id": "lERw4Asorgo2"
   },
   "outputs": [
    {
     "name": "stderr",
     "output_type": "stream",
     "text": [
      "100%|██████████| 1459/1459 [12:41<00:00,  1.92it/s]\n"
     ]
    }
   ],
   "source": [
    "full_df['features'] = None\n",
    "for i in tqdm(range(0, len(full_df), batch_size)):\n",
    "    features = get_bert_features(full_df[i:i + batch_size])\n",
    "    features_df = pd.DataFrame(data={ 'features': list(features) })\n",
    "    full_df.iloc[i:i + batch_size, -1] = pd.DataFrame(data={ 'features': list(features) })"
   ]
  },
  {
   "cell_type": "code",
   "execution_count": 22,
   "metadata": {
    "id": "xmMubvUUriEB"
   },
   "outputs": [],
   "source": [
    "gen_df = full_df[(full_df['gender'].notnull()) & (full_df['gender'] != '')]\n",
    "age_df = full_df[(full_df['age'].notnull()) & (full_df['age'] != '')]"
   ]
  },
  {
   "cell_type": "code",
   "execution_count": 23,
   "metadata": {
    "id": "GVY6ia6crjJq"
   },
   "outputs": [
    {
     "data": {
      "text/plain": [
       "Male      234140\n",
       "Female    101226\n",
       "Name: gender, dtype: int64"
      ]
     },
     "execution_count": 23,
     "metadata": {},
     "output_type": "execute_result"
    },
    {
     "data": {
      "image/png": "[encoded data removed]",
      "text/plain": [
       "<Figure size 432x288 with 1 Axes>"
      ]
     },
     "metadata": {
      "needs_background": "light"
     },
     "output_type": "display_data"
    }
   ],
   "source": [
    "gen_df['gender'].value_counts().sort_values().plot(kind='bar')\n",
    "gen_df['gender'].value_counts()"
   ]
  },
  {
   "cell_type": "code",
   "execution_count": 24,
   "metadata": {
    "id": "l4-BZC2Crk1Y"
   },
   "outputs": [
    {
     "data": {
      "text/plain": [
       "young adult (20-35)    53226\n",
       "teen (10-19)           29774\n",
       "adult (36-50)           6036\n",
       "kid (0-9)               1197\n",
       "elderly (50+)            408\n",
       "Name: age, dtype: int64"
      ]
     },
     "execution_count": 24,
     "metadata": {},
     "output_type": "execute_result"
    },
    {
     "data": {
      "image/png": "[encoded data removed]",
      "text/plain": [
       "<Figure size 432x288 with 1 Axes>"
      ]
     },
     "metadata": {
      "needs_background": "light"
     },
     "output_type": "display_data"
    }
   ],
   "source": [
    "age_df['age'].value_counts().sort_values().plot(kind='bar')\n",
    "age_df['age'].value_counts()"
   ]
  },
  {
   "cell_type": "markdown",
   "metadata": {
    "id": "4AFg_yQX5e8X"
   },
   "source": [
    "Since the distributions were rather skewed in all the shows, we had to mix and match data from the three corpora in order to obtain somewhat fair training and test datasets. Doing so helps prevent the classifier from learning biased predictions, because of certain labels occurring much more frequently in the training data. This opposed our original idea of using one or two datasets as training data and the others as test data to see if the trained model also worked on other corpora."
   ]
  },
  {
   "cell_type": "code",
   "execution_count": 25,
   "metadata": {},
   "outputs": [
    {
     "data": {
      "text/plain": [
       "<AxesSubplot:>"
      ]
     },
     "execution_count": 25,
     "metadata": {},
     "output_type": "execute_result"
    },
    {
     "data": {
      "image/png": "[encoded data removed]",
      "text/plain": [
       "<Figure size 432x288 with 1 Axes>"
      ]
     },
     "metadata": {
      "needs_background": "light"
     },
     "output_type": "display_data"
    }
   ],
   "source": [
    "subs = (\n",
    "    gen_df[gen_df['gender'] == 'Male'].sample(frac=0.43),\n",
    "    gen_df[gen_df['gender'] == 'Female']\n",
    ")\n",
    "\n",
    "gen_df = pd.concat((subs))\n",
    "gen_df['gender'].value_counts().sort_values().plot(kind='bar')"
   ]
  },
  {
   "cell_type": "code",
   "execution_count": 26,
   "metadata": {},
   "outputs": [
    {
     "data": {
      "text/plain": [
       "<AxesSubplot:>"
      ]
     },
     "execution_count": 26,
     "metadata": {},
     "output_type": "execute_result"
    },
    {
     "data": {
      "image/png": "[encoded data removed]",
      "text/plain": [
       "<Figure size 432x288 with 1 Axes>"
      ]
     },
     "metadata": {
      "needs_background": "light"
     },
     "output_type": "display_data"
    }
   ],
   "source": [
    "subs = (\n",
    "    age_df[age_df['age'] == 'young adult (20-35)'].sample(frac=0.7),\n",
    "    age_df[age_df['age'] == 'teen (10-19)'],\n",
    "    age_df[age_df['age'] == 'adult (36-50)'],\n",
    "    age_df[age_df['age'] == 'kid (0-9)'],\n",
    "    age_df[age_df['age'] == 'elderly (50+)']\n",
    ")\n",
    "\n",
    "age_df = pd.concat((subs))\n",
    "age_df['age'].value_counts().sort_values().plot(kind='bar')"
   ]
  },
  {
   "cell_type": "code",
   "execution_count": 27,
   "metadata": {
    "id": "TvRhTR2CrngF"
   },
   "outputs": [],
   "source": [
    "# Initialize models\n",
    "gen_model = LogisticRegression(n_jobs=4)\n",
    "age_model = LogisticRegression(n_jobs=4)"
   ]
  },
  {
   "cell_type": "markdown",
   "metadata": {
    "id": "z0Ld24vw51-D"
   },
   "source": [
    "We selected a range of characters from the 3 datasets with specific gender and age labels. For the training dataset we sampled the dialogue equally across those with different gender and age labels. The test set consists of multiple dataframes with the residual dialogue of one specific character. This test set will be used to test the accuracy of the model, predicting labels for a specific character. We created two separate training and test sets for age and gender."
   ]
  },
  {
   "cell_type": "markdown",
   "metadata": {
    "id": "Y-5VwWwgHRat"
   },
   "source": [
    "Using the training datasets, the logistic regression models are trained."
   ]
  },
  {
   "cell_type": "code",
   "execution_count": 28,
   "metadata": {
    "id": "w7FTtQgJrpGt"
   },
   "outputs": [
    {
     "data": {
      "text/plain": [
       "LogisticRegression(n_jobs=4)"
      ]
     },
     "execution_count": 28,
     "metadata": {},
     "output_type": "execute_result"
    }
   ],
   "source": [
    "split = train_test_split(gen_df['features'], gen_df['gender'], test_size=0.2)\n",
    "X_gen_train, X_gen_test, y_gen_train, y_gen_test = split\n",
    "\n",
    "X_gen_train = np.array(X_gen_train.values.tolist())\n",
    "y_gen_train = np.array(y_gen_train.values.tolist())\n",
    "\n",
    "gen_model.fit(X_gen_train, y_gen_train)"
   ]
  },
  {
   "cell_type": "code",
   "execution_count": 29,
   "metadata": {
    "id": "rish6fr6rqZ2"
   },
   "outputs": [
    {
     "data": {
      "text/plain": [
       "LogisticRegression(n_jobs=4)"
      ]
     },
     "execution_count": 29,
     "metadata": {},
     "output_type": "execute_result"
    }
   ],
   "source": [
    "split = train_test_split(age_df['features'], age_df['age'], test_size=0.2)\n",
    "X_age_train, X_age_test, y_age_train, y_age_test = split\n",
    "\n",
    "X_age_train = np.array(X_age_train.values.tolist())\n",
    "y_age_train = np.array(y_age_train.values.tolist())\n",
    "\n",
    "age_model.fit(X_age_train, y_age_train)"
   ]
  },
  {
   "cell_type": "markdown",
   "metadata": {
    "id": "DnGQXBF76qjy"
   },
   "source": [
    "For personality predictions a bidirectional *long short term memory* (LSTM) network with attention mechanisms is used. A LSTM is a type of *recurrent neural network* (RNN) that learns to model sequences of data. By modelling the sequences in both directions (from beginning to end and vice versa; bidirectional), the model learns to make predictions on the sequence. Attetion mechanisms are used to allow the model to learn what information is relevant at each step of a sequence.\n",
    "\n",
    "Code from the <a href='https://github.com/hjian42/automatic-personality-prediction'>Modeling Personality with Attentive Networks and Contextual Embeddings</a> repository is used and sligthly modified to train the model. The `train_persona` function trains the LSTM model using 10-fold cross-validation, from which the best performing model is stored, such that the model can be used later on. 10-fold cross-validation uses the available data more efficiently, as all data is used during training, instead of a smaller (training) subset. The amount of data available is very limited which makes 10-fold cross-validation necessary. To reduce the complexity of the task, for each personality trait a seperate model is trained. Each model then learns to score a piece of conversation for a single personality trait."
   ]
  },
  {
   "cell_type": "code",
   "execution_count": 30,
   "metadata": {
    "id": "AmZ-7giFXB7h"
   },
   "outputs": [
    {
     "name": "stdout",
     "output_type": "stream",
     "text": [
      "The size of data is 711\n",
      "BEFORE Pruning:\n",
      "Min=2, Mean=56, Max=443\n",
      "Total majority is 56.962025316455694 for cAGR.\n",
      "Real Vocab Size: 3542\n",
      "Truncated Vocab Size: 10000\n",
      "AFTER Pruning:\n",
      "Min=1, Mean=29, Max=218\n",
      "Total majority is 56.962025316455694 for cAGR.\n",
      "working on ==cAGR==\n",
      "----cAGR: 1----\n",
      "----highest evaluation accuracy is 63.888890\n",
      "----dominant distribution in data is 56.962025\n",
      "New best evaluation, saving model to models/cAGR_best.h5\n",
      "working on ==cAGR==\n",
      "----cAGR: 2----\n",
      "----highest evaluation accuracy is 69.014084\n",
      "----dominant distribution in data is 56.962025\n",
      "New best evaluation, saving model to models/cAGR_best.h5\n",
      "working on ==cAGR==\n",
      "----cAGR: 3----\n",
      "----highest evaluation accuracy is 63.380283\n",
      "----dominant distribution in data is 56.962025\n",
      "working on ==cAGR==\n",
      "----cAGR: 4----\n",
      "----highest evaluation accuracy is 57.746476\n",
      "----dominant distribution in data is 56.962025\n",
      "working on ==cAGR==\n",
      "----cAGR: 5----\n",
      "----highest evaluation accuracy is 67.605633\n",
      "----dominant distribution in data is 56.962025\n",
      "working on ==cAGR==\n",
      "----cAGR: 6----\n",
      "----highest evaluation accuracy is 64.788735\n",
      "----dominant distribution in data is 56.962025\n",
      "working on ==cAGR==\n",
      "----cAGR: 7----\n",
      "----highest evaluation accuracy is 61.971831\n",
      "----dominant distribution in data is 56.962025\n",
      "working on ==cAGR==\n",
      "----cAGR: 8----\n",
      "----highest evaluation accuracy is 69.014084\n",
      "----dominant distribution in data is 56.962025\n",
      "working on ==cAGR==\n",
      "----cAGR: 9----\n",
      "----highest evaluation accuracy is 64.788735\n",
      "----dominant distribution in data is 56.962025\n",
      "working on ==cAGR==\n",
      "----cAGR: 10----\n",
      "----highest evaluation accuracy is 59.154928\n",
      "----dominant distribution in data is 56.962025\n",
      "The 10-fold CV score is 0.6413536787033081\n",
      "The size of data is 711\n",
      "BEFORE Pruning:\n",
      "Min=2, Mean=56, Max=443\n",
      "Total majority is 53.586497890295355 for cCON.\n",
      "Real Vocab Size: 3542\n",
      "Truncated Vocab Size: 10000\n",
      "AFTER Pruning:\n",
      "Min=1, Mean=29, Max=218\n",
      "Total majority is 53.586497890295355 for cCON.\n",
      "working on ==cCON==\n",
      "----cCON: 1----\n",
      "----highest evaluation accuracy is 59.722221\n",
      "----dominant distribution in data is 53.586498\n",
      "New best evaluation, saving model to models/cCON_best.h5\n",
      "working on ==cCON==\n",
      "----cCON: 2----\n",
      "----highest evaluation accuracy is 53.521127\n",
      "----dominant distribution in data is 53.586498\n",
      "working on ==cCON==\n",
      "----cCON: 3----\n",
      "----highest evaluation accuracy is 70.422536\n",
      "----dominant distribution in data is 53.586498\n",
      "New best evaluation, saving model to models/cCON_best.h5\n",
      "working on ==cCON==\n",
      "----cCON: 4----\n",
      "----highest evaluation accuracy is 53.521127\n",
      "----dominant distribution in data is 53.586498\n",
      "working on ==cCON==\n",
      "----cCON: 5----\n",
      "----highest evaluation accuracy is 53.521127\n",
      "----dominant distribution in data is 53.586498\n",
      "working on ==cCON==\n",
      "----cCON: 6----\n",
      "----highest evaluation accuracy is 57.746476\n",
      "----dominant distribution in data is 53.586498\n",
      "working on ==cCON==\n",
      "----cCON: 7----\n",
      "----highest evaluation accuracy is 57.746476\n",
      "----dominant distribution in data is 53.586498\n",
      "working on ==cCON==\n",
      "----cCON: 8----\n",
      "----highest evaluation accuracy is 53.521127\n",
      "----dominant distribution in data is 53.586498\n",
      "working on ==cCON==\n",
      "----cCON: 9----\n",
      "----highest evaluation accuracy is 57.746476\n",
      "----dominant distribution in data is 53.586498\n",
      "working on ==cCON==\n",
      "----cCON: 10----\n",
      "----highest evaluation accuracy is 57.746476\n",
      "----dominant distribution in data is 53.586498\n",
      "The 10-fold CV score is 0.5752151668071747\n",
      "The size of data is 711\n",
      "BEFORE Pruning:\n",
      "Min=2, Mean=56, Max=443\n",
      "Total majority is 56.118143459915615 for cEXT.\n",
      "Real Vocab Size: 3542\n",
      "Truncated Vocab Size: 10000\n",
      "AFTER Pruning:\n",
      "Min=1, Mean=29, Max=218\n",
      "Total majority is 56.118143459915615 for cEXT.\n",
      "working on ==cEXT==\n",
      "----cEXT: 1----\n",
      "----highest evaluation accuracy is 59.722221\n",
      "----dominant distribution in data is 56.118143\n",
      "New best evaluation, saving model to models/cEXT_best.h5\n",
      "working on ==cEXT==\n",
      "----cEXT: 2----\n",
      "----highest evaluation accuracy is 59.154928\n",
      "----dominant distribution in data is 56.118143\n",
      "working on ==cEXT==\n",
      "----cEXT: 3----\n",
      "----highest evaluation accuracy is 56.338030\n",
      "----dominant distribution in data is 56.118143\n",
      "working on ==cEXT==\n",
      "----cEXT: 4----\n",
      "----highest evaluation accuracy is 56.338030\n",
      "----dominant distribution in data is 56.118143\n",
      "working on ==cEXT==\n",
      "----cEXT: 5----\n",
      "----highest evaluation accuracy is 60.563380\n",
      "----dominant distribution in data is 56.118143\n",
      "New best evaluation, saving model to models/cEXT_best.h5\n",
      "working on ==cEXT==\n",
      "----cEXT: 6----\n",
      "----highest evaluation accuracy is 61.971831\n",
      "----dominant distribution in data is 56.118143\n",
      "New best evaluation, saving model to models/cEXT_best.h5\n",
      "working on ==cEXT==\n",
      "----cEXT: 7----\n",
      "----highest evaluation accuracy is 59.154928\n",
      "----dominant distribution in data is 56.118143\n",
      "working on ==cEXT==\n",
      "----cEXT: 8----\n",
      "----highest evaluation accuracy is 56.338030\n",
      "----dominant distribution in data is 56.118143\n",
      "working on ==cEXT==\n",
      "----cEXT: 9----\n",
      "----highest evaluation accuracy is 56.338030\n",
      "----dominant distribution in data is 56.118143\n",
      "working on ==cEXT==\n",
      "----cEXT: 10----\n",
      "----highest evaluation accuracy is 59.154928\n",
      "----dominant distribution in data is 56.118143\n",
      "The 10-fold CV score is 0.5850743353366852\n",
      "The size of data is 711\n",
      "BEFORE Pruning:\n",
      "Min=2, Mean=56, Max=443\n",
      "Total majority is 64.9789029535865 for cOPN.\n",
      "Real Vocab Size: 3542\n",
      "Truncated Vocab Size: 10000\n",
      "AFTER Pruning:\n",
      "Min=1, Mean=29, Max=218\n",
      "Total majority is 64.9789029535865 for cOPN.\n",
      "working on ==cOPN==\n",
      "----cOPN: 1----\n",
      "----highest evaluation accuracy is 65.277779\n",
      "----dominant distribution in data is 64.978903\n",
      "New best evaluation, saving model to models/cOPN_best.h5\n",
      "working on ==cOPN==\n",
      "----cOPN: 2----\n",
      "----highest evaluation accuracy is 70.422536\n",
      "----dominant distribution in data is 64.978903\n",
      "New best evaluation, saving model to models/cOPN_best.h5\n",
      "working on ==cOPN==\n",
      "----cOPN: 3----\n",
      "----highest evaluation accuracy is 64.788735\n",
      "----dominant distribution in data is 64.978903\n",
      "working on ==cOPN==\n",
      "----cOPN: 4----\n",
      "----highest evaluation accuracy is 64.788735\n",
      "----dominant distribution in data is 64.978903\n",
      "working on ==cOPN==\n",
      "----cOPN: 5----\n",
      "----highest evaluation accuracy is 64.788735\n",
      "----dominant distribution in data is 64.978903\n",
      "working on ==cOPN==\n",
      "----cOPN: 6----\n",
      "----highest evaluation accuracy is 67.605633\n",
      "----dominant distribution in data is 64.978903\n",
      "working on ==cOPN==\n",
      "----cOPN: 7----\n",
      "----highest evaluation accuracy is 64.788735\n",
      "----dominant distribution in data is 64.978903\n",
      "working on ==cOPN==\n",
      "----cOPN: 8----\n",
      "----highest evaluation accuracy is 67.605633\n",
      "----dominant distribution in data is 64.978903\n",
      "working on ==cOPN==\n",
      "----cOPN: 9----\n",
      "----highest evaluation accuracy is 67.605633\n",
      "----dominant distribution in data is 64.978903\n",
      "working on ==cOPN==\n",
      "----cOPN: 10----\n",
      "----highest evaluation accuracy is 70.422536\n",
      "----dominant distribution in data is 64.978903\n",
      "The 10-fold CV score is 0.668094688653946\n",
      "The size of data is 711\n",
      "BEFORE Pruning:\n",
      "Min=2, Mean=56, Max=443\n",
      "Total majority is 53.30520393811533 for cNEU.\n",
      "Real Vocab Size: 3542\n",
      "Truncated Vocab Size: 10000\n",
      "AFTER Pruning:\n",
      "Min=1, Mean=29, Max=218\n",
      "Total majority is 53.30520393811533 for cNEU.\n",
      "working on ==cNEU==\n",
      "----cNEU: 1----\n",
      "----highest evaluation accuracy is 61.111110\n",
      "----dominant distribution in data is 53.305204\n",
      "New best evaluation, saving model to models/cNEU_best.h5\n",
      "working on ==cNEU==\n",
      "----cNEU: 2----\n",
      "----highest evaluation accuracy is 52.112675\n",
      "----dominant distribution in data is 53.305204\n",
      "working on ==cNEU==\n",
      "----cNEU: 3----\n",
      "----highest evaluation accuracy is 53.521127\n",
      "----dominant distribution in data is 53.305204\n",
      "working on ==cNEU==\n",
      "----cNEU: 4----\n",
      "----highest evaluation accuracy is 57.746476\n",
      "----dominant distribution in data is 53.305204\n",
      "working on ==cNEU==\n",
      "----cNEU: 5----\n",
      "----highest evaluation accuracy is 57.746476\n",
      "----dominant distribution in data is 53.305204\n",
      "working on ==cNEU==\n",
      "----cNEU: 6----\n",
      "----highest evaluation accuracy is 53.521127\n",
      "----dominant distribution in data is 53.305204\n",
      "working on ==cNEU==\n",
      "----cNEU: 7----\n",
      "----highest evaluation accuracy is 57.746476\n",
      "----dominant distribution in data is 53.305204\n",
      "working on ==cNEU==\n",
      "----cNEU: 8----\n",
      "----highest evaluation accuracy is 53.521127\n",
      "----dominant distribution in data is 53.305204\n",
      "working on ==cNEU==\n",
      "----cNEU: 9----\n",
      "----highest evaluation accuracy is 64.788735\n",
      "----dominant distribution in data is 53.305204\n",
      "New best evaluation, saving model to models/cNEU_best.h5\n"
     ]
    },
    {
     "name": "stdout",
     "output_type": "stream",
     "text": [
      "working on ==cNEU==\n",
      "----cNEU: 10----\n",
      "----highest evaluation accuracy is 57.746476\n",
      "----dominant distribution in data is 53.305204\n",
      "The 10-fold CV score is 0.5695618033409119\n"
     ]
    }
   ],
   "source": [
    "config.ModelName = 'Attention'\n",
    "config.Params.n_epoch = 50\n",
    "\n",
    "persona_acc = train_persona(config)"
   ]
  },
  {
   "cell_type": "markdown",
   "metadata": {
    "id": "7e8fq20-YpYz"
   },
   "source": [
    "## Evaluation\n",
    "To evaluate the trained gender and age prediction model, we run the test dataset with its corresponding labels through the scikit Logistic Regression `score` function. The `score` function computes the mean accuracy of the given input, by running every data row of the test set through the scikit Logistic Regression `predict` function and comparing the predicted label with the actual label. Hence, the mean accuracy represents the percentage of correctly predicted labels."
   ]
  },
  {
   "cell_type": "code",
   "execution_count": 31,
   "metadata": {
    "id": "wfiK6Fwnamlj"
   },
   "outputs": [
    {
     "name": "stdout",
     "output_type": "stream",
     "text": [
      "Validation accuracy of the gender model: 0.6017037293843792\n"
     ]
    },
    {
     "data": {
      "image/png": "[encoded data removed]",
      "text/plain": [
       "<Figure size 648x648 with 2 Axes>"
      ]
     },
     "metadata": {
      "needs_background": "light"
     },
     "output_type": "display_data"
    }
   ],
   "source": [
    "X_gen_test = np.array(X_gen_test.values.tolist())\n",
    "y_gen_test = np.array(y_gen_test.values.tolist())\n",
    "\n",
    "gen_acc = gen_model.score(X_gen_test, y_gen_test)\n",
    "print(f'Validation accuracy of the gender model: {gen_acc}')\n",
    "\n",
    "fig, ax = plt.subplots(figsize=(9, 9))\n",
    "plot_confusion_matrix(gen_model, X_gen_test, y_gen_test, cmap=plt.cm.Blues, normalize='true', ax=ax)\n",
    "plt.show()"
   ]
  },
  {
   "cell_type": "code",
   "execution_count": 32,
   "metadata": {
    "id": "l4lTAqcMrvNR"
   },
   "outputs": [
    {
     "name": "stdout",
     "output_type": "stream",
     "text": [
      "Validation accuracy of the age model: 0.6897221292266488\n"
     ]
    },
    {
     "data": {
      "image/png": "[encoded data removed]",
      "text/plain": [
       "<Figure size 648x648 with 2 Axes>"
      ]
     },
     "metadata": {
      "needs_background": "light"
     },
     "output_type": "display_data"
    }
   ],
   "source": [
    "X_age_test = np.array(X_age_test.values.tolist())\n",
    "y_age_test = np.array(y_age_test.values.tolist())\n",
    "\n",
    "age_acc = age_model.score(X_age_test, y_age_test)\n",
    "print(f'Validation accuracy of the age model: {age_acc}')\n",
    "\n",
    "fig, ax = plt.subplots(figsize=(9, 9))\n",
    "plot_confusion_matrix(age_model, X_age_test, y_age_test, cmap=plt.cm.Blues, normalize='true', ax=ax)\n",
    "plt.show()"
   ]
  },
  {
   "cell_type": "code",
   "execution_count": 33,
   "metadata": {},
   "outputs": [
    {
     "name": "stdout",
     "output_type": "stream",
     "text": [
      "10-fold validation accuracy of the personality model: 0.607859934568405\n"
     ]
    }
   ],
   "source": [
    "print(f'10-fold validation accuracy of the personality model: {persona_acc}')"
   ]
  },
  {
   "cell_type": "markdown",
   "metadata": {
    "id": "wTpXhK4g7ZUw"
   },
   "source": [
    "The gender model gets roughly a 60% accuracy, whereas the age model gets an accuracy of almost 70%. These accuracies are already better than a random/dummy predictor as e.g. for the gender prediction, the categories are roughly 50/50 split into male/female, hence a dummy predictor would have an accuracy of 50%.\n",
    "\n",
    "The confusion matrices show that the gender model classifies dialogue of a female character slightly more often correct than the dialogue of a male character, with an accuracy of 65% for females against 56% for males. Furthermore, the age model has the highest accuracy of 84% for the young adult category, followed by decent accuracies of 66 and 69% for the categories kid and teen. It can also be noted that the teen category is most often incorrectly classified as a young adult and kids are more frequently incorrectly classified as teens. Lastly, elderly and adults are generally misclassified as either teens or young adults.\n",
    "\n",
    "Finally, the personalities model makes predictions with average accuracy of 60% over the 10 train/test splits. This is also better than a random classifier could get, as the majority class is again 50% of the dataset. "
   ]
  },
  {
   "cell_type": "markdown",
   "metadata": {
    "id": "vdDyDqeGaoXr"
   },
   "source": [
    "### Results"
   ]
  },
  {
   "cell_type": "markdown",
   "metadata": {},
   "source": [
    "The function below shows more prediction examples and whether it was correct, along with additional information such as the dialogue line that was used to predict the label."
   ]
  },
  {
   "cell_type": "code",
   "execution_count": 34,
   "metadata": {
    "id": "CAyLjwmSatgi",
    "scrolled": false
   },
   "outputs": [],
   "source": [
    "def show_samples(model, df, target, n_samples=25):\n",
    "    n_samples = 50\n",
    "    pd.options.display.max_rows = n_samples\n",
    "    pd.options.display.max_colwidth = 100\n",
    "\n",
    "    sample_rows = df.sample(n=n_samples)\n",
    "    y_hat = model.predict(sample_rows['features'].values.tolist())\n",
    "    return pd.DataFrame({ 'speaker': sample_rows['speaker'],\n",
    "                          'text': sample_rows['text'],\n",
    "                          'label': sample_rows[target],\n",
    "                          'predicted': y_hat,\n",
    "                          'correct': sample_rows[target] == y_hat})"
   ]
  },
  {
   "cell_type": "markdown",
   "metadata": {},
   "source": [
    "Thus now the models are able to predict or classify a gender and age label, given a dialogue line. However, we want to predict the gender and age of a character given all his/her dialogue lines. To do so, we simply let the model predict labels for each line of a specific character and take the most frequent label as final prediction. "
   ]
  },
  {
   "cell_type": "code",
   "execution_count": 35,
   "metadata": {},
   "outputs": [],
   "source": [
    "def analyze_character_predictions(model, df, characters):\n",
    "    results = { c: [] for c in ['Speaker'] + list(model.classes_) }\n",
    "    \n",
    "    for char in characters:\n",
    "        char_in = df[df['speaker'] == char]['features'].values.tolist()\n",
    "        y_hat = model.predict(char_in)\n",
    "        \n",
    "        value_counts = pd.Series(y_hat).value_counts()\n",
    "        value_counts_sum = sum(value_counts)\n",
    "        \n",
    "        for c in list(model.classes_):\n",
    "            c_value = value_counts.get(c)\n",
    "            if c_value is not None:\n",
    "                score = c_value / value_counts_sum\n",
    "                results[c].append(f'{score * 100:.2f}%')\n",
    "            else:\n",
    "                results[c].append('0%')\n",
    "        results['Speaker'].append(char)\n",
    "        \n",
    "    return pd.DataFrame(results)"
   ]
  },
  {
   "cell_type": "code",
   "execution_count": 36,
   "metadata": {},
   "outputs": [],
   "source": [
    "characters = ['Chandler Bing', 'Monica Geller', 'Butters', 'Cartman', 'Stan']"
   ]
  },
  {
   "cell_type": "code",
   "execution_count": 37,
   "metadata": {
    "scrolled": false
   },
   "outputs": [
    {
     "data": {
      "text/html": [
       "<div>\n",
       "<style scoped>\n",
       "    .dataframe tbody tr th:only-of-type {\n",
       "        vertical-align: middle;\n",
       "    }\n",
       "\n",
       "    .dataframe tbody tr th {\n",
       "        vertical-align: top;\n",
       "    }\n",
       "\n",
       "    .dataframe thead th {\n",
       "        text-align: right;\n",
       "    }\n",
       "</style>\n",
       "<table border=\"1\" class=\"dataframe\">\n",
       "  <thead>\n",
       "    <tr style=\"text-align: right;\">\n",
       "      <th></th>\n",
       "      <th>speaker</th>\n",
       "      <th>text</th>\n",
       "      <th>label</th>\n",
       "      <th>predicted</th>\n",
       "      <th>correct</th>\n",
       "    </tr>\n",
       "  </thead>\n",
       "  <tbody>\n",
       "    <tr>\n",
       "      <th>7146</th>\n",
       "      <td>JUNO</td>\n",
       "      <td>Either I just pissed my pants or...</td>\n",
       "      <td>Female</td>\n",
       "      <td>Male</td>\n",
       "      <td>False</td>\n",
       "    </tr>\n",
       "    <tr>\n",
       "      <th>87264</th>\n",
       "      <td>NICKY</td>\n",
       "      <td>I know. Why didn't you come to me? I mean, this is family, it ain't business. Meanwhile, you mak...</td>\n",
       "      <td>Male</td>\n",
       "      <td>Female</td>\n",
       "      <td>False</td>\n",
       "    </tr>\n",
       "    <tr>\n",
       "      <th>196351</th>\n",
       "      <td>LUTHOR</td>\n",
       "      <td>They stop for nothing.</td>\n",
       "      <td>Male</td>\n",
       "      <td>Female</td>\n",
       "      <td>False</td>\n",
       "    </tr>\n",
       "    <tr>\n",
       "      <th>29352</th>\n",
       "      <td>SUSAN</td>\n",
       "      <td>Opportunity?</td>\n",
       "      <td>Female</td>\n",
       "      <td>Male</td>\n",
       "      <td>False</td>\n",
       "    </tr>\n",
       "    <tr>\n",
       "      <th>50622</th>\n",
       "      <td>MELANIE</td>\n",
       "      <td>I'll just clear up here, and then dress.</td>\n",
       "      <td>Female</td>\n",
       "      <td>Female</td>\n",
       "      <td>True</td>\n",
       "    </tr>\n",
       "    <tr>\n",
       "      <th>182464</th>\n",
       "      <td>WENDY</td>\n",
       "      <td>Hi, hon.  How's it going?</td>\n",
       "      <td>Female</td>\n",
       "      <td>Female</td>\n",
       "      <td>True</td>\n",
       "    </tr>\n",
       "    <tr>\n",
       "      <th>213370</th>\n",
       "      <td>JOHN</td>\n",
       "      <td>How much.</td>\n",
       "      <td>Male</td>\n",
       "      <td>Female</td>\n",
       "      <td>False</td>\n",
       "    </tr>\n",
       "    <tr>\n",
       "      <th>55839</th>\n",
       "      <td>Joey Tribbiani</td>\n",
       "      <td>Uhuh.</td>\n",
       "      <td>Male</td>\n",
       "      <td>Male</td>\n",
       "      <td>True</td>\n",
       "    </tr>\n",
       "    <tr>\n",
       "      <th>59225</th>\n",
       "      <td>Linda</td>\n",
       "      <td>Oh my God, our house!</td>\n",
       "      <td>Female</td>\n",
       "      <td>Female</td>\n",
       "      <td>True</td>\n",
       "    </tr>\n",
       "    <tr>\n",
       "      <th>48505</th>\n",
       "      <td>KAY</td>\n",
       "      <td>Don't you want dinner first?</td>\n",
       "      <td>Female</td>\n",
       "      <td>Female</td>\n",
       "      <td>True</td>\n",
       "    </tr>\n",
       "    <tr>\n",
       "      <th>54187</th>\n",
       "      <td>Ross Geller</td>\n",
       "      <td>I am like Indiana Jones.</td>\n",
       "      <td>Male</td>\n",
       "      <td>Male</td>\n",
       "      <td>True</td>\n",
       "    </tr>\n",
       "    <tr>\n",
       "      <th>123835</th>\n",
       "      <td>SMECKER</td>\n",
       "      <td>Oh fuck!</td>\n",
       "      <td>Male</td>\n",
       "      <td>Female</td>\n",
       "      <td>False</td>\n",
       "    </tr>\n",
       "    <tr>\n",
       "      <th>122777</th>\n",
       "      <td>ROMA</td>\n",
       "      <td>...did they...</td>\n",
       "      <td>Male</td>\n",
       "      <td>Female</td>\n",
       "      <td>False</td>\n",
       "    </tr>\n",
       "    <tr>\n",
       "      <th>51519</th>\n",
       "      <td>Terrance</td>\n",
       "      <td>I may be fat but at least I didn't get hair plugs!</td>\n",
       "      <td>Male</td>\n",
       "      <td>Female</td>\n",
       "      <td>False</td>\n",
       "    </tr>\n",
       "    <tr>\n",
       "      <th>58307</th>\n",
       "      <td>GRUBER</td>\n",
       "      <td>...and you're going to do that?</td>\n",
       "      <td>Male</td>\n",
       "      <td>Female</td>\n",
       "      <td>False</td>\n",
       "    </tr>\n",
       "    <tr>\n",
       "      <th>126941</th>\n",
       "      <td>ANNIE</td>\n",
       "      <td>About us going someplace warm... Someplace Grace'll have to wear shorts or bathing suits or summ...</td>\n",
       "      <td>Female</td>\n",
       "      <td>Female</td>\n",
       "      <td>True</td>\n",
       "    </tr>\n",
       "    <tr>\n",
       "      <th>54584</th>\n",
       "      <td>Chandler Bing</td>\n",
       "      <td>What?!</td>\n",
       "      <td>Male</td>\n",
       "      <td>Female</td>\n",
       "      <td>False</td>\n",
       "    </tr>\n",
       "    <tr>\n",
       "      <th>161363</th>\n",
       "      <td>ANNA</td>\n",
       "      <td>Oh... no one... no one.  Just some... guy from the past.  I don't know what he's doing here.  Bi...</td>\n",
       "      <td>Female</td>\n",
       "      <td>Male</td>\n",
       "      <td>False</td>\n",
       "    </tr>\n",
       "    <tr>\n",
       "      <th>80356</th>\n",
       "      <td>DOROTHY</td>\n",
       "      <td>Do you like talk like that?</td>\n",
       "      <td>Female</td>\n",
       "      <td>Female</td>\n",
       "      <td>True</td>\n",
       "    </tr>\n",
       "    <tr>\n",
       "      <th>35407</th>\n",
       "      <td>CINDY</td>\n",
       "      <td>It's coming!</td>\n",
       "      <td>Female</td>\n",
       "      <td>Male</td>\n",
       "      <td>False</td>\n",
       "    </tr>\n",
       "    <tr>\n",
       "      <th>187726</th>\n",
       "      <td>TAYLOR</td>\n",
       "      <td>Ok Mac...  I'll talk to you on this. I want to find a way to get to the bridge, then I want you ...</td>\n",
       "      <td>Male</td>\n",
       "      <td>Male</td>\n",
       "      <td>True</td>\n",
       "    </tr>\n",
       "    <tr>\n",
       "      <th>221753</th>\n",
       "      <td>TED</td>\n",
       "      <td>In the sense that there is no \"hidden agenda\" behind a bake sale that raised five hundred dollar...</td>\n",
       "      <td>Male</td>\n",
       "      <td>Male</td>\n",
       "      <td>True</td>\n",
       "    </tr>\n",
       "    <tr>\n",
       "      <th>44004</th>\n",
       "      <td>DATA</td>\n",
       "      <td>We are approaching the Terran System, Captain.</td>\n",
       "      <td>Male</td>\n",
       "      <td>Male</td>\n",
       "      <td>True</td>\n",
       "    </tr>\n",
       "    <tr>\n",
       "      <th>240925</th>\n",
       "      <td>CONSTANCE</td>\n",
       "      <td>I can't leave. We have to tell this to the President.</td>\n",
       "      <td>Female</td>\n",
       "      <td>Male</td>\n",
       "      <td>False</td>\n",
       "    </tr>\n",
       "    <tr>\n",
       "      <th>7270</th>\n",
       "      <td>LEAH</td>\n",
       "      <td>How did you even generate enough pee for three pregnancy tests?</td>\n",
       "      <td>Female</td>\n",
       "      <td>Female</td>\n",
       "      <td>True</td>\n",
       "    </tr>\n",
       "    <tr>\n",
       "      <th>144258</th>\n",
       "      <td>HAWKEYE</td>\n",
       "      <td>It was a war party. It means they're on the attack up and down the frontier.</td>\n",
       "      <td>Male</td>\n",
       "      <td>Male</td>\n",
       "      <td>True</td>\n",
       "    </tr>\n",
       "    <tr>\n",
       "      <th>192672</th>\n",
       "      <td>MAJOR KONG</td>\n",
       "      <td>Lothar, get up here fast, and bring your First- Aid kit!  I'm hit kinda bad, I think.</td>\n",
       "      <td>Male</td>\n",
       "      <td>Male</td>\n",
       "      <td>True</td>\n",
       "    </tr>\n",
       "    <tr>\n",
       "      <th>49503</th>\n",
       "      <td>DOUGH-BOY</td>\n",
       "      <td>Support my kids. Can you dig it?  Nice to meet ya, Travis. So long, Wizard. Say hello to Malcolm...</td>\n",
       "      <td>Male</td>\n",
       "      <td>Male</td>\n",
       "      <td>True</td>\n",
       "    </tr>\n",
       "    <tr>\n",
       "      <th>223810</th>\n",
       "      <td>BOND</td>\n",
       "      <td>Constructions not exactly my line.</td>\n",
       "      <td>Male</td>\n",
       "      <td>Male</td>\n",
       "      <td>True</td>\n",
       "    </tr>\n",
       "    <tr>\n",
       "      <th>198153</th>\n",
       "      <td>CLEMENTINE</td>\n",
       "      <td>Cool.</td>\n",
       "      <td>Female</td>\n",
       "      <td>Male</td>\n",
       "      <td>False</td>\n",
       "    </tr>\n",
       "    <tr>\n",
       "      <th>169529</th>\n",
       "      <td>BLOOM</td>\n",
       "      <td>I'm hysterical.  I'm having hysterics.  I'm hysterical.  I can't stop.  When I get like this, I ...</td>\n",
       "      <td>Male</td>\n",
       "      <td>Female</td>\n",
       "      <td>False</td>\n",
       "    </tr>\n",
       "    <tr>\n",
       "      <th>90877</th>\n",
       "      <td>JODY</td>\n",
       "      <td>I'm making you feel like meat?</td>\n",
       "      <td>Female</td>\n",
       "      <td>Female</td>\n",
       "      <td>True</td>\n",
       "    </tr>\n",
       "    <tr>\n",
       "      <th>32278</th>\n",
       "      <td>JOEY</td>\n",
       "      <td>Nah, she would never...</td>\n",
       "      <td>Male</td>\n",
       "      <td>Male</td>\n",
       "      <td>True</td>\n",
       "    </tr>\n",
       "    <tr>\n",
       "      <th>31239</th>\n",
       "      <td>Phoebe Buffay</td>\n",
       "      <td>Oh, I thought this was your party and it turns out it's a party for Howard. He's just the sweete...</td>\n",
       "      <td>Female</td>\n",
       "      <td>Female</td>\n",
       "      <td>True</td>\n",
       "    </tr>\n",
       "    <tr>\n",
       "      <th>60078</th>\n",
       "      <td>STEED</td>\n",
       "      <td>I'll be back ...</td>\n",
       "      <td>Male</td>\n",
       "      <td>Male</td>\n",
       "      <td>True</td>\n",
       "    </tr>\n",
       "    <tr>\n",
       "      <th>204674</th>\n",
       "      <td>JEANNE</td>\n",
       "      <td>Maybe... I don't know... but first we have to confess...</td>\n",
       "      <td>Female</td>\n",
       "      <td>Female</td>\n",
       "      <td>True</td>\n",
       "    </tr>\n",
       "    <tr>\n",
       "      <th>24751</th>\n",
       "      <td>Chandler Bing</td>\n",
       "      <td>Okay.</td>\n",
       "      <td>Male</td>\n",
       "      <td>Female</td>\n",
       "      <td>False</td>\n",
       "    </tr>\n",
       "    <tr>\n",
       "      <th>117880</th>\n",
       "      <td>CATHERINE</td>\n",
       "      <td>Carl has hydrotherapy on Tuesdays.</td>\n",
       "      <td>Female</td>\n",
       "      <td>Female</td>\n",
       "      <td>True</td>\n",
       "    </tr>\n",
       "    <tr>\n",
       "      <th>167760</th>\n",
       "      <td>TYLER</td>\n",
       "      <td>Look at you.</td>\n",
       "      <td>Female</td>\n",
       "      <td>Female</td>\n",
       "      <td>True</td>\n",
       "    </tr>\n",
       "    <tr>\n",
       "      <th>6630</th>\n",
       "      <td>Kyle</td>\n",
       "      <td>I'm not done yet.</td>\n",
       "      <td>Male</td>\n",
       "      <td>Female</td>\n",
       "      <td>False</td>\n",
       "    </tr>\n",
       "    <tr>\n",
       "      <th>3151</th>\n",
       "      <td>MILES</td>\n",
       "      <td>And you've always loved him?</td>\n",
       "      <td>Male</td>\n",
       "      <td>Female</td>\n",
       "      <td>False</td>\n",
       "    </tr>\n",
       "    <tr>\n",
       "      <th>20448</th>\n",
       "      <td>Stan</td>\n",
       "      <td>That's all it is?</td>\n",
       "      <td>Male</td>\n",
       "      <td>Female</td>\n",
       "      <td>False</td>\n",
       "    </tr>\n",
       "    <tr>\n",
       "      <th>51594</th>\n",
       "      <td>Phillip</td>\n",
       "      <td>That's right, Terrance. You should only let trite things come between your asscheeks</td>\n",
       "      <td>Male</td>\n",
       "      <td>Male</td>\n",
       "      <td>True</td>\n",
       "    </tr>\n",
       "    <tr>\n",
       "      <th>136597</th>\n",
       "      <td>KARLA</td>\n",
       "      <td>I think we can classify this as an emergency situation.</td>\n",
       "      <td>Female</td>\n",
       "      <td>Male</td>\n",
       "      <td>False</td>\n",
       "    </tr>\n",
       "    <tr>\n",
       "      <th>225984</th>\n",
       "      <td>VICTOR</td>\n",
       "      <td>You'd persist at the cost of your own life? The lives of your crew?</td>\n",
       "      <td>Male</td>\n",
       "      <td>Male</td>\n",
       "      <td>True</td>\n",
       "    </tr>\n",
       "    <tr>\n",
       "      <th>183685</th>\n",
       "      <td>DOYLE</td>\n",
       "      <td>Well, it's on! We're gonna rock. Linda, call Vaughan. Tell him to get over here. I'd like him to...</td>\n",
       "      <td>Male</td>\n",
       "      <td>Female</td>\n",
       "      <td>False</td>\n",
       "    </tr>\n",
       "    <tr>\n",
       "      <th>133095</th>\n",
       "      <td>EDDIE</td>\n",
       "      <td>What is it? What's in there?</td>\n",
       "      <td>Male</td>\n",
       "      <td>Male</td>\n",
       "      <td>True</td>\n",
       "    </tr>\n",
       "    <tr>\n",
       "      <th>133457</th>\n",
       "      <td>SARA</td>\n",
       "      <td>Uh, excuse me? Don't think I'm not having the time of my life watching this train wreck that's y...</td>\n",
       "      <td>Female</td>\n",
       "      <td>Female</td>\n",
       "      <td>True</td>\n",
       "    </tr>\n",
       "    <tr>\n",
       "      <th>203301</th>\n",
       "      <td>SALLY</td>\n",
       "      <td>They're going to send detectives.</td>\n",
       "      <td>Female</td>\n",
       "      <td>Male</td>\n",
       "      <td>False</td>\n",
       "    </tr>\n",
       "    <tr>\n",
       "      <th>219208</th>\n",
       "      <td>GEKKO</td>\n",
       "      <td>Yeah... not bad for a City College boy. Bought my way into this club and now every one of these ...</td>\n",
       "      <td>Male</td>\n",
       "      <td>Male</td>\n",
       "      <td>True</td>\n",
       "    </tr>\n",
       "  </tbody>\n",
       "</table>\n",
       "</div>"
      ],
      "text/plain": [
       "               speaker  \\\n",
       "7146              JUNO   \n",
       "87264            NICKY   \n",
       "196351          LUTHOR   \n",
       "29352            SUSAN   \n",
       "50622          MELANIE   \n",
       "182464           WENDY   \n",
       "213370            JOHN   \n",
       "55839   Joey Tribbiani   \n",
       "59225            Linda   \n",
       "48505              KAY   \n",
       "54187      Ross Geller   \n",
       "123835         SMECKER   \n",
       "122777            ROMA   \n",
       "51519         Terrance   \n",
       "58307           GRUBER   \n",
       "126941           ANNIE   \n",
       "54584    Chandler Bing   \n",
       "161363            ANNA   \n",
       "80356          DOROTHY   \n",
       "35407            CINDY   \n",
       "187726          TAYLOR   \n",
       "221753             TED   \n",
       "44004             DATA   \n",
       "240925       CONSTANCE   \n",
       "7270              LEAH   \n",
       "144258         HAWKEYE   \n",
       "192672      MAJOR KONG   \n",
       "49503        DOUGH-BOY   \n",
       "223810            BOND   \n",
       "198153      CLEMENTINE   \n",
       "169529           BLOOM   \n",
       "90877             JODY   \n",
       "32278             JOEY   \n",
       "31239    Phoebe Buffay   \n",
       "60078            STEED   \n",
       "204674          JEANNE   \n",
       "24751    Chandler Bing   \n",
       "117880       CATHERINE   \n",
       "167760           TYLER   \n",
       "6630              Kyle   \n",
       "3151             MILES   \n",
       "20448             Stan   \n",
       "51594          Phillip   \n",
       "136597           KARLA   \n",
       "225984          VICTOR   \n",
       "183685           DOYLE   \n",
       "133095           EDDIE   \n",
       "133457            SARA   \n",
       "203301           SALLY   \n",
       "219208           GEKKO   \n",
       "\n",
       "                                                                                                       text  \\\n",
       "7146                                                                    Either I just pissed my pants or...   \n",
       "87264   I know. Why didn't you come to me? I mean, this is family, it ain't business. Meanwhile, you mak...   \n",
       "196351                                                                               They stop for nothing.   \n",
       "29352                                                                                          Opportunity?   \n",
       "50622                                                              I'll just clear up here, and then dress.   \n",
       "182464                                                                            Hi, hon.  How's it going?   \n",
       "213370                                                                                            How much.   \n",
       "55839                                                                                                 Uhuh.   \n",
       "59225                                                                                 Oh my God, our house!   \n",
       "48505                                                                          Don't you want dinner first?   \n",
       "54187                                                                              I am like Indiana Jones.   \n",
       "123835                                                                                             Oh fuck!   \n",
       "122777                                                                                       ...did they...   \n",
       "51519                                                    I may be fat but at least I didn't get hair plugs!   \n",
       "58307                                                                       ...and you're going to do that?   \n",
       "126941  About us going someplace warm... Someplace Grace'll have to wear shorts or bathing suits or summ...   \n",
       "54584                                                                                                What?!   \n",
       "161363  Oh... no one... no one.  Just some... guy from the past.  I don't know what he's doing here.  Bi...   \n",
       "80356                                                                           Do you like talk like that?   \n",
       "35407                                                                                          It's coming!   \n",
       "187726  Ok Mac...  I'll talk to you on this. I want to find a way to get to the bridge, then I want you ...   \n",
       "221753  In the sense that there is no \"hidden agenda\" behind a bake sale that raised five hundred dollar...   \n",
       "44004                                                        We are approaching the Terran System, Captain.   \n",
       "240925                                                I can't leave. We have to tell this to the President.   \n",
       "7270                                        How did you even generate enough pee for three pregnancy tests?   \n",
       "144258                         It was a war party. It means they're on the attack up and down the frontier.   \n",
       "192672                Lothar, get up here fast, and bring your First- Aid kit!  I'm hit kinda bad, I think.   \n",
       "49503   Support my kids. Can you dig it?  Nice to meet ya, Travis. So long, Wizard. Say hello to Malcolm...   \n",
       "223810                                                                  Constructions not exactly my line.   \n",
       "198153                                                                                                Cool.   \n",
       "169529  I'm hysterical.  I'm having hysterics.  I'm hysterical.  I can't stop.  When I get like this, I ...   \n",
       "90877                                                                        I'm making you feel like meat?   \n",
       "32278                                                                               Nah, she would never...   \n",
       "31239   Oh, I thought this was your party and it turns out it's a party for Howard. He's just the sweete...   \n",
       "60078                                                                                      I'll be back ...   \n",
       "204674                                             Maybe... I don't know... but first we have to confess...   \n",
       "24751                                                                                                 Okay.   \n",
       "117880                                                                   Carl has hydrotherapy on Tuesdays.   \n",
       "167760                                                                                         Look at you.   \n",
       "6630                                                                                      I'm not done yet.   \n",
       "3151                                                                           And you've always loved him?   \n",
       "20448                                                                                    That's all it is?    \n",
       "51594                 That's right, Terrance. You should only let trite things come between your asscheeks    \n",
       "136597                                              I think we can classify this as an emergency situation.   \n",
       "225984                                  You'd persist at the cost of your own life? The lives of your crew?   \n",
       "183685  Well, it's on! We're gonna rock. Linda, call Vaughan. Tell him to get over here. I'd like him to...   \n",
       "133095                                                                         What is it? What's in there?   \n",
       "133457  Uh, excuse me? Don't think I'm not having the time of my life watching this train wreck that's y...   \n",
       "203301                                                                    They're going to send detectives.   \n",
       "219208  Yeah... not bad for a City College boy. Bought my way into this club and now every one of these ...   \n",
       "\n",
       "         label predicted  correct  \n",
       "7146    Female      Male    False  \n",
       "87264     Male    Female    False  \n",
       "196351    Male    Female    False  \n",
       "29352   Female      Male    False  \n",
       "50622   Female    Female     True  \n",
       "182464  Female    Female     True  \n",
       "213370    Male    Female    False  \n",
       "55839     Male      Male     True  \n",
       "59225   Female    Female     True  \n",
       "48505   Female    Female     True  \n",
       "54187     Male      Male     True  \n",
       "123835    Male    Female    False  \n",
       "122777    Male    Female    False  \n",
       "51519     Male    Female    False  \n",
       "58307     Male    Female    False  \n",
       "126941  Female    Female     True  \n",
       "54584     Male    Female    False  \n",
       "161363  Female      Male    False  \n",
       "80356   Female    Female     True  \n",
       "35407   Female      Male    False  \n",
       "187726    Male      Male     True  \n",
       "221753    Male      Male     True  \n",
       "44004     Male      Male     True  \n",
       "240925  Female      Male    False  \n",
       "7270    Female    Female     True  \n",
       "144258    Male      Male     True  \n",
       "192672    Male      Male     True  \n",
       "49503     Male      Male     True  \n",
       "223810    Male      Male     True  \n",
       "198153  Female      Male    False  \n",
       "169529    Male    Female    False  \n",
       "90877   Female    Female     True  \n",
       "32278     Male      Male     True  \n",
       "31239   Female    Female     True  \n",
       "60078     Male      Male     True  \n",
       "204674  Female    Female     True  \n",
       "24751     Male    Female    False  \n",
       "117880  Female    Female     True  \n",
       "167760  Female    Female     True  \n",
       "6630      Male    Female    False  \n",
       "3151      Male    Female    False  \n",
       "20448     Male    Female    False  \n",
       "51594     Male      Male     True  \n",
       "136597  Female      Male    False  \n",
       "225984    Male      Male     True  \n",
       "183685    Male    Female    False  \n",
       "133095    Male      Male     True  \n",
       "133457  Female    Female     True  \n",
       "203301  Female      Male    False  \n",
       "219208    Male      Male     True  "
      ]
     },
     "execution_count": 37,
     "metadata": {},
     "output_type": "execute_result"
    }
   ],
   "source": [
    "show_samples(gen_model, gen_df, 'gender')"
   ]
  },
  {
   "cell_type": "code",
   "execution_count": 38,
   "metadata": {
    "scrolled": true
   },
   "outputs": [
    {
     "data": {
      "text/html": [
       "<div>\n",
       "<style scoped>\n",
       "    .dataframe tbody tr th:only-of-type {\n",
       "        vertical-align: middle;\n",
       "    }\n",
       "\n",
       "    .dataframe tbody tr th {\n",
       "        vertical-align: top;\n",
       "    }\n",
       "\n",
       "    .dataframe thead th {\n",
       "        text-align: right;\n",
       "    }\n",
       "</style>\n",
       "<table border=\"1\" class=\"dataframe\">\n",
       "  <thead>\n",
       "    <tr style=\"text-align: right;\">\n",
       "      <th></th>\n",
       "      <th>Speaker</th>\n",
       "      <th>Female</th>\n",
       "      <th>Male</th>\n",
       "    </tr>\n",
       "  </thead>\n",
       "  <tbody>\n",
       "    <tr>\n",
       "      <th>0</th>\n",
       "      <td>Chandler Bing</td>\n",
       "      <td>64.37%</td>\n",
       "      <td>35.63%</td>\n",
       "    </tr>\n",
       "    <tr>\n",
       "      <th>1</th>\n",
       "      <td>Monica Geller</td>\n",
       "      <td>74.11%</td>\n",
       "      <td>25.89%</td>\n",
       "    </tr>\n",
       "    <tr>\n",
       "      <th>2</th>\n",
       "      <td>Butters</td>\n",
       "      <td>36.17%</td>\n",
       "      <td>63.83%</td>\n",
       "    </tr>\n",
       "    <tr>\n",
       "      <th>3</th>\n",
       "      <td>Cartman</td>\n",
       "      <td>28.93%</td>\n",
       "      <td>71.07%</td>\n",
       "    </tr>\n",
       "    <tr>\n",
       "      <th>4</th>\n",
       "      <td>Stan</td>\n",
       "      <td>32.06%</td>\n",
       "      <td>67.94%</td>\n",
       "    </tr>\n",
       "  </tbody>\n",
       "</table>\n",
       "</div>"
      ],
      "text/plain": [
       "         Speaker  Female    Male\n",
       "0  Chandler Bing  64.37%  35.63%\n",
       "1  Monica Geller  74.11%  25.89%\n",
       "2        Butters  36.17%  63.83%\n",
       "3        Cartman  28.93%  71.07%\n",
       "4           Stan  32.06%  67.94%"
      ]
     },
     "execution_count": 38,
     "metadata": {},
     "output_type": "execute_result"
    }
   ],
   "source": [
    "analyze_character_predictions(gen_model, gen_df, characters)"
   ]
  },
  {
   "cell_type": "markdown",
   "metadata": {},
   "source": [
    "As the results show above, if we take the prediction with the highest percentage as the final prediction then except for Chandler, all the characters will be correctly classified. Nevertheless, the ones that have correct final predictions still have about 30% of incorrectly classified dialogue."
   ]
  },
  {
   "cell_type": "code",
   "execution_count": 39,
   "metadata": {
    "id": "AxnFMOqnryId",
    "scrolled": false
   },
   "outputs": [
    {
     "data": {
      "text/html": [
       "<div>\n",
       "<style scoped>\n",
       "    .dataframe tbody tr th:only-of-type {\n",
       "        vertical-align: middle;\n",
       "    }\n",
       "\n",
       "    .dataframe tbody tr th {\n",
       "        vertical-align: top;\n",
       "    }\n",
       "\n",
       "    .dataframe thead th {\n",
       "        text-align: right;\n",
       "    }\n",
       "</style>\n",
       "<table border=\"1\" class=\"dataframe\">\n",
       "  <thead>\n",
       "    <tr style=\"text-align: right;\">\n",
       "      <th></th>\n",
       "      <th>speaker</th>\n",
       "      <th>text</th>\n",
       "      <th>label</th>\n",
       "      <th>predicted</th>\n",
       "      <th>correct</th>\n",
       "    </tr>\n",
       "  </thead>\n",
       "  <tbody>\n",
       "    <tr>\n",
       "      <th>63314</th>\n",
       "      <td>Stan</td>\n",
       "      <td>Maybe I should. At least they will understand me. Maybe I should hang with the Goth kids.</td>\n",
       "      <td>teen (10-19)</td>\n",
       "      <td>teen (10-19)</td>\n",
       "      <td>True</td>\n",
       "    </tr>\n",
       "    <tr>\n",
       "      <th>30036</th>\n",
       "      <td>Cartman</td>\n",
       "      <td>Juden est verboten, a den ascriber utz, kapieda hockuh. Juden est verboten, God dammit!</td>\n",
       "      <td>teen (10-19)</td>\n",
       "      <td>teen (10-19)</td>\n",
       "      <td>True</td>\n",
       "    </tr>\n",
       "    <tr>\n",
       "      <th>54804</th>\n",
       "      <td>Butters</td>\n",
       "      <td>Hey, do you guys smell that?</td>\n",
       "      <td>teen (10-19)</td>\n",
       "      <td>young adult (20-35)</td>\n",
       "      <td>False</td>\n",
       "    </tr>\n",
       "    <tr>\n",
       "      <th>55654</th>\n",
       "      <td>Joey Tribbiani</td>\n",
       "      <td>Little bit.</td>\n",
       "      <td>young adult (20-35)</td>\n",
       "      <td>young adult (20-35)</td>\n",
       "      <td>True</td>\n",
       "    </tr>\n",
       "    <tr>\n",
       "      <th>21677</th>\n",
       "      <td>Cartman</td>\n",
       "      <td>Hm, it's kind of a grapey, bleachy flavor.</td>\n",
       "      <td>teen (10-19)</td>\n",
       "      <td>teen (10-19)</td>\n",
       "      <td>True</td>\n",
       "    </tr>\n",
       "    <tr>\n",
       "      <th>29936</th>\n",
       "      <td>Ross Geller</td>\n",
       "      <td>Awww, man! Really?</td>\n",
       "      <td>young adult (20-35)</td>\n",
       "      <td>teen (10-19)</td>\n",
       "      <td>False</td>\n",
       "    </tr>\n",
       "    <tr>\n",
       "      <th>23087</th>\n",
       "      <td>Kyle</td>\n",
       "      <td>I am sooo sick of that stupid bitch! Blabbin' pussy little skank! Why do people talk on their ph...</td>\n",
       "      <td>teen (10-19)</td>\n",
       "      <td>teen (10-19)</td>\n",
       "      <td>True</td>\n",
       "    </tr>\n",
       "    <tr>\n",
       "      <th>33432</th>\n",
       "      <td>Chandler Bing</td>\n",
       "      <td>Well, I don't know what mad him so mad, y'know? All I said was that uh, I didn't think this wasn...</td>\n",
       "      <td>young adult (20-35)</td>\n",
       "      <td>young adult (20-35)</td>\n",
       "      <td>True</td>\n",
       "    </tr>\n",
       "    <tr>\n",
       "      <th>27258</th>\n",
       "      <td>Joey Tribbiani</td>\n",
       "      <td>Felicity and I, we're watching My Giant, and I was thinking, \"I'm never gonna be as good an acto...</td>\n",
       "      <td>young adult (20-35)</td>\n",
       "      <td>young adult (20-35)</td>\n",
       "      <td>True</td>\n",
       "    </tr>\n",
       "    <tr>\n",
       "      <th>24913</th>\n",
       "      <td>BELL</td>\n",
       "      <td>Yes ma'am, I do.</td>\n",
       "      <td>elderly (50+)</td>\n",
       "      <td>young adult (20-35)</td>\n",
       "      <td>False</td>\n",
       "    </tr>\n",
       "    <tr>\n",
       "      <th>41017</th>\n",
       "      <td>Randy</td>\n",
       "      <td>I'm getting in for a while, too.  Geronimo!</td>\n",
       "      <td>adult (36-50)</td>\n",
       "      <td>teen (10-19)</td>\n",
       "      <td>False</td>\n",
       "    </tr>\n",
       "    <tr>\n",
       "      <th>25750</th>\n",
       "      <td>CHARLIE</td>\n",
       "      <td>He's telling the truth. He doesn't know.</td>\n",
       "      <td>elderly (50+)</td>\n",
       "      <td>teen (10-19)</td>\n",
       "      <td>False</td>\n",
       "    </tr>\n",
       "    <tr>\n",
       "      <th>65391</th>\n",
       "      <td>Kyle</td>\n",
       "      <td>Twenty-five cents? Well that's not even worth it.</td>\n",
       "      <td>teen (10-19)</td>\n",
       "      <td>young adult (20-35)</td>\n",
       "      <td>False</td>\n",
       "    </tr>\n",
       "    <tr>\n",
       "      <th>15912</th>\n",
       "      <td>CREASY</td>\n",
       "      <td>Where does he live?</td>\n",
       "      <td>adult (36-50)</td>\n",
       "      <td>young adult (20-35)</td>\n",
       "      <td>False</td>\n",
       "    </tr>\n",
       "    <tr>\n",
       "      <th>36162</th>\n",
       "      <td>Ross Geller</td>\n",
       "      <td>A-A day.</td>\n",
       "      <td>young adult (20-35)</td>\n",
       "      <td>young adult (20-35)</td>\n",
       "      <td>True</td>\n",
       "    </tr>\n",
       "    <tr>\n",
       "      <th>53843</th>\n",
       "      <td>Cartman</td>\n",
       "      <td>Uh huh.</td>\n",
       "      <td>teen (10-19)</td>\n",
       "      <td>teen (10-19)</td>\n",
       "      <td>True</td>\n",
       "    </tr>\n",
       "    <tr>\n",
       "      <th>39525</th>\n",
       "      <td>Stan</td>\n",
       "      <td>Bitch. Bitch.</td>\n",
       "      <td>teen (10-19)</td>\n",
       "      <td>teen (10-19)</td>\n",
       "      <td>True</td>\n",
       "    </tr>\n",
       "    <tr>\n",
       "      <th>36572</th>\n",
       "      <td>Cartman</td>\n",
       "      <td>Ten dollar? Sucky-sucky?</td>\n",
       "      <td>teen (10-19)</td>\n",
       "      <td>teen (10-19)</td>\n",
       "      <td>True</td>\n",
       "    </tr>\n",
       "    <tr>\n",
       "      <th>23396</th>\n",
       "      <td>Chandler Bing</td>\n",
       "      <td>All right, maybe I should call her.</td>\n",
       "      <td>young adult (20-35)</td>\n",
       "      <td>young adult (20-35)</td>\n",
       "      <td>True</td>\n",
       "    </tr>\n",
       "    <tr>\n",
       "      <th>18906</th>\n",
       "      <td>Stan</td>\n",
       "      <td>Shut up Butters! What we have to find out is who in the school is running Eavesdropper! I've don...</td>\n",
       "      <td>teen (10-19)</td>\n",
       "      <td>teen (10-19)</td>\n",
       "      <td>True</td>\n",
       "    </tr>\n",
       "    <tr>\n",
       "      <th>63919</th>\n",
       "      <td>Rachel Green</td>\n",
       "      <td>I know what this is all about... You've always been jealous of my hair.</td>\n",
       "      <td>young adult (20-35)</td>\n",
       "      <td>young adult (20-35)</td>\n",
       "      <td>True</td>\n",
       "    </tr>\n",
       "    <tr>\n",
       "      <th>40238</th>\n",
       "      <td>Monica Geller</td>\n",
       "      <td>Oh, I love museums!</td>\n",
       "      <td>young adult (20-35)</td>\n",
       "      <td>young adult (20-35)</td>\n",
       "      <td>True</td>\n",
       "    </tr>\n",
       "    <tr>\n",
       "      <th>4747</th>\n",
       "      <td>Rachel Green</td>\n",
       "      <td>: So basically, you get your ya-yas by taking money from all of your friends.</td>\n",
       "      <td>young adult (20-35)</td>\n",
       "      <td>teen (10-19)</td>\n",
       "      <td>False</td>\n",
       "    </tr>\n",
       "    <tr>\n",
       "      <th>29965</th>\n",
       "      <td>Kyle</td>\n",
       "      <td>Yeah, why's your family so poor Kenny?</td>\n",
       "      <td>teen (10-19)</td>\n",
       "      <td>teen (10-19)</td>\n",
       "      <td>True</td>\n",
       "    </tr>\n",
       "    <tr>\n",
       "      <th>44611</th>\n",
       "      <td>Rachel Green</td>\n",
       "      <td>I don't know Tag! How can your genitals make phone calls? Okay? It's not a perfect world! Just g...</td>\n",
       "      <td>young adult (20-35)</td>\n",
       "      <td>young adult (20-35)</td>\n",
       "      <td>True</td>\n",
       "    </tr>\n",
       "    <tr>\n",
       "      <th>54000</th>\n",
       "      <td>Joey Tribbiani</td>\n",
       "      <td>Now, over to Chandler.</td>\n",
       "      <td>young adult (20-35)</td>\n",
       "      <td>young adult (20-35)</td>\n",
       "      <td>True</td>\n",
       "    </tr>\n",
       "    <tr>\n",
       "      <th>4242</th>\n",
       "      <td>Phoebe Buffay</td>\n",
       "      <td>Wherere you going?</td>\n",
       "      <td>young adult (20-35)</td>\n",
       "      <td>teen (10-19)</td>\n",
       "      <td>False</td>\n",
       "    </tr>\n",
       "    <tr>\n",
       "      <th>4287</th>\n",
       "      <td>Cartman</td>\n",
       "      <td>Jesus, that's on the other side of town. All right, Kyle, I'm going to take a picture with my ca...</td>\n",
       "      <td>teen (10-19)</td>\n",
       "      <td>young adult (20-35)</td>\n",
       "      <td>False</td>\n",
       "    </tr>\n",
       "    <tr>\n",
       "      <th>14939</th>\n",
       "      <td>BOBBY</td>\n",
       "      <td>Like I said, I don't know.</td>\n",
       "      <td>adult (36-50)</td>\n",
       "      <td>young adult (20-35)</td>\n",
       "      <td>False</td>\n",
       "    </tr>\n",
       "    <tr>\n",
       "      <th>66564</th>\n",
       "      <td>Phoebe Buffay</td>\n",
       "      <td>Oh, he has a gig. I kinda like being married to a rock star, you know. My husband has a gig.</td>\n",
       "      <td>young adult (20-35)</td>\n",
       "      <td>young adult (20-35)</td>\n",
       "      <td>True</td>\n",
       "    </tr>\n",
       "    <tr>\n",
       "      <th>26764</th>\n",
       "      <td>Cartman</td>\n",
       "      <td>Because when Kyle said he heard us say we made the video, we can say we were talking about THIS ...</td>\n",
       "      <td>teen (10-19)</td>\n",
       "      <td>teen (10-19)</td>\n",
       "      <td>True</td>\n",
       "    </tr>\n",
       "    <tr>\n",
       "      <th>63470</th>\n",
       "      <td>Charlie Wheeler</td>\n",
       "      <td>Benjamin Hobart is administering that grant.</td>\n",
       "      <td>young adult (20-35)</td>\n",
       "      <td>teen (10-19)</td>\n",
       "      <td>False</td>\n",
       "    </tr>\n",
       "    <tr>\n",
       "      <th>22984</th>\n",
       "      <td>Cartman</td>\n",
       "      <td>Oh God damn it Kyle, I was just about to get what I wanted.</td>\n",
       "      <td>teen (10-19)</td>\n",
       "      <td>teen (10-19)</td>\n",
       "      <td>True</td>\n",
       "    </tr>\n",
       "    <tr>\n",
       "      <th>20814</th>\n",
       "      <td>Ross Geller</td>\n",
       "      <td>One more time, \"Hey, don't you want a washboard stomach and rock hard pecs?\"</td>\n",
       "      <td>young adult (20-35)</td>\n",
       "      <td>young adult (20-35)</td>\n",
       "      <td>True</td>\n",
       "    </tr>\n",
       "    <tr>\n",
       "      <th>25217</th>\n",
       "      <td>Butters</td>\n",
       "      <td>Well, m-no. I've got arms and legs; I've got everything.</td>\n",
       "      <td>teen (10-19)</td>\n",
       "      <td>young adult (20-35)</td>\n",
       "      <td>False</td>\n",
       "    </tr>\n",
       "    <tr>\n",
       "      <th>36016</th>\n",
       "      <td>Joey Tribbiani</td>\n",
       "      <td>Oh!</td>\n",
       "      <td>young adult (20-35)</td>\n",
       "      <td>young adult (20-35)</td>\n",
       "      <td>True</td>\n",
       "    </tr>\n",
       "    <tr>\n",
       "      <th>50456</th>\n",
       "      <td>Monica Geller</td>\n",
       "      <td>Did you not hear where my head was? Come on! Come on we're a team! We're in this together!</td>\n",
       "      <td>young adult (20-35)</td>\n",
       "      <td>young adult (20-35)</td>\n",
       "      <td>True</td>\n",
       "    </tr>\n",
       "    <tr>\n",
       "      <th>45987</th>\n",
       "      <td>Phoebe Buffay</td>\n",
       "      <td>I know! Robin is so gay!</td>\n",
       "      <td>young adult (20-35)</td>\n",
       "      <td>young adult (20-35)</td>\n",
       "      <td>True</td>\n",
       "    </tr>\n",
       "    <tr>\n",
       "      <th>40145</th>\n",
       "      <td>Joey Tribbiani</td>\n",
       "      <td>What do you need?</td>\n",
       "      <td>young adult (20-35)</td>\n",
       "      <td>young adult (20-35)</td>\n",
       "      <td>True</td>\n",
       "    </tr>\n",
       "    <tr>\n",
       "      <th>41670</th>\n",
       "      <td>Phoebe Buffay</td>\n",
       "      <td>\"We thought Phoebe would leave, but she just stayed and stayed. That's right, I'm here all night...</td>\n",
       "      <td>young adult (20-35)</td>\n",
       "      <td>young adult (20-35)</td>\n",
       "      <td>True</td>\n",
       "    </tr>\n",
       "    <tr>\n",
       "      <th>34538</th>\n",
       "      <td>Cartman</td>\n",
       "      <td>Egh--</td>\n",
       "      <td>teen (10-19)</td>\n",
       "      <td>teen (10-19)</td>\n",
       "      <td>True</td>\n",
       "    </tr>\n",
       "    <tr>\n",
       "      <th>68719</th>\n",
       "      <td>Cartman</td>\n",
       "      <td>...What did you say?</td>\n",
       "      <td>teen (10-19)</td>\n",
       "      <td>young adult (20-35)</td>\n",
       "      <td>False</td>\n",
       "    </tr>\n",
       "    <tr>\n",
       "      <th>49991</th>\n",
       "      <td>Kyle</td>\n",
       "      <td>What, doughboy?</td>\n",
       "      <td>teen (10-19)</td>\n",
       "      <td>teen (10-19)</td>\n",
       "      <td>True</td>\n",
       "    </tr>\n",
       "    <tr>\n",
       "      <th>25997</th>\n",
       "      <td>Cartman</td>\n",
       "      <td>KYLE! IT'S ALL GONE! THEY'VE TAKEN IT ALL! WHY ARE THEY DOING THIS?! KYLE! KYLE!</td>\n",
       "      <td>teen (10-19)</td>\n",
       "      <td>teen (10-19)</td>\n",
       "      <td>True</td>\n",
       "    </tr>\n",
       "    <tr>\n",
       "      <th>25476</th>\n",
       "      <td>Stan</td>\n",
       "      <td>What are you talking about?</td>\n",
       "      <td>teen (10-19)</td>\n",
       "      <td>young adult (20-35)</td>\n",
       "      <td>False</td>\n",
       "    </tr>\n",
       "    <tr>\n",
       "      <th>30393</th>\n",
       "      <td>Cartman</td>\n",
       "      <td>No, Starvin' Marvin, that's Kenny's creamed corn.  No Starvin' Marvin, that's a bad Starvin' Mar...</td>\n",
       "      <td>teen (10-19)</td>\n",
       "      <td>teen (10-19)</td>\n",
       "      <td>True</td>\n",
       "    </tr>\n",
       "    <tr>\n",
       "      <th>27721</th>\n",
       "      <td>Phoebe Buffay</td>\n",
       "      <td>Umm, sympathy pains. I thought it was really sweet at first, but now I think he's just trying to...</td>\n",
       "      <td>young adult (20-35)</td>\n",
       "      <td>young adult (20-35)</td>\n",
       "      <td>True</td>\n",
       "    </tr>\n",
       "    <tr>\n",
       "      <th>3119</th>\n",
       "      <td>Ross Geller</td>\n",
       "      <td>You have to tell her! You have to tell her! It's your moral obligation, as a friend, as a woman,...</td>\n",
       "      <td>young adult (20-35)</td>\n",
       "      <td>young adult (20-35)</td>\n",
       "      <td>True</td>\n",
       "    </tr>\n",
       "    <tr>\n",
       "      <th>4618</th>\n",
       "      <td>Joey Tribbiani</td>\n",
       "      <td>Then, uh, then I'm sorry.</td>\n",
       "      <td>young adult (20-35)</td>\n",
       "      <td>young adult (20-35)</td>\n",
       "      <td>True</td>\n",
       "    </tr>\n",
       "    <tr>\n",
       "      <th>21280</th>\n",
       "      <td>Cartman</td>\n",
       "      <td>It's diet, dude. Diet soda doesn't give you diarrhea.</td>\n",
       "      <td>teen (10-19)</td>\n",
       "      <td>teen (10-19)</td>\n",
       "      <td>True</td>\n",
       "    </tr>\n",
       "  </tbody>\n",
       "</table>\n",
       "</div>"
      ],
      "text/plain": [
       "               speaker  \\\n",
       "63314             Stan   \n",
       "30036          Cartman   \n",
       "54804          Butters   \n",
       "55654   Joey Tribbiani   \n",
       "21677          Cartman   \n",
       "29936      Ross Geller   \n",
       "23087             Kyle   \n",
       "33432    Chandler Bing   \n",
       "27258   Joey Tribbiani   \n",
       "24913             BELL   \n",
       "41017            Randy   \n",
       "25750          CHARLIE   \n",
       "65391             Kyle   \n",
       "15912           CREASY   \n",
       "36162      Ross Geller   \n",
       "53843          Cartman   \n",
       "39525             Stan   \n",
       "36572          Cartman   \n",
       "23396    Chandler Bing   \n",
       "18906             Stan   \n",
       "63919     Rachel Green   \n",
       "40238    Monica Geller   \n",
       "4747      Rachel Green   \n",
       "29965             Kyle   \n",
       "44611     Rachel Green   \n",
       "54000   Joey Tribbiani   \n",
       "4242     Phoebe Buffay   \n",
       "4287           Cartman   \n",
       "14939            BOBBY   \n",
       "66564    Phoebe Buffay   \n",
       "26764          Cartman   \n",
       "63470  Charlie Wheeler   \n",
       "22984          Cartman   \n",
       "20814      Ross Geller   \n",
       "25217          Butters   \n",
       "36016   Joey Tribbiani   \n",
       "50456    Monica Geller   \n",
       "45987    Phoebe Buffay   \n",
       "40145   Joey Tribbiani   \n",
       "41670    Phoebe Buffay   \n",
       "34538          Cartman   \n",
       "68719          Cartman   \n",
       "49991             Kyle   \n",
       "25997          Cartman   \n",
       "25476             Stan   \n",
       "30393          Cartman   \n",
       "27721    Phoebe Buffay   \n",
       "3119       Ross Geller   \n",
       "4618    Joey Tribbiani   \n",
       "21280          Cartman   \n",
       "\n",
       "                                                                                                      text  \\\n",
       "63314            Maybe I should. At least they will understand me. Maybe I should hang with the Goth kids.   \n",
       "30036              Juden est verboten, a den ascriber utz, kapieda hockuh. Juden est verboten, God dammit!   \n",
       "54804                                                                         Hey, do you guys smell that?   \n",
       "55654                                                                                          Little bit.   \n",
       "21677                                                           Hm, it's kind of a grapey, bleachy flavor.   \n",
       "29936                                                                                   Awww, man! Really?   \n",
       "23087  I am sooo sick of that stupid bitch! Blabbin' pussy little skank! Why do people talk on their ph...   \n",
       "33432  Well, I don't know what mad him so mad, y'know? All I said was that uh, I didn't think this wasn...   \n",
       "27258  Felicity and I, we're watching My Giant, and I was thinking, \"I'm never gonna be as good an acto...   \n",
       "24913                                                                                     Yes ma'am, I do.   \n",
       "41017                                                          I'm getting in for a while, too.  Geronimo!   \n",
       "25750                                                             He's telling the truth. He doesn't know.   \n",
       "65391                                                    Twenty-five cents? Well that's not even worth it.   \n",
       "15912                                                                                  Where does he live?   \n",
       "36162                                                                                             A-A day.   \n",
       "53843                                                                                              Uh huh.   \n",
       "39525                                                                                        Bitch. Bitch.   \n",
       "36572                                                                             Ten dollar? Sucky-sucky?   \n",
       "23396                                                                  All right, maybe I should call her.   \n",
       "18906  Shut up Butters! What we have to find out is who in the school is running Eavesdropper! I've don...   \n",
       "63919                              I know what this is all about... You've always been jealous of my hair.   \n",
       "40238                                                                                  Oh, I love museums!   \n",
       "4747                         : So basically, you get your ya-yas by taking money from all of your friends.   \n",
       "29965                                                               Yeah, why's your family so poor Kenny?   \n",
       "44611  I don't know Tag! How can your genitals make phone calls? Okay? It's not a perfect world! Just g...   \n",
       "54000                                                                               Now, over to Chandler.   \n",
       "4242                                                                                    Wherere you going?   \n",
       "4287   Jesus, that's on the other side of town. All right, Kyle, I'm going to take a picture with my ca...   \n",
       "14939                                                                           Like I said, I don't know.   \n",
       "66564         Oh, he has a gig. I kinda like being married to a rock star, you know. My husband has a gig.   \n",
       "26764  Because when Kyle said he heard us say we made the video, we can say we were talking about THIS ...   \n",
       "63470                                                         Benjamin Hobart is administering that grant.   \n",
       "22984                                          Oh God damn it Kyle, I was just about to get what I wanted.   \n",
       "20814                         One more time, \"Hey, don't you want a washboard stomach and rock hard pecs?\"   \n",
       "25217                                             Well, m-no. I've got arms and legs; I've got everything.   \n",
       "36016                                                                                                  Oh!   \n",
       "50456           Did you not hear where my head was? Come on! Come on we're a team! We're in this together!   \n",
       "45987                                                                             I know! Robin is so gay!   \n",
       "40145                                                                                    What do you need?   \n",
       "41670  \"We thought Phoebe would leave, but she just stayed and stayed. That's right, I'm here all night...   \n",
       "34538                                                                                               Egh--    \n",
       "68719                                                                                 ...What did you say?   \n",
       "49991                                                                                      What, doughboy?   \n",
       "25997                     KYLE! IT'S ALL GONE! THEY'VE TAKEN IT ALL! WHY ARE THEY DOING THIS?! KYLE! KYLE!   \n",
       "25476                                                                          What are you talking about?   \n",
       "30393  No, Starvin' Marvin, that's Kenny's creamed corn.  No Starvin' Marvin, that's a bad Starvin' Mar...   \n",
       "27721  Umm, sympathy pains. I thought it was really sweet at first, but now I think he's just trying to...   \n",
       "3119   You have to tell her! You have to tell her! It's your moral obligation, as a friend, as a woman,...   \n",
       "4618                                                                             Then, uh, then I'm sorry.   \n",
       "21280                                               It's diet, dude. Diet soda doesn't give you diarrhea.    \n",
       "\n",
       "                     label            predicted  correct  \n",
       "63314         teen (10-19)         teen (10-19)     True  \n",
       "30036         teen (10-19)         teen (10-19)     True  \n",
       "54804         teen (10-19)  young adult (20-35)    False  \n",
       "55654  young adult (20-35)  young adult (20-35)     True  \n",
       "21677         teen (10-19)         teen (10-19)     True  \n",
       "29936  young adult (20-35)         teen (10-19)    False  \n",
       "23087         teen (10-19)         teen (10-19)     True  \n",
       "33432  young adult (20-35)  young adult (20-35)     True  \n",
       "27258  young adult (20-35)  young adult (20-35)     True  \n",
       "24913        elderly (50+)  young adult (20-35)    False  \n",
       "41017        adult (36-50)         teen (10-19)    False  \n",
       "25750        elderly (50+)         teen (10-19)    False  \n",
       "65391         teen (10-19)  young adult (20-35)    False  \n",
       "15912        adult (36-50)  young adult (20-35)    False  \n",
       "36162  young adult (20-35)  young adult (20-35)     True  \n",
       "53843         teen (10-19)         teen (10-19)     True  \n",
       "39525         teen (10-19)         teen (10-19)     True  \n",
       "36572         teen (10-19)         teen (10-19)     True  \n",
       "23396  young adult (20-35)  young adult (20-35)     True  \n",
       "18906         teen (10-19)         teen (10-19)     True  \n",
       "63919  young adult (20-35)  young adult (20-35)     True  \n",
       "40238  young adult (20-35)  young adult (20-35)     True  \n",
       "4747   young adult (20-35)         teen (10-19)    False  \n",
       "29965         teen (10-19)         teen (10-19)     True  \n",
       "44611  young adult (20-35)  young adult (20-35)     True  \n",
       "54000  young adult (20-35)  young adult (20-35)     True  \n",
       "4242   young adult (20-35)         teen (10-19)    False  \n",
       "4287          teen (10-19)  young adult (20-35)    False  \n",
       "14939        adult (36-50)  young adult (20-35)    False  \n",
       "66564  young adult (20-35)  young adult (20-35)     True  \n",
       "26764         teen (10-19)         teen (10-19)     True  \n",
       "63470  young adult (20-35)         teen (10-19)    False  \n",
       "22984         teen (10-19)         teen (10-19)     True  \n",
       "20814  young adult (20-35)  young adult (20-35)     True  \n",
       "25217         teen (10-19)  young adult (20-35)    False  \n",
       "36016  young adult (20-35)  young adult (20-35)     True  \n",
       "50456  young adult (20-35)  young adult (20-35)     True  \n",
       "45987  young adult (20-35)  young adult (20-35)     True  \n",
       "40145  young adult (20-35)  young adult (20-35)     True  \n",
       "41670  young adult (20-35)  young adult (20-35)     True  \n",
       "34538         teen (10-19)         teen (10-19)     True  \n",
       "68719         teen (10-19)  young adult (20-35)    False  \n",
       "49991         teen (10-19)         teen (10-19)     True  \n",
       "25997         teen (10-19)         teen (10-19)     True  \n",
       "25476         teen (10-19)  young adult (20-35)    False  \n",
       "30393         teen (10-19)         teen (10-19)     True  \n",
       "27721  young adult (20-35)  young adult (20-35)     True  \n",
       "3119   young adult (20-35)  young adult (20-35)     True  \n",
       "4618   young adult (20-35)  young adult (20-35)     True  \n",
       "21280         teen (10-19)         teen (10-19)     True  "
      ]
     },
     "execution_count": 39,
     "metadata": {},
     "output_type": "execute_result"
    }
   ],
   "source": [
    "show_samples(age_model, age_df, 'age')"
   ]
  },
  {
   "cell_type": "code",
   "execution_count": 40,
   "metadata": {
    "scrolled": false
   },
   "outputs": [
    {
     "data": {
      "text/html": [
       "<div>\n",
       "<style scoped>\n",
       "    .dataframe tbody tr th:only-of-type {\n",
       "        vertical-align: middle;\n",
       "    }\n",
       "\n",
       "    .dataframe tbody tr th {\n",
       "        vertical-align: top;\n",
       "    }\n",
       "\n",
       "    .dataframe thead th {\n",
       "        text-align: right;\n",
       "    }\n",
       "</style>\n",
       "<table border=\"1\" class=\"dataframe\">\n",
       "  <thead>\n",
       "    <tr style=\"text-align: right;\">\n",
       "      <th></th>\n",
       "      <th>Speaker</th>\n",
       "      <th>adult (36-50)</th>\n",
       "      <th>elderly (50+)</th>\n",
       "      <th>kid (0-9)</th>\n",
       "      <th>teen (10-19)</th>\n",
       "      <th>young adult (20-35)</th>\n",
       "    </tr>\n",
       "  </thead>\n",
       "  <tbody>\n",
       "    <tr>\n",
       "      <th>0</th>\n",
       "      <td>Chandler Bing</td>\n",
       "      <td>0.27%</td>\n",
       "      <td>0%</td>\n",
       "      <td>0.10%</td>\n",
       "      <td>18.29%</td>\n",
       "      <td>81.34%</td>\n",
       "    </tr>\n",
       "    <tr>\n",
       "      <th>1</th>\n",
       "      <td>Monica Geller</td>\n",
       "      <td>0.08%</td>\n",
       "      <td>0%</td>\n",
       "      <td>0.02%</td>\n",
       "      <td>15.45%</td>\n",
       "      <td>84.45%</td>\n",
       "    </tr>\n",
       "    <tr>\n",
       "      <th>2</th>\n",
       "      <td>Butters</td>\n",
       "      <td>0.54%</td>\n",
       "      <td>0%</td>\n",
       "      <td>0.12%</td>\n",
       "      <td>61.03%</td>\n",
       "      <td>38.31%</td>\n",
       "    </tr>\n",
       "    <tr>\n",
       "      <th>3</th>\n",
       "      <td>Cartman</td>\n",
       "      <td>0.90%</td>\n",
       "      <td>0%</td>\n",
       "      <td>0.11%</td>\n",
       "      <td>68.43%</td>\n",
       "      <td>30.55%</td>\n",
       "    </tr>\n",
       "    <tr>\n",
       "      <th>4</th>\n",
       "      <td>Stan</td>\n",
       "      <td>0.26%</td>\n",
       "      <td>0%</td>\n",
       "      <td>0.10%</td>\n",
       "      <td>65.72%</td>\n",
       "      <td>33.92%</td>\n",
       "    </tr>\n",
       "  </tbody>\n",
       "</table>\n",
       "</div>"
      ],
      "text/plain": [
       "         Speaker adult (36-50) elderly (50+) kid (0-9) teen (10-19)  \\\n",
       "0  Chandler Bing         0.27%            0%     0.10%       18.29%   \n",
       "1  Monica Geller         0.08%            0%     0.02%       15.45%   \n",
       "2        Butters         0.54%            0%     0.12%       61.03%   \n",
       "3        Cartman         0.90%            0%     0.11%       68.43%   \n",
       "4           Stan         0.26%            0%     0.10%       65.72%   \n",
       "\n",
       "  young adult (20-35)  \n",
       "0              81.34%  \n",
       "1              84.45%  \n",
       "2              38.31%  \n",
       "3              30.55%  \n",
       "4              33.92%  "
      ]
     },
     "execution_count": 40,
     "metadata": {},
     "output_type": "execute_result"
    }
   ],
   "source": [
    "analyze_character_predictions(age_model, age_df, characters)"
   ]
  },
  {
   "cell_type": "markdown",
   "metadata": {},
   "source": [
    "Again having the highest percentage as the final prediction leads to all characters shown above to be correctly classified. The characters from Friends (Chandler and Monica) have higher accuracies of roughly 80%, whereas the characters from South Park have accuracies of about 60% or slightly higher. "
   ]
  },
  {
   "cell_type": "markdown",
   "metadata": {
    "id": "YZvV3UlEbBjI"
   },
   "source": [
    "## Findings\n",
    "The reasonable results suggest that it is possible to predict the selected profile features given the dialogue of a person/character. It can even be said that it is possible to have fairly good predictions. However, the predictions aren't always perfect as we haven't acquired +/- 100% accuracy.\n",
    "\n",
    "The results also indicate that the models are better at predicting age than gender. In addition, it seems as if the age model has more difficulties classifying adults and elderly or that is has a slight bias towards teens and young adults."
   ]
  },
  {
   "cell_type": "markdown",
   "metadata": {
    "id": "QvBtf1SsbjFM"
   },
   "source": [
    "### Discussion\n",
    "We have seen that the accuracy of our system is roughly 60-70%. This could have possibly been higher since the accuracy may have been influenced by the mildly skewed data. Elderly and children were barely represented at all. This is partly because the age groups for the movie dataset were manually annotated and we simply did not have enough time to make sure each of the age groups were equally represented, since we could not evaluate each character in each movie. The skewed distribution also explains why classes were most often misclassified as teens or young adults. We did attempt to rectify the skewness by sampling smaller sets of the teens and YAs category, however we couldn’t make the distribution fairer without making the dataset too small for effective training. The kids category had a surprisingly good accuracy of almost 70%, even though its class wasn’t represented that well. This could maybe be explained that the speech of kids is often very different from speech of older categories. If there’s a more clear difference in speech, then it’s likely easier to predict. Elderly and adults are more probable to have similar dialogue with teens and (South Park) kids. If each age group and gender was equally represented in the dataset, perhaps better and fairer results could have followed.     \n",
    "\n",
    "Another point of discussion is that the data we used may have not been representative for the general age groups. South Park, for example, stars five young teenagers who use foul language that is generally not representative for ten year olds. In movies, fictional characters may talk about things and experience things that could be very unusual in other movies. One movie can be about children living in war-times where another movie is about children living in a fantasy world. So while the age group of the children in both movies is the same, their dialogue can be very different from each other. For representative results for different age groups, similar movies/tv-shows or general conversations should be used. Fictional characters living in unusual fictional settings may not be the most suitable for this classification task.  \n",
    "\n",
    "The personality dataset contained just around 800 data points to train on. There was also only data available for the five Friends main characters, so an absolute judgement of how well it performs cannot be made. All Friends main characters have similar character traits, since these characters were designed to be likeable and funny. So for a more in-depth research of personalities based on dialogue, different characters with different personalities should be represented in the data.   "
   ]
  },
  {
   "cell_type": "markdown",
   "metadata": {
    "id": "ypbqtTgbbvC9"
   },
   "source": [
    "## Conclusions\n",
    "In this final section we will briefly summarize the research we have conducted during this project and explain our findings. Then, we will elaborate on the lessons we have learned, and finally we will provide some suggestions of future work\n",
    "\n",
    "### Summary\n",
    "During this project we investigated if and to what extent dialogue could be used to predict profile features including gender, age and personality of a person, represented by movie and tv-show characters. The first part of the project consisted of cleaning and processing the datasets and analysing the contents and metadata. After having created a fairer training dataset, we could give the input to the models. For predicting gender and age we used a combination of the DistilBERT- and the Logistic Regression model. For predicting personality we have used a bi-directional LSTM. We evaluated the models based on the accuracy of their predictions. Furthermore, we elaborated the use of the models to predict the profile features of a character, based on all of their dialogue lines.\n",
    "\n",
    "### Lessons learned\n",
    "Possibly biased data and therefore predictions are a well-known problem in the field of artificial intelligence and machine learning. Doing this project we faced and realized the significance of this issue and the importance of trying to get a fair training dataset in order to get fair results. Although the task we achieved is relatively small and simple, it showed us that natural language processing can indeed be used in many different tasks and fields. We did realize however that the nature of the models restricts the transparency and explainability of the results. For example, we don’t know what features correspond more strongly to specific genders, age categories and personalities. Although the results are therefore not useful in knowing certain characteristics of speech, the predictions can still come in handy for when you want to have an estimation of someone’s profile features. Nevertheless, an analysis of profile features distinguishing features was outside the scope of this project and another project on its own.\n",
    "\n",
    "This project also allowed us to take a look at state-of-the-art models and actually try them out, giving us more insight into the field of NLP. \n",
    "\n",
    "Lastly, naturally with a team project, we developed collaborating skills. This was especially essential during the current times of the pandemic, which forced us to keep each other updated and communicate planning and tasks.\n",
    "\n",
    "### Future work\n",
    "Even though the results of the project were interesting and promising, there is still a lot that could be improved. To e.g. increase the accuracy of the models, it might be useful to create a better and fairer training dataset. Although we did try to fairly sample all the datasets, within the scope of the project and the time we had, it wasn’t perfect. It might be promising to instead of using movie and tv-series as data, to use real-life transcripts of interviews, dialogues or chats, etc. This could be achieved by setting up an experiment and gather participants with a fair spread of desired profile features. Moreover, it could be insightful to try out different classification models and compare results and accuracy. When we want to predict a feature that can have multiple labels, it can be more suitable to use a classifier specialized in more classes, such as a multilayer perceptron or a multinomial bayes classifier. The research could also be extended to predicting other interesting profile features, such as education level or profession.\n",
    "\n",
    "When a more accurate profile feature predictor can be built, it could be fruitful in usage for a chatbot. If a chatbot is able to guess characteristics of its conversation partner, then its conversational style and language usage could be adjusted accordingly, in order to make for smoother and more successful conversations. And if the chatbot is asked for e.g. movie recommendations, then it will perhaps be able to recommend more suitable movies."
   ]
  },
  {
   "cell_type": "markdown",
   "metadata": {},
   "source": [
    "*   [1] Hancock, Adrienne B., Holly Wilder Stutts, and Annie Bass. 2014. “Perceptions of Gender and Femininity Based on Language: Implications for Transgender Communication Therapy.” Language and Speech 58 (3): 315–33. https://doi.org/10.1177/0023830914549084. \n",
    "\n",
    "*   [2] Schwartz, H. Andrew, Johannes C. Eichstaedt, Margaret L. Kern, Lukasz Dziurzynski, Stephanie M. Ramones, Megha Agrawal, Achal Shah, et al. 2013. “Personality, Gender, and Age in the Language of Social Media: The Open-Vocabulary Approach.” Edited by Tobias Preis. PLoS ONE 8 (9): e73791. https://doi.org/10.1371/journal.pone.0073791. \n",
    "\n",
    "*   [3] Levitan, Sarah Ita, Taniya Mishra, and Srinivas Bangalore. 2016. “Automatic Identification of Gender from Speech.” In Speech Prosody 2016. ISCA. https://doi.org/10.21437/speechprosody.2016-18. \n",
    "\n",
    "*   [4] Archana, G. S., and M. Malleswari. 2015. “Gender Identification and Performance Analysis of Speech Signals.” In 2015 Global Conference on Communication Technologies (GCCT). IEEE. https://doi.org/10.1109/gcct.2015.7342709.\n",
    "\n",
    "*   [5] Sedaaghi, Mohammad. 2009. “A Comparative Study of Gender and Age Classification in Speech Signals.” Iranian Journal of Electrical & Electronic Engineering. 5. \n",
    "\n",
    "*   [6] Schofield, Alexandra, and Leo Mehr. 2016. “Gender-Distinguishing Features in Film Dialogue.” In Proceedings of the Fifth Workshop on Computational Linguistics for Literature. Association for Computational Linguistics. https://doi.org/10.18653/v1/w16-0204. \n",
    "\n",
    "*   [7] Park, Sunghee, and Jiyoung Woo. 2019. “Gender Classification Using Sentiment Analysis and Deep Learning in a Health Web Forum.” Applied Sciences 9 (6): 1249. https://doi.org/10.3390/app9061249. \n",
    "\n",
    "*   [8] Katerenchuk, Denys. 2018. “Age Group Classification with Speech and Metadata Multimodality Fusion.” In Proceedings of the 15th Conference of the European Chapter of the Association for Computational Linguistics: Volume 2, Short Papers.\n",
    "\n",
    "*   [9] Jiang, Hang & Zhang, Xianzhe & Choi, Jinho. 2019. “Automatic Text-based Personality Recognition on Monologues and Multiparty Dialogues Using Attentive Networks and Contextual Embeddings.” \n",
    "\n",
    "*   [10] Devlin, Jacob, Ming-Wei Chang, Kenton Lee, and Kristina Toutanova. 2019. In Proceedings of the 2019 Conference of the North. Association for Computational Linguistics. https://doi.org/10.18653/v1/n19-1423."
   ]
  }
 ],
 "metadata": {
  "accelerator": "GPU",
  "colab": {
   "collapsed_sections": [],
   "name": "Final Project Structured.ipynb",
   "provenance": []
  },
  "kernelspec": {
   "display_name": "lsdp",
   "language": "python",
   "name": "lsdp"
  },
  "language_info": {
   "codemirror_mode": {
    "name": "ipython",
    "version": 3
   },
   "file_extension": ".py",
   "mimetype": "text/x-python",
   "name": "python",
   "nbconvert_exporter": "python",
   "pygments_lexer": "ipython3",
   "version": "3.8.5"
  }
 },
 "nbformat": 4,
 "nbformat_minor": 1
}
