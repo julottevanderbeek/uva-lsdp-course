{
  "nbformat": 4,
  "nbformat_minor": 0,
  "metadata": {
    "colab": {
      "name": "Project Report.ipynb",
      "provenance": [],
      "collapsed_sections": [],
      "toc_visible": true
    },
    "kernelspec": {
      "display_name": "Python 3",
      "name": "python3"
    },
    "widgets": {
      "application/vnd.jupyter.widget-state+json": {
        "72b72956e866445880710d9d947ac39b": {
          "model_module": "@jupyter-widgets/controls",
          "model_name": "HBoxModel",
          "state": {
            "_view_name": "HBoxView",
            "_dom_classes": [],
            "_model_name": "HBoxModel",
            "_view_module": "@jupyter-widgets/controls",
            "_model_module_version": "1.5.0",
            "_view_count": null,
            "_view_module_version": "1.5.0",
            "box_style": "",
            "layout": "IPY_MODEL_5324047f2ae84981b351b6a9acbdb3a1",
            "_model_module": "@jupyter-widgets/controls",
            "children": [
              "IPY_MODEL_5ed57fdc001e4df2a9034c760abd7a94",
              "IPY_MODEL_a4d26bec91594bbb91473997f0645335",
              "IPY_MODEL_29c385dca6834a9694a6099debf42fc8"
            ]
          }
        },
        "5324047f2ae84981b351b6a9acbdb3a1": {
          "model_module": "@jupyter-widgets/base",
          "model_name": "LayoutModel",
          "state": {
            "_view_name": "LayoutView",
            "grid_template_rows": null,
            "right": null,
            "justify_content": null,
            "_view_module": "@jupyter-widgets/base",
            "overflow": null,
            "_model_module_version": "1.2.0",
            "_view_count": null,
            "flex_flow": null,
            "width": null,
            "min_width": null,
            "border": null,
            "align_items": null,
            "bottom": null,
            "_model_module": "@jupyter-widgets/base",
            "top": null,
            "grid_column": null,
            "overflow_y": null,
            "overflow_x": null,
            "grid_auto_flow": null,
            "grid_area": null,
            "grid_template_columns": null,
            "flex": null,
            "_model_name": "LayoutModel",
            "justify_items": null,
            "grid_row": null,
            "max_height": null,
            "align_content": null,
            "visibility": null,
            "align_self": null,
            "height": null,
            "min_height": null,
            "padding": null,
            "grid_auto_rows": null,
            "grid_gap": null,
            "max_width": null,
            "order": null,
            "_view_module_version": "1.2.0",
            "grid_template_areas": null,
            "object_position": null,
            "object_fit": null,
            "grid_auto_columns": null,
            "margin": null,
            "display": null,
            "left": null
          }
        },
        "5ed57fdc001e4df2a9034c760abd7a94": {
          "model_module": "@jupyter-widgets/controls",
          "model_name": "ImageModel",
          "state": {
            "_view_name": "ImageView",
            "_dom_classes": [],
            "_model_name": "ImageModel",
            "format": "png",
            "_view_module": "@jupyter-widgets/controls",
            "_model_module_version": "1.5.0",
            "_view_count": null,
            "width": "390",
            "_view_module_version": "1.5.0",
            "layout": "IPY_MODEL_254a5838aaaa4b0dbe43e6cf37a25c3f",
            "height": "400",
            "_model_module": "@jupyter-widgets/controls"
          }
        },
        "a4d26bec91594bbb91473997f0645335": {
          "model_module": "@jupyter-widgets/controls",
          "model_name": "ImageModel",
          "state": {
            "_view_name": "ImageView",
            "_dom_classes": [],
            "_model_name": "ImageModel",
            "format": "png",
            "_view_module": "@jupyter-widgets/controls",
            "_model_module_version": "1.5.0",
            "_view_count": null,
            "width": "390",
            "_view_module_version": "1.5.0",
            "layout": "IPY_MODEL_593dbf7516764b04b0042c43d152be97",
            "height": "400",
            "_model_module": "@jupyter-widgets/controls"
          }
        },
        "29c385dca6834a9694a6099debf42fc8": {
          "model_module": "@jupyter-widgets/controls",
          "model_name": "ImageModel",
          "state": {
            "_view_name": "ImageView",
            "_dom_classes": [],
            "_model_name": "ImageModel",
            "format": "png",
            "_view_module": "@jupyter-widgets/controls",
            "_model_module_version": "1.5.0",
            "_view_count": null,
            "width": "390",
            "_view_module_version": "1.5.0",
            "layout": "IPY_MODEL_914215752534409bb4557d3cf69d87cd",
            "height": "400",
            "_model_module": "@jupyter-widgets/controls"
          }
        },
        "254a5838aaaa4b0dbe43e6cf37a25c3f": {
          "model_module": "@jupyter-widgets/base",
          "model_name": "LayoutModel",
          "state": {
            "_view_name": "LayoutView",
            "grid_template_rows": null,
            "right": null,
            "justify_content": null,
            "_view_module": "@jupyter-widgets/base",
            "overflow": null,
            "_model_module_version": "1.2.0",
            "_view_count": null,
            "flex_flow": null,
            "width": null,
            "min_width": null,
            "border": null,
            "align_items": null,
            "bottom": null,
            "_model_module": "@jupyter-widgets/base",
            "top": null,
            "grid_column": null,
            "overflow_y": null,
            "overflow_x": null,
            "grid_auto_flow": null,
            "grid_area": null,
            "grid_template_columns": null,
            "flex": null,
            "_model_name": "LayoutModel",
            "justify_items": null,
            "grid_row": null,
            "max_height": null,
            "align_content": null,
            "visibility": null,
            "align_self": null,
            "height": null,
            "min_height": null,
            "padding": null,
            "grid_auto_rows": null,
            "grid_gap": null,
            "max_width": null,
            "order": null,
            "_view_module_version": "1.2.0",
            "grid_template_areas": null,
            "object_position": null,
            "object_fit": null,
            "grid_auto_columns": null,
            "margin": null,
            "display": null,
            "left": null
          }
        },
        "593dbf7516764b04b0042c43d152be97": {
          "model_module": "@jupyter-widgets/base",
          "model_name": "LayoutModel",
          "state": {
            "_view_name": "LayoutView",
            "grid_template_rows": null,
            "right": null,
            "justify_content": null,
            "_view_module": "@jupyter-widgets/base",
            "overflow": null,
            "_model_module_version": "1.2.0",
            "_view_count": null,
            "flex_flow": null,
            "width": null,
            "min_width": null,
            "border": null,
            "align_items": null,
            "bottom": null,
            "_model_module": "@jupyter-widgets/base",
            "top": null,
            "grid_column": null,
            "overflow_y": null,
            "overflow_x": null,
            "grid_auto_flow": null,
            "grid_area": null,
            "grid_template_columns": null,
            "flex": null,
            "_model_name": "LayoutModel",
            "justify_items": null,
            "grid_row": null,
            "max_height": null,
            "align_content": null,
            "visibility": null,
            "align_self": null,
            "height": null,
            "min_height": null,
            "padding": null,
            "grid_auto_rows": null,
            "grid_gap": null,
            "max_width": null,
            "order": null,
            "_view_module_version": "1.2.0",
            "grid_template_areas": null,
            "object_position": null,
            "object_fit": null,
            "grid_auto_columns": null,
            "margin": null,
            "display": null,
            "left": null
          }
        },
        "914215752534409bb4557d3cf69d87cd": {
          "model_module": "@jupyter-widgets/base",
          "model_name": "LayoutModel",
          "state": {
            "_view_name": "LayoutView",
            "grid_template_rows": null,
            "right": null,
            "justify_content": null,
            "_view_module": "@jupyter-widgets/base",
            "overflow": null,
            "_model_module_version": "1.2.0",
            "_view_count": null,
            "flex_flow": null,
            "width": null,
            "min_width": null,
            "border": null,
            "align_items": null,
            "bottom": null,
            "_model_module": "@jupyter-widgets/base",
            "top": null,
            "grid_column": null,
            "overflow_y": null,
            "overflow_x": null,
            "grid_auto_flow": null,
            "grid_area": null,
            "grid_template_columns": null,
            "flex": null,
            "_model_name": "LayoutModel",
            "justify_items": null,
            "grid_row": null,
            "max_height": null,
            "align_content": null,
            "visibility": null,
            "align_self": null,
            "height": null,
            "min_height": null,
            "padding": null,
            "grid_auto_rows": null,
            "grid_gap": null,
            "max_width": null,
            "order": null,
            "_view_module_version": "1.2.0",
            "grid_template_areas": null,
            "object_position": null,
            "object_fit": null,
            "grid_auto_columns": null,
            "margin": null,
            "display": null,
            "left": null
          }
        },
        "4dbac4ce262a4184b9de47db4489d4d0": {
          "model_module": "@jupyter-widgets/controls",
          "model_name": "HBoxModel",
          "state": {
            "_view_name": "HBoxView",
            "_dom_classes": [],
            "_model_name": "HBoxModel",
            "_view_module": "@jupyter-widgets/controls",
            "_model_module_version": "1.5.0",
            "_view_count": null,
            "_view_module_version": "1.5.0",
            "box_style": "",
            "layout": "IPY_MODEL_c87fea4a36ea4172bdd1d9019055bde4",
            "_model_module": "@jupyter-widgets/controls",
            "children": [
              "IPY_MODEL_7a8b96a7f8f947bfa7d49a86cf239c1c",
              "IPY_MODEL_5d24641e74b8444f8fbafb31e1dbcb43",
              "IPY_MODEL_0254af4c227b43cb8cade189f848e900"
            ]
          }
        },
        "c87fea4a36ea4172bdd1d9019055bde4": {
          "model_module": "@jupyter-widgets/base",
          "model_name": "LayoutModel",
          "state": {
            "_view_name": "LayoutView",
            "grid_template_rows": null,
            "right": null,
            "justify_content": null,
            "_view_module": "@jupyter-widgets/base",
            "overflow": null,
            "_model_module_version": "1.2.0",
            "_view_count": null,
            "flex_flow": null,
            "width": null,
            "min_width": null,
            "border": null,
            "align_items": null,
            "bottom": null,
            "_model_module": "@jupyter-widgets/base",
            "top": null,
            "grid_column": null,
            "overflow_y": null,
            "overflow_x": null,
            "grid_auto_flow": null,
            "grid_area": null,
            "grid_template_columns": null,
            "flex": null,
            "_model_name": "LayoutModel",
            "justify_items": null,
            "grid_row": null,
            "max_height": null,
            "align_content": null,
            "visibility": null,
            "align_self": null,
            "height": null,
            "min_height": null,
            "padding": null,
            "grid_auto_rows": null,
            "grid_gap": null,
            "max_width": null,
            "order": null,
            "_view_module_version": "1.2.0",
            "grid_template_areas": null,
            "object_position": null,
            "object_fit": null,
            "grid_auto_columns": null,
            "margin": null,
            "display": null,
            "left": null
          }
        },
        "7a8b96a7f8f947bfa7d49a86cf239c1c": {
          "model_module": "@jupyter-widgets/controls",
          "model_name": "ImageModel",
          "state": {
            "_view_name": "ImageView",
            "_dom_classes": [],
            "_model_name": "ImageModel",
            "format": "png",
            "_view_module": "@jupyter-widgets/controls",
            "_model_module_version": "1.5.0",
            "_view_count": null,
            "width": "390",
            "_view_module_version": "1.5.0",
            "layout": "IPY_MODEL_c34de5dc1d4e44a29523c196e4f73506",
            "height": "400",
            "_model_module": "@jupyter-widgets/controls"
          }
        },
        "5d24641e74b8444f8fbafb31e1dbcb43": {
          "model_module": "@jupyter-widgets/controls",
          "model_name": "ImageModel",
          "state": {
            "_view_name": "ImageView",
            "_dom_classes": [],
            "_model_name": "ImageModel",
            "format": "png",
            "_view_module": "@jupyter-widgets/controls",
            "_model_module_version": "1.5.0",
            "_view_count": null,
            "width": "390",
            "_view_module_version": "1.5.0",
            "layout": "IPY_MODEL_10d4ba88c5f541d0aa5d363ebd9b1edc",
            "height": "400",
            "_model_module": "@jupyter-widgets/controls"
          }
        },
        "0254af4c227b43cb8cade189f848e900": {
          "model_module": "@jupyter-widgets/controls",
          "model_name": "ImageModel",
          "state": {
            "_view_name": "ImageView",
            "_dom_classes": [],
            "_model_name": "ImageModel",
            "format": "png",
            "_view_module": "@jupyter-widgets/controls",
            "_model_module_version": "1.5.0",
            "_view_count": null,
            "width": "390",
            "_view_module_version": "1.5.0",
            "layout": "IPY_MODEL_12bc6d4caac84c23beecc7395db57ddb",
            "height": "400",
            "_model_module": "@jupyter-widgets/controls"
          }
        },
        "c34de5dc1d4e44a29523c196e4f73506": {
          "model_module": "@jupyter-widgets/base",
          "model_name": "LayoutModel",
          "state": {
            "_view_name": "LayoutView",
            "grid_template_rows": null,
            "right": null,
            "justify_content": null,
            "_view_module": "@jupyter-widgets/base",
            "overflow": null,
            "_model_module_version": "1.2.0",
            "_view_count": null,
            "flex_flow": null,
            "width": null,
            "min_width": null,
            "border": null,
            "align_items": null,
            "bottom": null,
            "_model_module": "@jupyter-widgets/base",
            "top": null,
            "grid_column": null,
            "overflow_y": null,
            "overflow_x": null,
            "grid_auto_flow": null,
            "grid_area": null,
            "grid_template_columns": null,
            "flex": null,
            "_model_name": "LayoutModel",
            "justify_items": null,
            "grid_row": null,
            "max_height": null,
            "align_content": null,
            "visibility": null,
            "align_self": null,
            "height": null,
            "min_height": null,
            "padding": null,
            "grid_auto_rows": null,
            "grid_gap": null,
            "max_width": null,
            "order": null,
            "_view_module_version": "1.2.0",
            "grid_template_areas": null,
            "object_position": null,
            "object_fit": null,
            "grid_auto_columns": null,
            "margin": null,
            "display": null,
            "left": null
          }
        },
        "10d4ba88c5f541d0aa5d363ebd9b1edc": {
          "model_module": "@jupyter-widgets/base",
          "model_name": "LayoutModel",
          "state": {
            "_view_name": "LayoutView",
            "grid_template_rows": null,
            "right": null,
            "justify_content": null,
            "_view_module": "@jupyter-widgets/base",
            "overflow": null,
            "_model_module_version": "1.2.0",
            "_view_count": null,
            "flex_flow": null,
            "width": null,
            "min_width": null,
            "border": null,
            "align_items": null,
            "bottom": null,
            "_model_module": "@jupyter-widgets/base",
            "top": null,
            "grid_column": null,
            "overflow_y": null,
            "overflow_x": null,
            "grid_auto_flow": null,
            "grid_area": null,
            "grid_template_columns": null,
            "flex": null,
            "_model_name": "LayoutModel",
            "justify_items": null,
            "grid_row": null,
            "max_height": null,
            "align_content": null,
            "visibility": null,
            "align_self": null,
            "height": null,
            "min_height": null,
            "padding": null,
            "grid_auto_rows": null,
            "grid_gap": null,
            "max_width": null,
            "order": null,
            "_view_module_version": "1.2.0",
            "grid_template_areas": null,
            "object_position": null,
            "object_fit": null,
            "grid_auto_columns": null,
            "margin": null,
            "display": null,
            "left": null
          }
        },
        "12bc6d4caac84c23beecc7395db57ddb": {
          "model_module": "@jupyter-widgets/base",
          "model_name": "LayoutModel",
          "state": {
            "_view_name": "LayoutView",
            "grid_template_rows": null,
            "right": null,
            "justify_content": null,
            "_view_module": "@jupyter-widgets/base",
            "overflow": null,
            "_model_module_version": "1.2.0",
            "_view_count": null,
            "flex_flow": null,
            "width": null,
            "min_width": null,
            "border": null,
            "align_items": null,
            "bottom": null,
            "_model_module": "@jupyter-widgets/base",
            "top": null,
            "grid_column": null,
            "overflow_y": null,
            "overflow_x": null,
            "grid_auto_flow": null,
            "grid_area": null,
            "grid_template_columns": null,
            "flex": null,
            "_model_name": "LayoutModel",
            "justify_items": null,
            "grid_row": null,
            "max_height": null,
            "align_content": null,
            "visibility": null,
            "align_self": null,
            "height": null,
            "min_height": null,
            "padding": null,
            "grid_auto_rows": null,
            "grid_gap": null,
            "max_width": null,
            "order": null,
            "_view_module_version": "1.2.0",
            "grid_template_areas": null,
            "object_position": null,
            "object_fit": null,
            "grid_auto_columns": null,
            "margin": null,
            "display": null,
            "left": null
          }
        },
        "dd7be10ee6824edfa94257516adcd5b5": {
          "model_module": "@jupyter-widgets/controls",
          "model_name": "HBoxModel",
          "state": {
            "_view_name": "HBoxView",
            "_dom_classes": [],
            "_model_name": "HBoxModel",
            "_view_module": "@jupyter-widgets/controls",
            "_model_module_version": "1.5.0",
            "_view_count": null,
            "_view_module_version": "1.5.0",
            "box_style": "",
            "layout": "IPY_MODEL_ff7eed3389fc4329b594370ab0d502aa",
            "_model_module": "@jupyter-widgets/controls",
            "children": [
              "IPY_MODEL_4fece8e9a0e14083b39910b4c690ba23",
              "IPY_MODEL_d750a3a69a5a4f299b5033ddcd35218b"
            ]
          }
        },
        "ff7eed3389fc4329b594370ab0d502aa": {
          "model_module": "@jupyter-widgets/base",
          "model_name": "LayoutModel",
          "state": {
            "_view_name": "LayoutView",
            "grid_template_rows": null,
            "right": null,
            "justify_content": null,
            "_view_module": "@jupyter-widgets/base",
            "overflow": null,
            "_model_module_version": "1.2.0",
            "_view_count": null,
            "flex_flow": null,
            "width": null,
            "min_width": null,
            "border": null,
            "align_items": null,
            "bottom": null,
            "_model_module": "@jupyter-widgets/base",
            "top": null,
            "grid_column": null,
            "overflow_y": null,
            "overflow_x": null,
            "grid_auto_flow": null,
            "grid_area": null,
            "grid_template_columns": null,
            "flex": null,
            "_model_name": "LayoutModel",
            "justify_items": null,
            "grid_row": null,
            "max_height": null,
            "align_content": null,
            "visibility": null,
            "align_self": null,
            "height": null,
            "min_height": null,
            "padding": null,
            "grid_auto_rows": null,
            "grid_gap": null,
            "max_width": null,
            "order": null,
            "_view_module_version": "1.2.0",
            "grid_template_areas": null,
            "object_position": null,
            "object_fit": null,
            "grid_auto_columns": null,
            "margin": null,
            "display": null,
            "left": null
          }
        },
        "4fece8e9a0e14083b39910b4c690ba23": {
          "model_module": "@jupyter-widgets/controls",
          "model_name": "ImageModel",
          "state": {
            "_view_name": "ImageView",
            "_dom_classes": [],
            "_model_name": "ImageModel",
            "format": "png",
            "_view_module": "@jupyter-widgets/controls",
            "_model_module_version": "1.5.0",
            "_view_count": null,
            "width": "390",
            "_view_module_version": "1.5.0",
            "layout": "IPY_MODEL_93c445721e734316b2757e6024646a51",
            "height": "400",
            "_model_module": "@jupyter-widgets/controls"
          }
        },
        "d750a3a69a5a4f299b5033ddcd35218b": {
          "model_module": "@jupyter-widgets/controls",
          "model_name": "ImageModel",
          "state": {
            "_view_name": "ImageView",
            "_dom_classes": [],
            "_model_name": "ImageModel",
            "format": "png",
            "_view_module": "@jupyter-widgets/controls",
            "_model_module_version": "1.5.0",
            "_view_count": null,
            "width": "390",
            "_view_module_version": "1.5.0",
            "layout": "IPY_MODEL_78ce264ce8284e378326ae63ac306cc4",
            "height": "400",
            "_model_module": "@jupyter-widgets/controls"
          }
        },
        "93c445721e734316b2757e6024646a51": {
          "model_module": "@jupyter-widgets/base",
          "model_name": "LayoutModel",
          "state": {
            "_view_name": "LayoutView",
            "grid_template_rows": null,
            "right": null,
            "justify_content": null,
            "_view_module": "@jupyter-widgets/base",
            "overflow": null,
            "_model_module_version": "1.2.0",
            "_view_count": null,
            "flex_flow": null,
            "width": null,
            "min_width": null,
            "border": null,
            "align_items": null,
            "bottom": null,
            "_model_module": "@jupyter-widgets/base",
            "top": null,
            "grid_column": null,
            "overflow_y": null,
            "overflow_x": null,
            "grid_auto_flow": null,
            "grid_area": null,
            "grid_template_columns": null,
            "flex": null,
            "_model_name": "LayoutModel",
            "justify_items": null,
            "grid_row": null,
            "max_height": null,
            "align_content": null,
            "visibility": null,
            "align_self": null,
            "height": null,
            "min_height": null,
            "padding": null,
            "grid_auto_rows": null,
            "grid_gap": null,
            "max_width": null,
            "order": null,
            "_view_module_version": "1.2.0",
            "grid_template_areas": null,
            "object_position": null,
            "object_fit": null,
            "grid_auto_columns": null,
            "margin": null,
            "display": null,
            "left": null
          }
        },
        "78ce264ce8284e378326ae63ac306cc4": {
          "model_module": "@jupyter-widgets/base",
          "model_name": "LayoutModel",
          "state": {
            "_view_name": "LayoutView",
            "grid_template_rows": null,
            "right": null,
            "justify_content": null,
            "_view_module": "@jupyter-widgets/base",
            "overflow": null,
            "_model_module_version": "1.2.0",
            "_view_count": null,
            "flex_flow": null,
            "width": null,
            "min_width": null,
            "border": null,
            "align_items": null,
            "bottom": null,
            "_model_module": "@jupyter-widgets/base",
            "top": null,
            "grid_column": null,
            "overflow_y": null,
            "overflow_x": null,
            "grid_auto_flow": null,
            "grid_area": null,
            "grid_template_columns": null,
            "flex": null,
            "_model_name": "LayoutModel",
            "justify_items": null,
            "grid_row": null,
            "max_height": null,
            "align_content": null,
            "visibility": null,
            "align_self": null,
            "height": null,
            "min_height": null,
            "padding": null,
            "grid_auto_rows": null,
            "grid_gap": null,
            "max_width": null,
            "order": null,
            "_view_module_version": "1.2.0",
            "grid_template_areas": null,
            "object_position": null,
            "object_fit": null,
            "grid_auto_columns": null,
            "margin": null,
            "display": null,
            "left": null
          }
        },
        "116beac08ab14be3b38127169303147d": {
          "model_module": "@jupyter-widgets/controls",
          "model_name": "HBoxModel",
          "state": {
            "_view_name": "HBoxView",
            "_dom_classes": [],
            "_model_name": "HBoxModel",
            "_view_module": "@jupyter-widgets/controls",
            "_model_module_version": "1.5.0",
            "_view_count": null,
            "_view_module_version": "1.5.0",
            "box_style": "",
            "layout": "IPY_MODEL_77c3bb6a37f54c78b3e8255fd73e0289",
            "_model_module": "@jupyter-widgets/controls",
            "children": [
              "IPY_MODEL_b73cbe6297a5491b9de97aefe92ee3f5",
              "IPY_MODEL_4b46378a967b4d24bb0a38aa47a36561",
              "IPY_MODEL_5fb8d6fd6e8645d6bd9c01336c16ecb7"
            ]
          }
        },
        "77c3bb6a37f54c78b3e8255fd73e0289": {
          "model_module": "@jupyter-widgets/base",
          "model_name": "LayoutModel",
          "state": {
            "_view_name": "LayoutView",
            "grid_template_rows": null,
            "right": null,
            "justify_content": null,
            "_view_module": "@jupyter-widgets/base",
            "overflow": null,
            "_model_module_version": "1.2.0",
            "_view_count": null,
            "flex_flow": null,
            "width": null,
            "min_width": null,
            "border": null,
            "align_items": null,
            "bottom": null,
            "_model_module": "@jupyter-widgets/base",
            "top": null,
            "grid_column": null,
            "overflow_y": null,
            "overflow_x": null,
            "grid_auto_flow": null,
            "grid_area": null,
            "grid_template_columns": null,
            "flex": null,
            "_model_name": "LayoutModel",
            "justify_items": null,
            "grid_row": null,
            "max_height": null,
            "align_content": null,
            "visibility": null,
            "align_self": null,
            "height": null,
            "min_height": null,
            "padding": null,
            "grid_auto_rows": null,
            "grid_gap": null,
            "max_width": null,
            "order": null,
            "_view_module_version": "1.2.0",
            "grid_template_areas": null,
            "object_position": null,
            "object_fit": null,
            "grid_auto_columns": null,
            "margin": null,
            "display": null,
            "left": null
          }
        },
        "b73cbe6297a5491b9de97aefe92ee3f5": {
          "model_module": "@jupyter-widgets/controls",
          "model_name": "ImageModel",
          "state": {
            "_view_name": "ImageView",
            "_dom_classes": [],
            "_model_name": "ImageModel",
            "format": "png",
            "_view_module": "@jupyter-widgets/controls",
            "_model_module_version": "1.5.0",
            "_view_count": null,
            "width": "390",
            "_view_module_version": "1.5.0",
            "layout": "IPY_MODEL_f7ea6248355d4f03bb9a4392fb7ae678",
            "height": "400",
            "_model_module": "@jupyter-widgets/controls"
          }
        },
        "4b46378a967b4d24bb0a38aa47a36561": {
          "model_module": "@jupyter-widgets/controls",
          "model_name": "ImageModel",
          "state": {
            "_view_name": "ImageView",
            "_dom_classes": [],
            "_model_name": "ImageModel",
            "format": "png",
            "_view_module": "@jupyter-widgets/controls",
            "_model_module_version": "1.5.0",
            "_view_count": null,
            "width": "390",
            "_view_module_version": "1.5.0",
            "layout": "IPY_MODEL_419c990a9b0e41829b31bba464b79aa0",
            "height": "400",
            "_model_module": "@jupyter-widgets/controls"
          }
        },
        "5fb8d6fd6e8645d6bd9c01336c16ecb7": {
          "model_module": "@jupyter-widgets/controls",
          "model_name": "ImageModel",
          "state": {
            "_view_name": "ImageView",
            "_dom_classes": [],
            "_model_name": "ImageModel",
            "format": "png",
            "_view_module": "@jupyter-widgets/controls",
            "_model_module_version": "1.5.0",
            "_view_count": null,
            "width": "390",
            "_view_module_version": "1.5.0",
            "layout": "IPY_MODEL_f1f803c456d1437bb14e6c6319b30b35",
            "height": "400",
            "_model_module": "@jupyter-widgets/controls"
          }
        },
        "f7ea6248355d4f03bb9a4392fb7ae678": {
          "model_module": "@jupyter-widgets/base",
          "model_name": "LayoutModel",
          "state": {
            "_view_name": "LayoutView",
            "grid_template_rows": null,
            "right": null,
            "justify_content": null,
            "_view_module": "@jupyter-widgets/base",
            "overflow": null,
            "_model_module_version": "1.2.0",
            "_view_count": null,
            "flex_flow": null,
            "width": null,
            "min_width": null,
            "border": null,
            "align_items": null,
            "bottom": null,
            "_model_module": "@jupyter-widgets/base",
            "top": null,
            "grid_column": null,
            "overflow_y": null,
            "overflow_x": null,
            "grid_auto_flow": null,
            "grid_area": null,
            "grid_template_columns": null,
            "flex": null,
            "_model_name": "LayoutModel",
            "justify_items": null,
            "grid_row": null,
            "max_height": null,
            "align_content": null,
            "visibility": null,
            "align_self": null,
            "height": null,
            "min_height": null,
            "padding": null,
            "grid_auto_rows": null,
            "grid_gap": null,
            "max_width": null,
            "order": null,
            "_view_module_version": "1.2.0",
            "grid_template_areas": null,
            "object_position": null,
            "object_fit": null,
            "grid_auto_columns": null,
            "margin": null,
            "display": null,
            "left": null
          }
        },
        "419c990a9b0e41829b31bba464b79aa0": {
          "model_module": "@jupyter-widgets/base",
          "model_name": "LayoutModel",
          "state": {
            "_view_name": "LayoutView",
            "grid_template_rows": null,
            "right": null,
            "justify_content": null,
            "_view_module": "@jupyter-widgets/base",
            "overflow": null,
            "_model_module_version": "1.2.0",
            "_view_count": null,
            "flex_flow": null,
            "width": null,
            "min_width": null,
            "border": null,
            "align_items": null,
            "bottom": null,
            "_model_module": "@jupyter-widgets/base",
            "top": null,
            "grid_column": null,
            "overflow_y": null,
            "overflow_x": null,
            "grid_auto_flow": null,
            "grid_area": null,
            "grid_template_columns": null,
            "flex": null,
            "_model_name": "LayoutModel",
            "justify_items": null,
            "grid_row": null,
            "max_height": null,
            "align_content": null,
            "visibility": null,
            "align_self": null,
            "height": null,
            "min_height": null,
            "padding": null,
            "grid_auto_rows": null,
            "grid_gap": null,
            "max_width": null,
            "order": null,
            "_view_module_version": "1.2.0",
            "grid_template_areas": null,
            "object_position": null,
            "object_fit": null,
            "grid_auto_columns": null,
            "margin": null,
            "display": null,
            "left": null
          }
        },
        "f1f803c456d1437bb14e6c6319b30b35": {
          "model_module": "@jupyter-widgets/base",
          "model_name": "LayoutModel",
          "state": {
            "_view_name": "LayoutView",
            "grid_template_rows": null,
            "right": null,
            "justify_content": null,
            "_view_module": "@jupyter-widgets/base",
            "overflow": null,
            "_model_module_version": "1.2.0",
            "_view_count": null,
            "flex_flow": null,
            "width": null,
            "min_width": null,
            "border": null,
            "align_items": null,
            "bottom": null,
            "_model_module": "@jupyter-widgets/base",
            "top": null,
            "grid_column": null,
            "overflow_y": null,
            "overflow_x": null,
            "grid_auto_flow": null,
            "grid_area": null,
            "grid_template_columns": null,
            "flex": null,
            "_model_name": "LayoutModel",
            "justify_items": null,
            "grid_row": null,
            "max_height": null,
            "align_content": null,
            "visibility": null,
            "align_self": null,
            "height": null,
            "min_height": null,
            "padding": null,
            "grid_auto_rows": null,
            "grid_gap": null,
            "max_width": null,
            "order": null,
            "_view_module_version": "1.2.0",
            "grid_template_areas": null,
            "object_position": null,
            "object_fit": null,
            "grid_auto_columns": null,
            "margin": null,
            "display": null,
            "left": null
          }
        }
      }
    }
  },
  "cells": [
    {
      "cell_type": "markdown",
      "metadata": {
        "id": "q7Z0ed6oFcki"
      },
      "source": [
        "#  **Author profiling** - *The writing creates the writer*\n",
        "\n",
        "**Course:** Language speech and dialogue processing 2021\n",
        "\n",
        "**Course Code:** 508\n",
        "\n",
        "**Authors**: Emma Quist - \n",
        "Thijs Rood - \n",
        "David Borensztajn\n",
        "\n",
        "**Teaching Assistant:** Silvan Murre"
      ]
    },
    {
      "cell_type": "markdown",
      "metadata": {
        "id": "liIOF0LQLy3_"
      },
      "source": [
        "# Table of contents\n",
        "1. [Introduction](#introduction)\n",
        "2. [Data description](#Datades)\n",
        "    1. [Blog autorship corpus](#Blog)\n",
        "    2. [PAN dataset series](#PAN)\n",
        "3. [Data pre-processing](#prep)\n",
        "4. [Approach](#Approach)\n",
        "    1. [NN](#NN)\n",
        "    2. [RNN](#RNN)\n",
        "    3. [BERT](#BERT)\n",
        "5. [RQ1: To what extend can we predict an author's gender based on:](#RQ1)\n",
        "    1. [RQ1.I Blogs](#RQ1B)\n",
        "\n",
        "    2. [RQ1.II Chats](#RQ1C)\n",
        "\n",
        "6. [RQ2: To what extend can we predict an author's age-group based on:](#RQ1)\n",
        "    1. [RQ2.I Blogs](#RQ1B)\n",
        "\n",
        "    2. [RQ2.II Chats](#RQ2C)\n",
        "\n",
        "7. [Conclusions](#Conclusions)\n",
        "8. [Discussion](#Discussion)\n",
        "8. [References](#References)\n",
        "\n"
      ]
    },
    {
      "cell_type": "markdown",
      "metadata": {
        "id": "97t2YX0rAHId"
      },
      "source": [
        "## Introduction <a name=\"introduction\"></a>\n",
        "The rise of social media platforms such as Facebook and Twitter over the past two decades, has given enormous amounts of people the power to interact with others on the internet. These web conversations bring many opportunities, as it was never this easy to exchange ideas with people from all over the world. However, there are some issues that emerged from online communication in the digital age.\n",
        " \n",
        "One of the problems is the anonymity of the internet. Setting up an account on one of the major social media platforms is done in just a few steps, no verification is needed. This brings much uncertainty to the identity of a person running an account. People use different names, write under pseudonyms and in some cases pretend to be someone else. This anonymity can be beneficial in terms of user privacy, but it can be dangerous if used for harmful purposes. For example, when being used by online sexual predators.\n",
        "The Internet is not just for adults: young children grow up on iPads and almost every teenager has a smartphone. But people from these age groups are also vulnerable for sexual predators, operating on the internet. Specifically, 19% of children has been sexually approached online (Mitchell, 2001). Predators are able to falsify their age and come in contact with youth, this shows the importance of online identity monitoring.\n",
        "Another issue is that non-human users (bots) infiltrate human-to-human communication systems. This forms a problem because the number of bots can be largely scaled and therefore their posts can have great impact on the users of the platform. Scientists found that bots are currently actively influencing popular opinion on major social media platforms (Mesnards et al., 2020). Other research showed that in highly polarised settings, a bot participation of 2-4% of an online networks can be sufficient to tip over the general consensus on the platform (Ross et al., 2019).\n",
        "These examples clearly show that there is a strong need for user identification. Author profiling could form the solution.\n",
        "\n",
        "Author profiling aims to correlate writing style with author demographics using natural language processing techniques (Wiegmann et al., 2019). \n",
        "\n",
        "Over the last years, texts available on social media platforms have become a primary source of data for computational author profiling (Hsieh et al., 2018). In 2018, researchers showed that age and gender can be predicted using SVM classifiers on TF-IDF features retreived from tweets (Dichiu & Rancea, 2018). Other researchers suggested an approach using three types of features: content based, style based and topic based. They were able to achieve an accuracy of 64.08% on age-group estimation and 56.53% on gender prediction using SVM models and decisions trees (Santosh et al., 2013). However, these papers did not consider the use of neural networks for age and gender prediction.\n",
        "\n",
        "In this report, we suggest a neural network-based approach for author profiling on online blogs and chat platforms. The annotated datasets PAN13 and The Blog Authorship Corpus, have been used to model linguistic and semantic features in text to predict authors’ agegroup and gender. The article is composed to answer a two-fold of research questions devided in four sub-question:\n",
        "\n",
        "\n",
        "* **RQ1: To what extend can we predict an author's gender based on:**\n",
        "  * **RQ1.I Blogs**\n",
        "  * **RQ1.II Chats**\n",
        "*  **RQ2: To what extend can we predict an author's age-group based on:**\n",
        "  * **RQ2.I Blogs**\n",
        "  * **RQ2.II Chats**\n",
        "\n",
        "NOTE TO GRADER: Instead of having 3 research questions this report has 2 with corresponding subquestions. These have been researched thoroughly with 3 different models that each could be considered a method of research by themselves. Applying 3 models at 2 datasets to research 2 questions gives 12 separate results which should be well-lined for a research of this degree.\n",
        "\n",
        "In the first sections, the used datasets, pre-processing steps and the three different approaches will be explained. After that, each research (sub-)question will be examined and evaluated, whereby the performances of the different models will be compared and discussed. Finally, we will discuss some discussion points and draw final conclusions about our project.\n",
        " \n"
      ]
    },
    {
      "cell_type": "markdown",
      "metadata": {
        "id": "pbnZM8UFQ6Ej"
      },
      "source": [
        "## Data description <a name=\"Datades\"></a>\n",
        "\n",
        "As we needed a dataset which both included an authors texts and its age or gender we stumbled upon the following datasets:\n",
        "\n",
        "\n",
        "### The Blog Authorship Corpus <a name=\"Blog\"></a>\n",
        "\n",
        "The [Blog Autorship Corpus](http://www.cs.biu.ac.il/~schlerj/schler_springsymp06.pdf) is a dataset consisting of 19320 collected posts from bloggers on blogger.com in August 2004. The corpus is free to use for non-commercial purposes. In the corpus are 681.288 posts in total, together forming over 140 million words. This makes up for an average of 35 posts and 7250 words per person.\n",
        "\n",
        "Each file is filled with a different blogpost, the authors (self-provided) age, gender, and astrological sign. The age of the authors is normally distributed around the age 16-24 with a skew and thin distribution towards the higher ages. The amount of male and females is equally represented.\n",
        "\n",
        "### The PAN dataset series <a name=\"PAN\"></a>\n",
        "\n",
        "The [PAN dataset series](https://pan.webis.de/data.html) consists of more than 10 datasets with text documents usable for various tasks such as: Author Identification, Plagiarism Detection, Quality Flaw Prediction and Author Profiling. As the research question concerns the latter task it is apparent one of these datasets was picked. After permission to the PAN 13 dataset was given it was decided it would be used in our research. \n",
        "\n",
        "The PAN 13 (from 2013) dataset contains anonymous texts collected from social media platforms. The files are ordered in a XML structure and contain the language in which the texts were written, the amount of texts per user, the users age and its gender. In this research we decided to only process English texts to keep it accessible and still keep the most files. The pan age ranges are: 10s: 13-17 yrs (17.200 conversations), 20s: 23-27 yrs (85.800 conversations) and 30s: 33-47yrs (133.600 conversations)\n",
        "\n",
        "\n",
        "Together with our TA it was decided that using these two datasets would satisfy the requirements and should suffice to complete our research.\n",
        "\n"
      ]
    },
    {
      "cell_type": "markdown",
      "metadata": {
        "id": "LQOkS5OqvBYN"
      },
      "source": [
        "## Data pre-processing <a name=\"prep\"></a>\n",
        "\n",
        "NOTE: In this section of the report, only the pre-processing of the Blog-dataset for the age-group classification will be presented as an illustration. The pre-processing of the other datasets can be found in the other notebooks.\n",
        "\n",
        "### Imbalanced data \n",
        "\n",
        "As we have stated before, both datasets are not uniformly distributed on age. This means that the data should be balanced before training the model. In this research we used a resampling approach to solve this problem. Because the size of both datasets was sufficient, under-sampling could be used. Under-sampling balances the dataset by reducing the size of the abundant class (‘7 Techniques to Handle Imbalanced Data’, 2021). This has been done by keeping all samples of the smallest age-group and randomly selecting an equal number of samples in the larger age-groups. The outcome is a balanced dataset, that is suitable for training a neural network with less bias.\n"
      ]
    },
    {
      "cell_type": "markdown",
      "metadata": {
        "id": "SFFdv4EwIqBB"
      },
      "source": [
        "\n",
        "\n",
        "### Text pre-processing \n",
        "\n",
        "Before applying an analysis on the data it is important to load it in carefully and at think about other pre-processing steps. In this research the non-alphabetic characters were removed, text was lowered and tokenised. To predict an authors age and gender, the style of the text had to be retained as much as possible. Therefore it was decided not to remove stopwords and to not lemmatize the words. It might be argued that different groups of people tend to choose different words in their sentences. In this research unigrams were used for simplicity, bigrams might improve later performance.\n",
        "\n"
      ]
    },
    {
      "cell_type": "markdown",
      "metadata": {
        "id": "TOdUebuus46A"
      },
      "source": [
        "### Importing dependencies"
      ]
    },
    {
      "cell_type": "code",
      "metadata": {
        "colab": {
          "base_uri": "https://localhost:8080/"
        },
        "id": "YqNG63SXJlgp",
        "outputId": "6eb6347a-208b-4a19-e1f3-cbd66109dbb8"
      },
      "source": [
        "# Loading files from drive\n",
        "from google.colab import drive\n",
        "drive.mount('/content/drive')\n",
        "\n",
        "# Uploading files directly\n",
        "# from google.colab import files\n",
        "# uploaded = files.upload()\n",
        "# dataset_blog = pd.read_excel(uploaded)\n",
        "# df = pd.DataFrame(dataset_blog)\n",
        "\n",
        "%load_ext tensorboard\n",
        "!pip install torchtext==0.4.\n",
        "\n",
        "import pandas as pd\n",
        "import re\n",
        "import os\n",
        "import time\n",
        "\n",
        "import torch\n",
        "import torchtext\n",
        "from torchtext.datasets import text_classification\n",
        "import torch.nn as nn\n",
        "import torch.nn.functional as F\n",
        "from torch.utils.data import DataLoader\n",
        "from torch.utils.data.dataset import random_split\n",
        "import nltk\n",
        "from torch.utils.tensorboard import SummaryWriter\n",
        "import tensorflow as tf\n",
        "import tensorboard as tb\n",
        "from nltk.stem import WordNetLemmatizer\n",
        "nltk.download('wordnet')\n",
        "\n",
        "from collections import defaultdict, OrderedDict, Counter\n",
        "import operator\n",
        "from IPython.display import Image\n",
        "import plotly.graph_objs as go\n",
        "import ipywidgets as widgets\n",
        "import IPython.display as display\n",
        "\n",
        "path = '/content/drive/MyDrive/Language, speech and dialogue processing/'"
      ],
      "execution_count": null,
      "outputs": [
        {
          "output_type": "stream",
          "text": [
            "Drive already mounted at /content/drive; to attempt to forcibly remount, call drive.mount(\"/content/drive\", force_remount=True).\n",
            "The tensorboard extension is already loaded. To reload it, use:\n",
            "  %reload_ext tensorboard\n",
            "Requirement already satisfied: torchtext==0.4. in /usr/local/lib/python3.7/dist-packages (0.4.0)\n",
            "Requirement already satisfied: torch in /usr/local/lib/python3.7/dist-packages (from torchtext==0.4.) (1.8.0+cu101)\n",
            "Requirement already satisfied: tqdm in /usr/local/lib/python3.7/dist-packages (from torchtext==0.4.) (4.41.1)\n",
            "Requirement already satisfied: numpy in /usr/local/lib/python3.7/dist-packages (from torchtext==0.4.) (1.19.5)\n",
            "Requirement already satisfied: requests in /usr/local/lib/python3.7/dist-packages (from torchtext==0.4.) (2.23.0)\n",
            "Requirement already satisfied: six in /usr/local/lib/python3.7/dist-packages (from torchtext==0.4.) (1.15.0)\n",
            "Requirement already satisfied: typing-extensions in /usr/local/lib/python3.7/dist-packages (from torch->torchtext==0.4.) (3.7.4.3)\n",
            "Requirement already satisfied: certifi>=2017.4.17 in /usr/local/lib/python3.7/dist-packages (from requests->torchtext==0.4.) (2020.12.5)\n",
            "Requirement already satisfied: idna<3,>=2.5 in /usr/local/lib/python3.7/dist-packages (from requests->torchtext==0.4.) (2.10)\n",
            "Requirement already satisfied: urllib3!=1.25.0,!=1.25.1,<1.26,>=1.21.1 in /usr/local/lib/python3.7/dist-packages (from requests->torchtext==0.4.) (1.24.3)\n",
            "Requirement already satisfied: chardet<4,>=3.0.2 in /usr/local/lib/python3.7/dist-packages (from requests->torchtext==0.4.) (3.0.4)\n",
            "[nltk_data] Downloading package wordnet to /root/nltk_data...\n",
            "[nltk_data]   Package wordnet is already up-to-date!\n"
          ],
          "name": "stdout"
        }
      ]
    },
    {
      "cell_type": "code",
      "metadata": {
        "id": "rO8zlO0wsQWy"
      },
      "source": [
        "\n",
        "\n",
        "dataset_blog = pd.read_excel(path+'blogtext_full.xlsx')\n",
        "df = pd.DataFrame(dataset_blog)\n",
        "df = df.drop(['id', 'topic', 'sign', 'date'], axis=1)\n",
        "\n",
        "\n",
        "def tokenize(text):\n",
        "    tokens = [token for token in text.split(\" \") if token != \"\"]\n",
        "    return tokens\n",
        "\n",
        "def lowered(s):\n",
        "    return s.lower()\n",
        "\n",
        "# removing non alphabetic strings function\n",
        "def remove_nonalph(s):\n",
        "      s = re.sub(r'[^a-zA-Z0-9\\s]', ' ', s)\n",
        "      return s\n",
        "\n",
        "# applying preprocessing steps\n",
        "df['text'] = df['text'].apply(lowered).apply(remove_nonalph).apply(tokenize)"
      ],
      "execution_count": null,
      "outputs": []
    },
    {
      "cell_type": "code",
      "metadata": {
        "id": "ffksnE6kihXs",
        "colab": {
          "base_uri": "https://localhost:8080/",
          "height": 206
        },
        "outputId": "d7adac15-686f-4d45-db9c-49361123256d"
      },
      "source": [
        "df.head()"
      ],
      "execution_count": null,
      "outputs": [
        {
          "output_type": "execute_result",
          "data": {
            "text/html": [
              "<div>\n",
              "<style scoped>\n",
              "    .dataframe tbody tr th:only-of-type {\n",
              "        vertical-align: middle;\n",
              "    }\n",
              "\n",
              "    .dataframe tbody tr th {\n",
              "        vertical-align: top;\n",
              "    }\n",
              "\n",
              "    .dataframe thead th {\n",
              "        text-align: right;\n",
              "    }\n",
              "</style>\n",
              "<table border=\"1\" class=\"dataframe\">\n",
              "  <thead>\n",
              "    <tr style=\"text-align: right;\">\n",
              "      <th></th>\n",
              "      <th>gender</th>\n",
              "      <th>age</th>\n",
              "      <th>text</th>\n",
              "    </tr>\n",
              "  </thead>\n",
              "  <tbody>\n",
              "    <tr>\n",
              "      <th>0</th>\n",
              "      <td>male</td>\n",
              "      <td>17</td>\n",
              "      <td>[enjoy, never, ask, what, ask, why, bush, why,...</td>\n",
              "    </tr>\n",
              "    <tr>\n",
              "      <th>1</th>\n",
              "      <td>female</td>\n",
              "      <td>13</td>\n",
              "      <td>[richmond, fernandez, okay, those, who, hate, ...</td>\n",
              "    </tr>\n",
              "    <tr>\n",
              "      <th>2</th>\n",
              "      <td>female</td>\n",
              "      <td>13</td>\n",
              "      <td>[hey, everyone, if, you, got, to, this, blog, ...</td>\n",
              "    </tr>\n",
              "    <tr>\n",
              "      <th>3</th>\n",
              "      <td>male</td>\n",
              "      <td>17</td>\n",
              "      <td>[well, tonight, things, finally, came, to, a, ...</td>\n",
              "    </tr>\n",
              "    <tr>\n",
              "      <th>4</th>\n",
              "      <td>female</td>\n",
              "      <td>25</td>\n",
              "      <td>[not, really, to, state, that, i, am, an, expe...</td>\n",
              "    </tr>\n",
              "  </tbody>\n",
              "</table>\n",
              "</div>"
            ],
            "text/plain": [
              "   gender  age                                               text\n",
              "0    male   17  [enjoy, never, ask, what, ask, why, bush, why,...\n",
              "1  female   13  [richmond, fernandez, okay, those, who, hate, ...\n",
              "2  female   13  [hey, everyone, if, you, got, to, this, blog, ...\n",
              "3    male   17  [well, tonight, things, finally, came, to, a, ...\n",
              "4  female   25  [not, really, to, state, that, i, am, an, expe..."
            ]
          },
          "metadata": {
            "tags": []
          },
          "execution_count": 3
        }
      ]
    },
    {
      "cell_type": "markdown",
      "metadata": {
        "id": "rT-7qIBWwIfs"
      },
      "source": [
        "### Word and classes mapping \n",
        "\n",
        "After these steps the words had to be represented into numbers in order to make use of them in a neural network. The word mapping chosen was integer encoding. Each word in the vocabulary gained a number from 0 to N (amount of unique words) in order of frequency. After this the text documents could be translated into tensors, which are large arrays designed for neural networks. The same mapping was applied on the classes (either age groups or gender groups)."
      ]
    },
    {
      "cell_type": "code",
      "metadata": {
        "id": "hfMh56ugtpzY",
        "colab": {
          "base_uri": "https://localhost:8080/",
          "height": 560
        },
        "outputId": "b9dbfdde-a7ee-4330-ae23-d77c6901beaf"
      },
      "source": [
        "class_choice = 'age'\n",
        "classdict = defaultdict(int)\n",
        "\n",
        "for row in df[class_choice]:\n",
        "  classdict[row] += 1\n",
        "\n",
        "classdict = dict(sorted(classdict.items(), key=operator.itemgetter(1), reverse=True))\n",
        "\n",
        "classlist = list(classdict.keys())\n",
        "classmap = dict([(y,x) for x,y in enumerate(classlist)])\n",
        "print('Original age distribution of dataset:')\n",
        "\n",
        "x = tuple(classdict.keys())\n",
        "y = list(classdict.values())\n",
        "fig = go.Figure([go.Bar(x=x, y=y)])\n",
        "fig.show()"
      ],
      "execution_count": null,
      "outputs": [
        {
          "output_type": "stream",
          "text": [
            "Original age distribution of dataset:\n"
          ],
          "name": "stdout"
        },
        {
          "output_type": "display_data",
          "data": {
            "text/html": [
              "<html>\n",
              "<head><meta charset=\"utf-8\" /></head>\n",
              "<body>\n",
              "    <div>\n",
              "            <script src=\"https://cdnjs.cloudflare.com/ajax/libs/mathjax/2.7.5/MathJax.js?config=TeX-AMS-MML_SVG\"></script><script type=\"text/javascript\">if (window.MathJax) {MathJax.Hub.Config({SVG: {font: \"STIX-Web\"}});}</script>\n",
              "                <script type=\"text/javascript\">window.PlotlyConfig = {MathJaxConfig: 'local'};</script>\n",
              "        <script src=\"https://cdn.plot.ly/plotly-latest.min.js\"></script>    \n",
              "            <div id=\"117bba36-70b8-4989-94d7-fc382813b506\" class=\"plotly-graph-div\" style=\"height:525px; width:100%;\"></div>\n",
              "            <script type=\"text/javascript\">\n",
              "                \n",
              "                    window.PLOTLYENV=window.PLOTLYENV || {};\n",
              "                    \n",
              "                if (document.getElementById(\"117bba36-70b8-4989-94d7-fc382813b506\")) {\n",
              "                    Plotly.newPlot(\n",
              "                        '117bba36-70b8-4989-94d7-fc382813b506',\n",
              "                        [{\"type\": \"bar\", \"x\": [17, 24, 16, 23, 25, 26, 27, 15, 14, 34, 33, 35, 36, 13, 37, 38, 39, 40, 45, 43, 41, 48, 42, 46, 47, 44], \"y\": [80496, 79765, 72430, 72429, 66696, 55009, 45882, 41547, 27275, 21291, 17485, 17405, 14174, 13005, 9267, 7421, 5460, 5005, 4469, 4204, 3707, 3564, 2902, 2731, 2196, 2036]}],\n",
              "                        {\"template\": {\"data\": {\"bar\": [{\"error_x\": {\"color\": \"#2a3f5f\"}, \"error_y\": {\"color\": \"#2a3f5f\"}, \"marker\": {\"line\": {\"color\": \"#E5ECF6\", \"width\": 0.5}}, \"type\": \"bar\"}], \"barpolar\": [{\"marker\": {\"line\": {\"color\": \"#E5ECF6\", \"width\": 0.5}}, \"type\": \"barpolar\"}], \"carpet\": [{\"aaxis\": {\"endlinecolor\": \"#2a3f5f\", \"gridcolor\": \"white\", \"linecolor\": \"white\", \"minorgridcolor\": \"white\", \"startlinecolor\": \"#2a3f5f\"}, \"baxis\": {\"endlinecolor\": \"#2a3f5f\", \"gridcolor\": \"white\", \"linecolor\": \"white\", \"minorgridcolor\": \"white\", \"startlinecolor\": \"#2a3f5f\"}, \"type\": \"carpet\"}], \"choropleth\": [{\"colorbar\": {\"outlinewidth\": 0, \"ticks\": \"\"}, \"type\": \"choropleth\"}], \"contour\": [{\"colorbar\": {\"outlinewidth\": 0, \"ticks\": \"\"}, \"colorscale\": [[0.0, \"#0d0887\"], [0.1111111111111111, \"#46039f\"], [0.2222222222222222, \"#7201a8\"], [0.3333333333333333, \"#9c179e\"], [0.4444444444444444, \"#bd3786\"], [0.5555555555555556, \"#d8576b\"], [0.6666666666666666, \"#ed7953\"], [0.7777777777777778, \"#fb9f3a\"], [0.8888888888888888, \"#fdca26\"], [1.0, \"#f0f921\"]], \"type\": \"contour\"}], \"contourcarpet\": [{\"colorbar\": {\"outlinewidth\": 0, \"ticks\": \"\"}, \"type\": \"contourcarpet\"}], \"heatmap\": [{\"colorbar\": {\"outlinewidth\": 0, \"ticks\": \"\"}, \"colorscale\": [[0.0, \"#0d0887\"], [0.1111111111111111, \"#46039f\"], [0.2222222222222222, \"#7201a8\"], [0.3333333333333333, \"#9c179e\"], [0.4444444444444444, \"#bd3786\"], [0.5555555555555556, \"#d8576b\"], [0.6666666666666666, \"#ed7953\"], [0.7777777777777778, \"#fb9f3a\"], [0.8888888888888888, \"#fdca26\"], [1.0, \"#f0f921\"]], \"type\": \"heatmap\"}], \"heatmapgl\": [{\"colorbar\": {\"outlinewidth\": 0, \"ticks\": \"\"}, \"colorscale\": [[0.0, \"#0d0887\"], [0.1111111111111111, \"#46039f\"], [0.2222222222222222, \"#7201a8\"], [0.3333333333333333, \"#9c179e\"], [0.4444444444444444, \"#bd3786\"], [0.5555555555555556, \"#d8576b\"], [0.6666666666666666, \"#ed7953\"], [0.7777777777777778, \"#fb9f3a\"], [0.8888888888888888, \"#fdca26\"], [1.0, \"#f0f921\"]], \"type\": \"heatmapgl\"}], \"histogram\": [{\"marker\": {\"colorbar\": {\"outlinewidth\": 0, \"ticks\": \"\"}}, \"type\": \"histogram\"}], \"histogram2d\": [{\"colorbar\": {\"outlinewidth\": 0, \"ticks\": \"\"}, \"colorscale\": [[0.0, \"#0d0887\"], [0.1111111111111111, \"#46039f\"], [0.2222222222222222, \"#7201a8\"], [0.3333333333333333, \"#9c179e\"], [0.4444444444444444, \"#bd3786\"], [0.5555555555555556, \"#d8576b\"], [0.6666666666666666, \"#ed7953\"], [0.7777777777777778, \"#fb9f3a\"], [0.8888888888888888, \"#fdca26\"], [1.0, \"#f0f921\"]], \"type\": \"histogram2d\"}], \"histogram2dcontour\": [{\"colorbar\": {\"outlinewidth\": 0, \"ticks\": \"\"}, \"colorscale\": [[0.0, \"#0d0887\"], [0.1111111111111111, \"#46039f\"], [0.2222222222222222, \"#7201a8\"], [0.3333333333333333, \"#9c179e\"], [0.4444444444444444, \"#bd3786\"], [0.5555555555555556, \"#d8576b\"], [0.6666666666666666, \"#ed7953\"], [0.7777777777777778, \"#fb9f3a\"], [0.8888888888888888, \"#fdca26\"], [1.0, \"#f0f921\"]], \"type\": \"histogram2dcontour\"}], \"mesh3d\": [{\"colorbar\": {\"outlinewidth\": 0, \"ticks\": \"\"}, \"type\": \"mesh3d\"}], \"parcoords\": [{\"line\": {\"colorbar\": {\"outlinewidth\": 0, \"ticks\": \"\"}}, \"type\": \"parcoords\"}], \"pie\": [{\"automargin\": true, \"type\": \"pie\"}], \"scatter\": [{\"marker\": {\"colorbar\": {\"outlinewidth\": 0, \"ticks\": \"\"}}, \"type\": \"scatter\"}], \"scatter3d\": [{\"line\": {\"colorbar\": {\"outlinewidth\": 0, \"ticks\": \"\"}}, \"marker\": {\"colorbar\": {\"outlinewidth\": 0, \"ticks\": \"\"}}, \"type\": \"scatter3d\"}], \"scattercarpet\": [{\"marker\": {\"colorbar\": {\"outlinewidth\": 0, \"ticks\": \"\"}}, \"type\": \"scattercarpet\"}], \"scattergeo\": [{\"marker\": {\"colorbar\": {\"outlinewidth\": 0, \"ticks\": \"\"}}, \"type\": \"scattergeo\"}], \"scattergl\": [{\"marker\": {\"colorbar\": {\"outlinewidth\": 0, \"ticks\": \"\"}}, \"type\": \"scattergl\"}], \"scattermapbox\": [{\"marker\": {\"colorbar\": {\"outlinewidth\": 0, \"ticks\": \"\"}}, \"type\": \"scattermapbox\"}], \"scatterpolar\": [{\"marker\": {\"colorbar\": {\"outlinewidth\": 0, \"ticks\": \"\"}}, \"type\": \"scatterpolar\"}], \"scatterpolargl\": [{\"marker\": {\"colorbar\": {\"outlinewidth\": 0, \"ticks\": \"\"}}, \"type\": \"scatterpolargl\"}], \"scatterternary\": [{\"marker\": {\"colorbar\": {\"outlinewidth\": 0, \"ticks\": \"\"}}, \"type\": \"scatterternary\"}], \"surface\": [{\"colorbar\": {\"outlinewidth\": 0, \"ticks\": \"\"}, \"colorscale\": [[0.0, \"#0d0887\"], [0.1111111111111111, \"#46039f\"], [0.2222222222222222, \"#7201a8\"], [0.3333333333333333, \"#9c179e\"], [0.4444444444444444, \"#bd3786\"], [0.5555555555555556, \"#d8576b\"], [0.6666666666666666, \"#ed7953\"], [0.7777777777777778, \"#fb9f3a\"], [0.8888888888888888, \"#fdca26\"], [1.0, \"#f0f921\"]], \"type\": \"surface\"}], \"table\": [{\"cells\": {\"fill\": {\"color\": \"#EBF0F8\"}, \"line\": {\"color\": \"white\"}}, \"header\": {\"fill\": {\"color\": \"#C8D4E3\"}, \"line\": {\"color\": \"white\"}}, \"type\": \"table\"}]}, \"layout\": {\"annotationdefaults\": {\"arrowcolor\": \"#2a3f5f\", \"arrowhead\": 0, \"arrowwidth\": 1}, \"coloraxis\": {\"colorbar\": {\"outlinewidth\": 0, \"ticks\": \"\"}}, \"colorscale\": {\"diverging\": [[0, \"#8e0152\"], [0.1, \"#c51b7d\"], [0.2, \"#de77ae\"], [0.3, \"#f1b6da\"], [0.4, \"#fde0ef\"], [0.5, \"#f7f7f7\"], [0.6, \"#e6f5d0\"], [0.7, \"#b8e186\"], [0.8, \"#7fbc41\"], [0.9, \"#4d9221\"], [1, \"#276419\"]], \"sequential\": [[0.0, \"#0d0887\"], [0.1111111111111111, \"#46039f\"], [0.2222222222222222, \"#7201a8\"], [0.3333333333333333, \"#9c179e\"], [0.4444444444444444, \"#bd3786\"], [0.5555555555555556, \"#d8576b\"], [0.6666666666666666, \"#ed7953\"], [0.7777777777777778, \"#fb9f3a\"], [0.8888888888888888, \"#fdca26\"], [1.0, \"#f0f921\"]], \"sequentialminus\": [[0.0, \"#0d0887\"], [0.1111111111111111, \"#46039f\"], [0.2222222222222222, \"#7201a8\"], [0.3333333333333333, \"#9c179e\"], [0.4444444444444444, \"#bd3786\"], [0.5555555555555556, \"#d8576b\"], [0.6666666666666666, \"#ed7953\"], [0.7777777777777778, \"#fb9f3a\"], [0.8888888888888888, \"#fdca26\"], [1.0, \"#f0f921\"]]}, \"colorway\": [\"#636efa\", \"#EF553B\", \"#00cc96\", \"#ab63fa\", \"#FFA15A\", \"#19d3f3\", \"#FF6692\", \"#B6E880\", \"#FF97FF\", \"#FECB52\"], \"font\": {\"color\": \"#2a3f5f\"}, \"geo\": {\"bgcolor\": \"white\", \"lakecolor\": \"white\", \"landcolor\": \"#E5ECF6\", \"showlakes\": true, \"showland\": true, \"subunitcolor\": \"white\"}, \"hoverlabel\": {\"align\": \"left\"}, \"hovermode\": \"closest\", \"mapbox\": {\"style\": \"light\"}, \"paper_bgcolor\": \"white\", \"plot_bgcolor\": \"#E5ECF6\", \"polar\": {\"angularaxis\": {\"gridcolor\": \"white\", \"linecolor\": \"white\", \"ticks\": \"\"}, \"bgcolor\": \"#E5ECF6\", \"radialaxis\": {\"gridcolor\": \"white\", \"linecolor\": \"white\", \"ticks\": \"\"}}, \"scene\": {\"xaxis\": {\"backgroundcolor\": \"#E5ECF6\", \"gridcolor\": \"white\", \"gridwidth\": 2, \"linecolor\": \"white\", \"showbackground\": true, \"ticks\": \"\", \"zerolinecolor\": \"white\"}, \"yaxis\": {\"backgroundcolor\": \"#E5ECF6\", \"gridcolor\": \"white\", \"gridwidth\": 2, \"linecolor\": \"white\", \"showbackground\": true, \"ticks\": \"\", \"zerolinecolor\": \"white\"}, \"zaxis\": {\"backgroundcolor\": \"#E5ECF6\", \"gridcolor\": \"white\", \"gridwidth\": 2, \"linecolor\": \"white\", \"showbackground\": true, \"ticks\": \"\", \"zerolinecolor\": \"white\"}}, \"shapedefaults\": {\"line\": {\"color\": \"#2a3f5f\"}}, \"ternary\": {\"aaxis\": {\"gridcolor\": \"white\", \"linecolor\": \"white\", \"ticks\": \"\"}, \"baxis\": {\"gridcolor\": \"white\", \"linecolor\": \"white\", \"ticks\": \"\"}, \"bgcolor\": \"#E5ECF6\", \"caxis\": {\"gridcolor\": \"white\", \"linecolor\": \"white\", \"ticks\": \"\"}}, \"title\": {\"x\": 0.05}, \"xaxis\": {\"automargin\": true, \"gridcolor\": \"white\", \"linecolor\": \"white\", \"ticks\": \"\", \"title\": {\"standoff\": 15}, \"zerolinecolor\": \"white\", \"zerolinewidth\": 2}, \"yaxis\": {\"automargin\": true, \"gridcolor\": \"white\", \"linecolor\": \"white\", \"ticks\": \"\", \"title\": {\"standoff\": 15}, \"zerolinecolor\": \"white\", \"zerolinewidth\": 2}}}},\n",
              "                        {\"responsive\": true}\n",
              "                    ).then(function(){\n",
              "                            \n",
              "var gd = document.getElementById('117bba36-70b8-4989-94d7-fc382813b506');\n",
              "var x = new MutationObserver(function (mutations, observer) {{\n",
              "        var display = window.getComputedStyle(gd).display;\n",
              "        if (!display || display === 'none') {{\n",
              "            console.log([gd, 'removed!']);\n",
              "            Plotly.purge(gd);\n",
              "            observer.disconnect();\n",
              "        }}\n",
              "}});\n",
              "\n",
              "// Listen for the removal of the full notebook cells\n",
              "var notebookContainer = gd.closest('#notebook-container');\n",
              "if (notebookContainer) {{\n",
              "    x.observe(notebookContainer, {childList: true});\n",
              "}}\n",
              "\n",
              "// Listen for the clearing of the current output cell\n",
              "var outputEl = gd.closest('.output');\n",
              "if (outputEl) {{\n",
              "    x.observe(outputEl, {childList: true});\n",
              "}}\n",
              "\n",
              "                        })\n",
              "                };\n",
              "                \n",
              "            </script>\n",
              "        </div>\n",
              "</body>\n",
              "</html>"
            ]
          },
          "metadata": {
            "tags": []
          }
        }
      ]
    },
    {
      "cell_type": "code",
      "metadata": {
        "id": "eSjjsGOT8S0L",
        "colab": {
          "base_uri": "https://localhost:8080/"
        },
        "outputId": "2c0abbd6-f243-49c0-c3e9-edc9b988f021"
      },
      "source": [
        "\n",
        "\n",
        "ages = df[\"age\"].unique().tolist()\n",
        "print(ages)\n",
        "\n",
        "ages.sort()\n",
        "age_dict = {}\n",
        "for age in ages:\n",
        "  age_dict[age] = df.loc[df['age'] == age]\n",
        "\n",
        "for key, value in age_dict.items():\n",
        "  age_dict[key] = value\n",
        "\n",
        "# Same range as in pan13 dataset, with an extra 40's group\n",
        "\n",
        "dataframes_10s = []\n",
        "dataframes_20s = []\n",
        "dataframes_30s = []\n",
        "dataframes_40s = []\n",
        "\n",
        "for key, value in age_dict.items():\n",
        "  if 13 <= int(key) <= 17:\n",
        "    dataframes_10s.append(value)\n",
        "  elif 23 <= int(key) <= 27:\n",
        "    dataframes_20s.append(value)\n",
        "  elif 33 <= int(key) <= 37:\n",
        "    dataframes_30s.append(value)\n",
        "  elif 43 <= int(key) <= 47:\n",
        "    dataframes_40s.append(value)\n",
        "\n",
        "df_10s = pd.concat(dataframes_10s)\n",
        "df_20s = pd.concat(dataframes_20s)\n",
        "df_30s = pd.concat(dataframes_30s)\n",
        "df_40s = pd.concat(dataframes_40s)\n",
        "\n",
        "all_dataframes = [df_10s, df_20s, df_30s, df_40s]\n",
        "\n",
        "min_len = len(all_dataframes[0])\n",
        "\n",
        "for df in all_dataframes:\n",
        "  if len(df) < min_len:\n",
        "    min_len = len(df)\n",
        "\n",
        "df_10s[\"age\"] = 0\n",
        "df_20s[\"age\"] = 1\n",
        "df_30s[\"age\"] = 2\n",
        "df_40s['age'] = 3\n",
        "\n",
        "all_dataframes = [df_10s.sample(min_len), df_20s.sample(min_len), df_30s.sample(min_len), df_40s.sample(min_len)]\n",
        "\n",
        "df = pd.concat(all_dataframes)\n",
        "df.index = range(len(df))"
      ],
      "execution_count": null,
      "outputs": [
        {
          "output_type": "stream",
          "text": [
            "[17, 13, 25, 23, 27, 38, 24, 15, 14, 26, 37, 48, 16, 33, 39, 35, 34, 41, 36, 45, 47, 44, 46, 43, 42, 40]\n"
          ],
          "name": "stdout"
        }
      ]
    },
    {
      "cell_type": "markdown",
      "metadata": {
        "id": "d2BZZQCO9RWe"
      },
      "source": [
        "### Visualizing balanced groups"
      ]
    },
    {
      "cell_type": "code",
      "metadata": {
        "id": "88dt3xPB9Xj4",
        "colab": {
          "base_uri": "https://localhost:8080/",
          "height": 560
        },
        "outputId": "798219ae-00ea-4a68-d0d5-3f6c03bdeeb6"
      },
      "source": [
        "classdict = defaultdict(int)\n",
        "\n",
        "for row in df[class_choice]:\n",
        "  classdict[row] += 1\n",
        "\n",
        "classdict = dict(sorted(classdict.items(), key=operator.itemgetter(1), reverse=True))\n",
        "\n",
        "classlist = list(classdict.keys())\n",
        "classmap = dict([(y,x) for x,y in enumerate(classlist)])\n",
        "print('Balanced dataset with age groups:')\n",
        "\n",
        "x = [\"10s\", \"20s\", \"30s\", \"40s\"]\n",
        "y = list(classdict.values())\n",
        "fig = go.Figure([go.Bar(x=x, y=y)])\n",
        "fig.show()"
      ],
      "execution_count": null,
      "outputs": [
        {
          "output_type": "stream",
          "text": [
            "Balanced dataset with age groups:\n"
          ],
          "name": "stdout"
        },
        {
          "output_type": "display_data",
          "data": {
            "text/html": [
              "<html>\n",
              "<head><meta charset=\"utf-8\" /></head>\n",
              "<body>\n",
              "    <div>\n",
              "            <script src=\"https://cdnjs.cloudflare.com/ajax/libs/mathjax/2.7.5/MathJax.js?config=TeX-AMS-MML_SVG\"></script><script type=\"text/javascript\">if (window.MathJax) {MathJax.Hub.Config({SVG: {font: \"STIX-Web\"}});}</script>\n",
              "                <script type=\"text/javascript\">window.PlotlyConfig = {MathJaxConfig: 'local'};</script>\n",
              "        <script src=\"https://cdn.plot.ly/plotly-latest.min.js\"></script>    \n",
              "            <div id=\"5b77bf4d-012f-43a6-9786-cf0babc92ff6\" class=\"plotly-graph-div\" style=\"height:525px; width:100%;\"></div>\n",
              "            <script type=\"text/javascript\">\n",
              "                \n",
              "                    window.PLOTLYENV=window.PLOTLYENV || {};\n",
              "                    \n",
              "                if (document.getElementById(\"5b77bf4d-012f-43a6-9786-cf0babc92ff6\")) {\n",
              "                    Plotly.newPlot(\n",
              "                        '5b77bf4d-012f-43a6-9786-cf0babc92ff6',\n",
              "                        [{\"type\": \"bar\", \"x\": [\"10s\", \"20s\", \"30s\", \"40s\"], \"y\": [15636, 15636, 15636, 15636]}],\n",
              "                        {\"template\": {\"data\": {\"bar\": [{\"error_x\": {\"color\": \"#2a3f5f\"}, \"error_y\": {\"color\": \"#2a3f5f\"}, \"marker\": {\"line\": {\"color\": \"#E5ECF6\", \"width\": 0.5}}, \"type\": \"bar\"}], \"barpolar\": [{\"marker\": {\"line\": {\"color\": \"#E5ECF6\", \"width\": 0.5}}, \"type\": \"barpolar\"}], \"carpet\": [{\"aaxis\": {\"endlinecolor\": \"#2a3f5f\", \"gridcolor\": \"white\", \"linecolor\": \"white\", \"minorgridcolor\": \"white\", \"startlinecolor\": \"#2a3f5f\"}, \"baxis\": {\"endlinecolor\": \"#2a3f5f\", \"gridcolor\": \"white\", \"linecolor\": \"white\", \"minorgridcolor\": \"white\", \"startlinecolor\": \"#2a3f5f\"}, \"type\": \"carpet\"}], \"choropleth\": [{\"colorbar\": {\"outlinewidth\": 0, \"ticks\": \"\"}, \"type\": \"choropleth\"}], \"contour\": [{\"colorbar\": {\"outlinewidth\": 0, \"ticks\": \"\"}, \"colorscale\": [[0.0, \"#0d0887\"], [0.1111111111111111, \"#46039f\"], [0.2222222222222222, \"#7201a8\"], [0.3333333333333333, \"#9c179e\"], [0.4444444444444444, \"#bd3786\"], [0.5555555555555556, \"#d8576b\"], [0.6666666666666666, \"#ed7953\"], [0.7777777777777778, \"#fb9f3a\"], [0.8888888888888888, \"#fdca26\"], [1.0, \"#f0f921\"]], \"type\": \"contour\"}], \"contourcarpet\": [{\"colorbar\": {\"outlinewidth\": 0, \"ticks\": \"\"}, \"type\": \"contourcarpet\"}], \"heatmap\": [{\"colorbar\": {\"outlinewidth\": 0, \"ticks\": \"\"}, \"colorscale\": [[0.0, \"#0d0887\"], [0.1111111111111111, \"#46039f\"], [0.2222222222222222, \"#7201a8\"], [0.3333333333333333, \"#9c179e\"], [0.4444444444444444, \"#bd3786\"], [0.5555555555555556, \"#d8576b\"], [0.6666666666666666, \"#ed7953\"], [0.7777777777777778, \"#fb9f3a\"], [0.8888888888888888, \"#fdca26\"], [1.0, \"#f0f921\"]], \"type\": \"heatmap\"}], \"heatmapgl\": [{\"colorbar\": {\"outlinewidth\": 0, \"ticks\": \"\"}, \"colorscale\": [[0.0, \"#0d0887\"], [0.1111111111111111, \"#46039f\"], [0.2222222222222222, \"#7201a8\"], [0.3333333333333333, \"#9c179e\"], [0.4444444444444444, \"#bd3786\"], [0.5555555555555556, \"#d8576b\"], [0.6666666666666666, \"#ed7953\"], [0.7777777777777778, \"#fb9f3a\"], [0.8888888888888888, \"#fdca26\"], [1.0, \"#f0f921\"]], \"type\": \"heatmapgl\"}], \"histogram\": [{\"marker\": {\"colorbar\": {\"outlinewidth\": 0, \"ticks\": \"\"}}, \"type\": \"histogram\"}], \"histogram2d\": [{\"colorbar\": {\"outlinewidth\": 0, \"ticks\": \"\"}, \"colorscale\": [[0.0, \"#0d0887\"], [0.1111111111111111, \"#46039f\"], [0.2222222222222222, \"#7201a8\"], [0.3333333333333333, \"#9c179e\"], [0.4444444444444444, \"#bd3786\"], [0.5555555555555556, \"#d8576b\"], [0.6666666666666666, \"#ed7953\"], [0.7777777777777778, \"#fb9f3a\"], [0.8888888888888888, \"#fdca26\"], [1.0, \"#f0f921\"]], \"type\": \"histogram2d\"}], \"histogram2dcontour\": [{\"colorbar\": {\"outlinewidth\": 0, \"ticks\": \"\"}, \"colorscale\": [[0.0, \"#0d0887\"], [0.1111111111111111, \"#46039f\"], [0.2222222222222222, \"#7201a8\"], [0.3333333333333333, \"#9c179e\"], [0.4444444444444444, \"#bd3786\"], [0.5555555555555556, \"#d8576b\"], [0.6666666666666666, \"#ed7953\"], [0.7777777777777778, \"#fb9f3a\"], [0.8888888888888888, \"#fdca26\"], [1.0, \"#f0f921\"]], \"type\": \"histogram2dcontour\"}], \"mesh3d\": [{\"colorbar\": {\"outlinewidth\": 0, \"ticks\": \"\"}, \"type\": \"mesh3d\"}], \"parcoords\": [{\"line\": {\"colorbar\": {\"outlinewidth\": 0, \"ticks\": \"\"}}, \"type\": \"parcoords\"}], \"pie\": [{\"automargin\": true, \"type\": \"pie\"}], \"scatter\": [{\"marker\": {\"colorbar\": {\"outlinewidth\": 0, \"ticks\": \"\"}}, \"type\": \"scatter\"}], \"scatter3d\": [{\"line\": {\"colorbar\": {\"outlinewidth\": 0, \"ticks\": \"\"}}, \"marker\": {\"colorbar\": {\"outlinewidth\": 0, \"ticks\": \"\"}}, \"type\": \"scatter3d\"}], \"scattercarpet\": [{\"marker\": {\"colorbar\": {\"outlinewidth\": 0, \"ticks\": \"\"}}, \"type\": \"scattercarpet\"}], \"scattergeo\": [{\"marker\": {\"colorbar\": {\"outlinewidth\": 0, \"ticks\": \"\"}}, \"type\": \"scattergeo\"}], \"scattergl\": [{\"marker\": {\"colorbar\": {\"outlinewidth\": 0, \"ticks\": \"\"}}, \"type\": \"scattergl\"}], \"scattermapbox\": [{\"marker\": {\"colorbar\": {\"outlinewidth\": 0, \"ticks\": \"\"}}, \"type\": \"scattermapbox\"}], \"scatterpolar\": [{\"marker\": {\"colorbar\": {\"outlinewidth\": 0, \"ticks\": \"\"}}, \"type\": \"scatterpolar\"}], \"scatterpolargl\": [{\"marker\": {\"colorbar\": {\"outlinewidth\": 0, \"ticks\": \"\"}}, \"type\": \"scatterpolargl\"}], \"scatterternary\": [{\"marker\": {\"colorbar\": {\"outlinewidth\": 0, \"ticks\": \"\"}}, \"type\": \"scatterternary\"}], \"surface\": [{\"colorbar\": {\"outlinewidth\": 0, \"ticks\": \"\"}, \"colorscale\": [[0.0, \"#0d0887\"], [0.1111111111111111, \"#46039f\"], [0.2222222222222222, \"#7201a8\"], [0.3333333333333333, \"#9c179e\"], [0.4444444444444444, \"#bd3786\"], [0.5555555555555556, \"#d8576b\"], [0.6666666666666666, \"#ed7953\"], [0.7777777777777778, \"#fb9f3a\"], [0.8888888888888888, \"#fdca26\"], [1.0, \"#f0f921\"]], \"type\": \"surface\"}], \"table\": [{\"cells\": {\"fill\": {\"color\": \"#EBF0F8\"}, \"line\": {\"color\": \"white\"}}, \"header\": {\"fill\": {\"color\": \"#C8D4E3\"}, \"line\": {\"color\": \"white\"}}, \"type\": \"table\"}]}, \"layout\": {\"annotationdefaults\": {\"arrowcolor\": \"#2a3f5f\", \"arrowhead\": 0, \"arrowwidth\": 1}, \"coloraxis\": {\"colorbar\": {\"outlinewidth\": 0, \"ticks\": \"\"}}, \"colorscale\": {\"diverging\": [[0, \"#8e0152\"], [0.1, \"#c51b7d\"], [0.2, \"#de77ae\"], [0.3, \"#f1b6da\"], [0.4, \"#fde0ef\"], [0.5, \"#f7f7f7\"], [0.6, \"#e6f5d0\"], [0.7, \"#b8e186\"], [0.8, \"#7fbc41\"], [0.9, \"#4d9221\"], [1, \"#276419\"]], \"sequential\": [[0.0, \"#0d0887\"], [0.1111111111111111, \"#46039f\"], [0.2222222222222222, \"#7201a8\"], [0.3333333333333333, \"#9c179e\"], [0.4444444444444444, \"#bd3786\"], [0.5555555555555556, \"#d8576b\"], [0.6666666666666666, \"#ed7953\"], [0.7777777777777778, \"#fb9f3a\"], [0.8888888888888888, \"#fdca26\"], [1.0, \"#f0f921\"]], \"sequentialminus\": [[0.0, \"#0d0887\"], [0.1111111111111111, \"#46039f\"], [0.2222222222222222, \"#7201a8\"], [0.3333333333333333, \"#9c179e\"], [0.4444444444444444, \"#bd3786\"], [0.5555555555555556, \"#d8576b\"], [0.6666666666666666, \"#ed7953\"], [0.7777777777777778, \"#fb9f3a\"], [0.8888888888888888, \"#fdca26\"], [1.0, \"#f0f921\"]]}, \"colorway\": [\"#636efa\", \"#EF553B\", \"#00cc96\", \"#ab63fa\", \"#FFA15A\", \"#19d3f3\", \"#FF6692\", \"#B6E880\", \"#FF97FF\", \"#FECB52\"], \"font\": {\"color\": \"#2a3f5f\"}, \"geo\": {\"bgcolor\": \"white\", \"lakecolor\": \"white\", \"landcolor\": \"#E5ECF6\", \"showlakes\": true, \"showland\": true, \"subunitcolor\": \"white\"}, \"hoverlabel\": {\"align\": \"left\"}, \"hovermode\": \"closest\", \"mapbox\": {\"style\": \"light\"}, \"paper_bgcolor\": \"white\", \"plot_bgcolor\": \"#E5ECF6\", \"polar\": {\"angularaxis\": {\"gridcolor\": \"white\", \"linecolor\": \"white\", \"ticks\": \"\"}, \"bgcolor\": \"#E5ECF6\", \"radialaxis\": {\"gridcolor\": \"white\", \"linecolor\": \"white\", \"ticks\": \"\"}}, \"scene\": {\"xaxis\": {\"backgroundcolor\": \"#E5ECF6\", \"gridcolor\": \"white\", \"gridwidth\": 2, \"linecolor\": \"white\", \"showbackground\": true, \"ticks\": \"\", \"zerolinecolor\": \"white\"}, \"yaxis\": {\"backgroundcolor\": \"#E5ECF6\", \"gridcolor\": \"white\", \"gridwidth\": 2, \"linecolor\": \"white\", \"showbackground\": true, \"ticks\": \"\", \"zerolinecolor\": \"white\"}, \"zaxis\": {\"backgroundcolor\": \"#E5ECF6\", \"gridcolor\": \"white\", \"gridwidth\": 2, \"linecolor\": \"white\", \"showbackground\": true, \"ticks\": \"\", \"zerolinecolor\": \"white\"}}, \"shapedefaults\": {\"line\": {\"color\": \"#2a3f5f\"}}, \"ternary\": {\"aaxis\": {\"gridcolor\": \"white\", \"linecolor\": \"white\", \"ticks\": \"\"}, \"baxis\": {\"gridcolor\": \"white\", \"linecolor\": \"white\", \"ticks\": \"\"}, \"bgcolor\": \"#E5ECF6\", \"caxis\": {\"gridcolor\": \"white\", \"linecolor\": \"white\", \"ticks\": \"\"}}, \"title\": {\"x\": 0.05}, \"xaxis\": {\"automargin\": true, \"gridcolor\": \"white\", \"linecolor\": \"white\", \"ticks\": \"\", \"title\": {\"standoff\": 15}, \"zerolinecolor\": \"white\", \"zerolinewidth\": 2}, \"yaxis\": {\"automargin\": true, \"gridcolor\": \"white\", \"linecolor\": \"white\", \"ticks\": \"\", \"title\": {\"standoff\": 15}, \"zerolinecolor\": \"white\", \"zerolinewidth\": 2}}}},\n",
              "                        {\"responsive\": true}\n",
              "                    ).then(function(){\n",
              "                            \n",
              "var gd = document.getElementById('5b77bf4d-012f-43a6-9786-cf0babc92ff6');\n",
              "var x = new MutationObserver(function (mutations, observer) {{\n",
              "        var display = window.getComputedStyle(gd).display;\n",
              "        if (!display || display === 'none') {{\n",
              "            console.log([gd, 'removed!']);\n",
              "            Plotly.purge(gd);\n",
              "            observer.disconnect();\n",
              "        }}\n",
              "}});\n",
              "\n",
              "// Listen for the removal of the full notebook cells\n",
              "var notebookContainer = gd.closest('#notebook-container');\n",
              "if (notebookContainer) {{\n",
              "    x.observe(notebookContainer, {childList: true});\n",
              "}}\n",
              "\n",
              "// Listen for the clearing of the current output cell\n",
              "var outputEl = gd.closest('.output');\n",
              "if (outputEl) {{\n",
              "    x.observe(outputEl, {childList: true});\n",
              "}}\n",
              "\n",
              "                        })\n",
              "                };\n",
              "                \n",
              "            </script>\n",
              "        </div>\n",
              "</body>\n",
              "</html>"
            ]
          },
          "metadata": {
            "tags": []
          }
        }
      ]
    },
    {
      "cell_type": "markdown",
      "metadata": {
        "id": "44fbBc0B8tkF"
      },
      "source": [
        "###Creating a vocabulary"
      ]
    },
    {
      "cell_type": "code",
      "metadata": {
        "id": "f0df9JI5t6_d"
      },
      "source": [
        "# creating vocabulary of words\n",
        "vocabdict = defaultdict(int)   \n",
        "for row in df['text']:\n",
        "  for n_gram in row:\n",
        "    n_gram = n_gram.lower()\n",
        "    vocabdict[n_gram] += 1\n",
        "\n",
        "vocabdict = dict(sorted(vocabdict.items(), key=operator.itemgetter(1), reverse=True))\n",
        "\n",
        "# mapping words to integer\n",
        "l = list(vocabdict.keys())\n",
        "wordmap = dict([(y,x) for x,y in enumerate(l)])"
      ],
      "execution_count": null,
      "outputs": []
    },
    {
      "cell_type": "markdown",
      "metadata": {
        "id": "_viBIHmf9g53"
      },
      "source": [
        "### Integer encoding and creating tensors"
      ]
    },
    {
      "cell_type": "code",
      "metadata": {
        "id": "nN8Wgx2RuDYJ",
        "colab": {
          "base_uri": "https://localhost:8080/"
        },
        "outputId": "d9352aca-73af-4aab-ea2d-7157c49fb46f"
      },
      "source": [
        "df_copy = df.copy()\n",
        "\n",
        "for i, text in enumerate(df['text']):\n",
        "  newtext = []\n",
        "  for word in text:\n",
        "    word = word.lower()\n",
        "    newtext.append(int(wordmap[word]))\n",
        "  df['text'][i] = torch.tensor(newtext).to(torch.int64)\n",
        "\n",
        "train_dataset = []\n",
        "\n",
        "for index, row in df.iterrows():\n",
        "  clasn = classmap[row['age']]\n",
        "  train_dataset.append(tuple((clasn, row['text'])))"
      ],
      "execution_count": null,
      "outputs": [
        {
          "output_type": "stream",
          "text": [
            "/usr/local/lib/python3.7/dist-packages/ipykernel_launcher.py:8: SettingWithCopyWarning:\n",
            "\n",
            "\n",
            "A value is trying to be set on a copy of a slice from a DataFrame\n",
            "\n",
            "See the caveats in the documentation: https://pandas.pydata.org/pandas-docs/stable/user_guide/indexing.html#returning-a-view-versus-a-copy\n",
            "\n"
          ],
          "name": "stderr"
        }
      ]
    },
    {
      "cell_type": "markdown",
      "metadata": {
        "id": "whzNqArXYGnH"
      },
      "source": [
        "##Approach  <a name=\"Approach\"></a>\n",
        "\n",
        "There are different aproaches for a text classification task like age and gender prediciton. For the scope of this project the following models will be implemented and evaluated: a neural network (NN), a recurrent neural network (RRN) and Bidirectional Encoder Representations from Transformers (BERT).\n"
      ]
    },
    {
      "cell_type": "markdown",
      "metadata": {
        "id": "gFSzy3tj9S8p"
      },
      "source": [
        "NOTE: Only the implementation of the NN on the blog-dataset will be presented in this report, the implementation of the other models and datasets can found in the other notebooks. "
      ]
    },
    {
      "cell_type": "markdown",
      "metadata": {
        "id": "ggxjph5K54mI"
      },
      "source": [
        "### Neural Network (NN) <a name=\"NN\"></a>\n",
        "\n",
        "\n",
        "The neural network model, mainly consists of an embedding layer with fully connected units to each of the classes. An embedding layer works by taking the words of a tensor and tries to build a lower dimensional embedding. Similar words gain a similar vectors which makes classification easier. The weights from the layers are uniformly distributed from $-\\frac{1}{2}$ to $+\\frac{1}{2}$ and the biases were set to 0.\n",
        "\n",
        "As input for the embedding layer the vocabulary size and embedding dimension should be given. The words in the vocabulary size will first form a vector filled with 0's only representing the given word with a 1. The embedding dimension gives the space size to which all words should be mapped. The number of classes should be given as well as the fully connected layer should know to what amount of dimensions to map.\n",
        "\n",
        "The Neural Network was trained using an embeddings of 32 dimensions. The texts were split and put in batches of 16. The stochastic gradient descent optimizer with a starting learning rate of 0.4 was used, together with a scheduler with a gamma of 0.9 which should decay this learning rate. As a loss function, the cross entropy loss was used, since this is a recommended loss function for binary predictions.\n",
        "\n",
        "The usage of an embedding layer was chosen since people of different groups tend to use similar words. The vectors in the embedding layer for these groups should therefore be more alike. Younger groups, as an example, write more about things related to their age than older groups. The usage of these embedding vectors could therefore be used to classify texts. The last fully connected hidden layer maps these vectors to a corresponding age.\n",
        "\n",
        "The final part of the implementation of the embedded neural network is demonstrated below, here we generate the batch, define the functions for the training and test data and run the network with 30 epochs (on the sub-dataset of 999 blogposts). In order to evaluate our neural network, we started by calculating the loss and accuracy. The loss measures the cross-entropy-loss, this combines the log softmax function (LogSoftmax) and negative log likelihood loss (NLLLoss) in one single class to calculate the loss per epoch. This criterion has been chosen in our case since it is especially useful when training a classification problem with C classes.  The accuracy measures the percentage of blogposts that was correctly labeled and, for both the training and validation data. For example, if the model predicts the correct age group 60 times in a test set containing 100 authors’ text, this will result in an accuracy of 60%."
      ]
    },
    {
      "cell_type": "code",
      "metadata": {
        "id": "HGBjOZbDQ62a"
      },
      "source": [
        "# set GPU as device for better performance\n",
        "device = torch.device(\"cuda\" if torch.cuda.is_available() else \"cpu\")\n",
        "\n",
        "class TextSentiment(nn.Module):\n",
        "    def __init__(self, vocab_size, embed_dim, num_class):\n",
        "        super().__init__()\n",
        "        self.embedding = nn.EmbeddingBag(vocab_size, embed_dim, sparse=True)\n",
        "        self.fc = nn.Linear(embed_dim, num_class)\n",
        "        self.init_weights()\n",
        "\n",
        "    def init_weights(self):\n",
        "        initrange = 0.5\n",
        "        self.embedding.weight.data.uniform_(-initrange, initrange)\n",
        "        self.fc.weight.data.uniform_(-initrange, initrange)\n",
        "        self.fc.bias.data.zero_()\n",
        "\n",
        "    def forward(self, text, offsets):\n",
        "        embedded = self.embedding(text, offsets)\n",
        "        return self.fc(embedded)\n",
        "\n",
        "vocab = len(vocabdict)\n",
        "embed_dim = 32\n",
        "n_classes = len(classdict)\n",
        "BATCH_SIZE = 16\n",
        "model = TextSentiment(vocab, embed_dim, n_classes).to(device)\n",
        "writer = SummaryWriter('runs/lsd')"
      ],
      "execution_count": null,
      "outputs": []
    },
    {
      "cell_type": "code",
      "metadata": {
        "id": "EnwhKtxxuSH6",
        "colab": {
          "base_uri": "https://localhost:8080/"
        },
        "outputId": "ee53e5ee-32c2-4d8d-d43f-b42482c2a6f2"
      },
      "source": [
        "def generate_batch(batch):\n",
        "    label = torch.tensor([entry[0] for entry in batch])\n",
        "    text = [entry[1] for entry in batch]\n",
        "    offsets = [0] + [len(entry) for entry in text]\n",
        "    # torch.Tensor.cumsum returns the cumulative sum\n",
        "    # of elements in the dimension dim.\n",
        "    # torch.Tensor([1.0, 2.0, 3.0]).cumsum(dim=0)\n",
        "\n",
        "    offsets = torch.tensor(offsets[:-1]).cumsum(dim=0)\n",
        "    text = torch.cat(text)\n",
        "    return text, offsets, label\n",
        "\n",
        "def train_func(sub_train_):\n",
        "\n",
        "    # Train the model\n",
        "    train_loss = 0\n",
        "    train_acc = 0\n",
        "    data = DataLoader(sub_train_, batch_size=BATCH_SIZE, shuffle=True,\n",
        "                      collate_fn=generate_batch)\n",
        "    for i, (text, offsets, cls) in enumerate(data):\n",
        "        optimizer.zero_grad()\n",
        "        text, offsets, cls = text.to(device), offsets.to(device), cls.to(device)\n",
        "        output = model(text, offsets)\n",
        "        loss = criterion(output, cls)\n",
        "        train_loss += loss.item()\n",
        "        loss.backward()\n",
        "        optimizer.step()\n",
        "        train_acc += (output.argmax(1) == cls).sum().item()\n",
        "\n",
        "    # Adjust the learning rate\n",
        "    scheduler.step()\n",
        "\n",
        "    return train_loss / len(sub_train_), train_acc / len(sub_train_)\n",
        "\n",
        "def test(data_):\n",
        "    loss = 0\n",
        "    acc = 0\n",
        "    data = DataLoader(data_, batch_size=BATCH_SIZE, collate_fn=generate_batch)\n",
        "    for text, offsets, cls in data:\n",
        "        text, offsets, cls = text.to(device), offsets.to(device), cls.to(device)\n",
        "        with torch.no_grad():\n",
        "            output = model(text, offsets)\n",
        "            loss = criterion(output, cls)\n",
        "            loss += loss.item()\n",
        "            acc += (output.argmax(1) == cls).sum().item()\n",
        "\n",
        "    return loss / len(data_), acc / len(data_)\n",
        "\n",
        "N_EPOCHS = 10\n",
        "min_valid_loss = float('inf')\n",
        "\n",
        "criterion = torch.nn.CrossEntropyLoss().to(device)\n",
        "# Adam of SGD\n",
        "optimizer = torch.optim.SGD(model.parameters(), lr=4.0)\n",
        "scheduler = torch.optim.lr_scheduler.StepLR(optimizer, 1, gamma=0.9)\n",
        "\n",
        "train_len = int(len(train_dataset) * 0.95)\n",
        "sub_train_, sub_valid_ = \\\n",
        "    random_split(train_dataset, [train_len, len(train_dataset) - train_len])\n",
        "\n",
        "start_time = time.time()\n",
        "for epoch in range(N_EPOCHS):\n",
        "\n",
        "    train_loss, train_acc = train_func(sub_train_)\n",
        "    valid_loss, valid_acc = test(sub_valid_)\n",
        "\n",
        "    print('Epoch: %d' %(epoch + 1))\n",
        "    print(f'\\tLoss: {train_loss:.4f}(train)\\t|\\tAcc: {train_acc * 100:.1f}%(train)')\n",
        "    writer.add_scalar('loss', train_loss, epoch)\n",
        "    print(f'\\tLoss: {valid_loss:.4f}(valid)\\t|\\tAcc: {valid_acc * 100:.1f}%(valid)')\n",
        "    writer.add_scalar('test acc', valid_acc, epoch)\n",
        "\n",
        "total_time = int(time.time() - start_time)\n",
        "print('Total time elapsed: %d seconds.' %(total_time))"
      ],
      "execution_count": null,
      "outputs": [
        {
          "output_type": "stream",
          "text": [
            "Epoch: 1\n",
            "\tLoss: 0.0852(train)\t|\tAcc: 36.2%(train)\n",
            "\tLoss: 0.0011(valid)\t|\tAcc: 38.9%(valid)\n",
            "Epoch: 2\n",
            "\tLoss: 0.0791(train)\t|\tAcc: 42.0%(train)\n",
            "\tLoss: 0.0014(valid)\t|\tAcc: 32.6%(valid)\n",
            "Epoch: 3\n",
            "\tLoss: 0.0750(train)\t|\tAcc: 46.1%(train)\n",
            "\tLoss: 0.0014(valid)\t|\tAcc: 42.9%(valid)\n",
            "Epoch: 4\n",
            "\tLoss: 0.0719(train)\t|\tAcc: 48.8%(train)\n",
            "\tLoss: 0.0013(valid)\t|\tAcc: 45.1%(valid)\n",
            "Epoch: 5\n",
            "\tLoss: 0.0689(train)\t|\tAcc: 51.8%(train)\n",
            "\tLoss: 0.0010(valid)\t|\tAcc: 50.4%(valid)\n",
            "Epoch: 6\n",
            "\tLoss: 0.0668(train)\t|\tAcc: 54.2%(train)\n",
            "\tLoss: 0.0011(valid)\t|\tAcc: 45.7%(valid)\n",
            "Epoch: 7\n",
            "\tLoss: 0.0644(train)\t|\tAcc: 56.1%(train)\n",
            "\tLoss: 0.0012(valid)\t|\tAcc: 45.1%(valid)\n",
            "Epoch: 8\n",
            "\tLoss: 0.0624(train)\t|\tAcc: 58.1%(train)\n",
            "\tLoss: 0.0013(valid)\t|\tAcc: 46.1%(valid)\n",
            "Epoch: 9\n",
            "\tLoss: 0.0607(train)\t|\tAcc: 59.9%(train)\n",
            "\tLoss: 0.0011(valid)\t|\tAcc: 48.3%(valid)\n",
            "Epoch: 10\n",
            "\tLoss: 0.0589(train)\t|\tAcc: 61.5%(train)\n",
            "\tLoss: 0.0011(valid)\t|\tAcc: 48.5%(valid)\n",
            "Total time elapsed: 158 seconds.\n"
          ],
          "name": "stdout"
        }
      ]
    },
    {
      "cell_type": "code",
      "metadata": {
        "id": "Bb37XFGkueez",
        "colab": {
          "base_uri": "https://localhost:8080/"
        },
        "outputId": "19239c53-4260-45a2-c2ca-f407488affdc"
      },
      "source": [
        "def predict(text, model, wordmap):\n",
        "    sentence = []\n",
        "    for word in text:\n",
        "      word = word.lower()\n",
        "      sentence.append(int(wordmap[word]))\n",
        "    text = torch.tensor(sentence).to(torch.int64)\n",
        "\n",
        "    with torch.no_grad():\n",
        "        output = model(text, torch.tensor([0]))\n",
        "        return output.argmax(1).item() + 1\n",
        "\n",
        "\n",
        "\n",
        "test_text = df_copy['text'][1]\n",
        "\n",
        "model = model.to(\"cpu\")\n",
        "\n",
        "inv_map = {v: k for v, k in [(0,\"10's\"), (1,\"20's\"), (2,\"30's\"), (3,\"40's\")]}\n",
        "\n",
        "print(f\"I predict the author of this article is in his {inv_map[predict(test_text, model, wordmap)]}\")"
      ],
      "execution_count": null,
      "outputs": [
        {
          "output_type": "stream",
          "text": [
            "I predict the author of this article is in his 30's\n"
          ],
          "name": "stdout"
        }
      ]
    },
    {
      "cell_type": "markdown",
      "metadata": {
        "id": "3FVBtnO9qApf"
      },
      "source": [
        "###Recurrent Neural Network (RNN)  <a name=\"RNN\"></a>\n",
        "\n",
        "\n",
        "As an alternative to the neural network, a recurrent neural network can be implemented. The idea behind a RNN is that it can make use of sequential information. This can be useful for texts because language has a clear sequential character. The model we used is called a Long Short-Term Memory Network (LTSM). As the name says, it remembers previous word-inputs from shorter and longer periods back. The meaning of a word depends on preceding words, therefore LTSM's can be used to extract this sequential information for a better classification task. "
      ]
    },
    {
      "cell_type": "markdown",
      "metadata": {
        "id": "kzorPvDzc7J8"
      },
      "source": [
        "### BERT <a name=\"BERT\"></a>\n",
        "\n",
        "\n",
        "Finally, BERT (Bidirectional Encoder Representations from Transformers) can be used for text classification. This is a state-of-the-art method of pre-trained language representations that makes use of a transformer. A transformer model applies an attention mechanism that learns contextual relations between words in a text, by determining which parts of the input sequence is important. In contrast to the other (directional) models, which means that it reads the text input sequentially, the Transformer encoder reads the entire sequence of words all at once. This enables the model to learn the context of a word based on all the surrounded words, which could be very beneficial for a text classification task like we are examining here.\n",
        "\n"
      ]
    },
    {
      "cell_type": "markdown",
      "metadata": {
        "id": "95aZ44BUU46f"
      },
      "source": [
        "## RQ1: To what extend can we predict an author's gender based on: <a name=\"RQ1\"></a>\n",
        "\n",
        "*   ## I Blogs<a name=\"RQ1B\"></a>\n",
        "\n"
      ]
    },
    {
      "cell_type": "code",
      "metadata": {
        "id": "rVryp4yFMRPI",
        "colab": {
          "base_uri": "https://localhost:8080/",
          "height": 112
        },
        "outputId": "37f68d4d-0a9c-427d-cc45-b5f7bedf8f89"
      },
      "source": [
        "df_bg = pd.read_csv(path+'ACC/BG.csv', sep=';', index_col=0)\n",
        "df_bg"
      ],
      "execution_count": null,
      "outputs": [
        {
          "output_type": "execute_result",
          "data": {
            "text/html": [
              "<div>\n",
              "<style scoped>\n",
              "    .dataframe tbody tr th:only-of-type {\n",
              "        vertical-align: middle;\n",
              "    }\n",
              "\n",
              "    .dataframe tbody tr th {\n",
              "        vertical-align: top;\n",
              "    }\n",
              "\n",
              "    .dataframe thead th {\n",
              "        text-align: right;\n",
              "    }\n",
              "</style>\n",
              "<table border=\"1\" class=\"dataframe\">\n",
              "  <thead>\n",
              "    <tr style=\"text-align: right;\">\n",
              "      <th></th>\n",
              "      <th>NN</th>\n",
              "      <th>RNN</th>\n",
              "      <th>BERT</th>\n",
              "    </tr>\n",
              "    <tr>\n",
              "      <th>Model</th>\n",
              "      <th></th>\n",
              "      <th></th>\n",
              "      <th></th>\n",
              "    </tr>\n",
              "  </thead>\n",
              "  <tbody>\n",
              "    <tr>\n",
              "      <th>Acc. valid</th>\n",
              "      <td>69.5%</td>\n",
              "      <td>67.5%</td>\n",
              "      <td>66.0%</td>\n",
              "    </tr>\n",
              "  </tbody>\n",
              "</table>\n",
              "</div>"
            ],
            "text/plain": [
              "               NN     RNN   BERT\n",
              "Model                           \n",
              "Acc. valid  69.5%   67.5%  66.0%"
            ]
          },
          "metadata": {
            "tags": []
          },
          "execution_count": 43
        }
      ]
    },
    {
      "cell_type": "code",
      "metadata": {
        "id": "LirJp5KuO3UR",
        "colab": {
          "base_uri": "https://localhost:8080/",
          "height": 281,
          "referenced_widgets": [
            "72b72956e866445880710d9d947ac39b",
            "5324047f2ae84981b351b6a9acbdb3a1",
            "5ed57fdc001e4df2a9034c760abd7a94",
            "a4d26bec91594bbb91473997f0645335",
            "29c385dca6834a9694a6099debf42fc8",
            "254a5838aaaa4b0dbe43e6cf37a25c3f",
            "593dbf7516764b04b0042c43d152be97",
            "914215752534409bb4557d3cf69d87cd"
          ]
        },
        "outputId": "85cc37ab-71d8-4604-9b86-b9935f3745de"
      },
      "source": [
        "img1 = open(path+'gender_Blog_nn_confusion_matrix.png', 'rb').read()\n",
        "img2 = open(path+'gender_Blog_rnn_confusion_matrix.png', 'rb').read()\n",
        "img3 = open(path+'GENDER_BLOG_BERT_confusion_matrix.png', 'rb').read()\n",
        "\n",
        "wi1 = widgets.Image(value=img1, format='png', width=390, height=400)\n",
        "wi2 = widgets.Image(value=img2, format='png', width=390, height=400)\n",
        "wi3 = widgets.Image(value=img3, format='png', width=390, height=400)\n",
        "\n",
        "sidebyside1 = widgets.HBox([wi1, wi2, wi3])\n",
        "\n",
        "display.display(sidebyside1)"
      ],
      "execution_count": null,
      "outputs": [
        {
          "output_type": "display_data",
          "data": {
            "application/vnd.jupyter.widget-view+json": {
              "model_id": "72b72956e866445880710d9d947ac39b",
              "version_minor": 0,
              "version_major": 2
            },
            "text/plain": [
              "HBox(children=(Image(value=b'\\x89PNG\\r\\n\\x1a\\n\\x00\\x00\\x00\\rIHDR\\x00\\x00\\x01\\xb0\\x00\\x00\\x01 \\x08\\x06\\x00\\x00\\…"
            ]
          },
          "metadata": {
            "tags": []
          }
        }
      ]
    },
    {
      "cell_type": "markdown",
      "metadata": {
        "id": "HhLl_o008s67"
      },
      "source": [
        "\n",
        "\n",
        "*   ## II Chats<a name=\"RQ1C\"></a>\n"
      ]
    },
    {
      "cell_type": "code",
      "metadata": {
        "id": "-_9Xt0iqN2GI",
        "colab": {
          "base_uri": "https://localhost:8080/",
          "height": 112
        },
        "outputId": "6a4ca15b-10a6-4272-fd92-284658e77c1d"
      },
      "source": [
        "df_pg = pd.read_csv(path+'ACC/PG.csv', sep=';', index_col=0)\n",
        "df_pg"
      ],
      "execution_count": null,
      "outputs": [
        {
          "output_type": "execute_result",
          "data": {
            "text/html": [
              "<div>\n",
              "<style scoped>\n",
              "    .dataframe tbody tr th:only-of-type {\n",
              "        vertical-align: middle;\n",
              "    }\n",
              "\n",
              "    .dataframe tbody tr th {\n",
              "        vertical-align: top;\n",
              "    }\n",
              "\n",
              "    .dataframe thead th {\n",
              "        text-align: right;\n",
              "    }\n",
              "</style>\n",
              "<table border=\"1\" class=\"dataframe\">\n",
              "  <thead>\n",
              "    <tr style=\"text-align: right;\">\n",
              "      <th></th>\n",
              "      <th>NN</th>\n",
              "      <th>RNN</th>\n",
              "      <th>BERT</th>\n",
              "    </tr>\n",
              "    <tr>\n",
              "      <th>Model</th>\n",
              "      <th></th>\n",
              "      <th></th>\n",
              "      <th></th>\n",
              "    </tr>\n",
              "  </thead>\n",
              "  <tbody>\n",
              "    <tr>\n",
              "      <th>Acc. valid</th>\n",
              "      <td>60.4%</td>\n",
              "      <td>62.3%</td>\n",
              "      <td>57.6%</td>\n",
              "    </tr>\n",
              "  </tbody>\n",
              "</table>\n",
              "</div>"
            ],
            "text/plain": [
              "               NN    RNN   BERT\n",
              "Model                          \n",
              "Acc. valid  60.4%  62.3%  57.6%"
            ]
          },
          "metadata": {
            "tags": []
          },
          "execution_count": 52
        }
      ]
    },
    {
      "cell_type": "code",
      "metadata": {
        "id": "n2tFN35_TVef",
        "colab": {
          "base_uri": "https://localhost:8080/",
          "height": 281,
          "referenced_widgets": [
            "4dbac4ce262a4184b9de47db4489d4d0",
            "c87fea4a36ea4172bdd1d9019055bde4",
            "7a8b96a7f8f947bfa7d49a86cf239c1c",
            "5d24641e74b8444f8fbafb31e1dbcb43",
            "0254af4c227b43cb8cade189f848e900",
            "c34de5dc1d4e44a29523c196e4f73506",
            "10d4ba88c5f541d0aa5d363ebd9b1edc",
            "12bc6d4caac84c23beecc7395db57ddb"
          ]
        },
        "outputId": "9dadb1ef-9dba-4b9f-9121-f94af3157446"
      },
      "source": [
        "img4 = open(path+'gender_PAN_nn_confusion_matrix.png', 'rb').read()\n",
        "img5 = open(path+'gender_PAN_rnn_confusion_matrix.png', 'rb').read()\n",
        "img6 = open(path+'GENDER_PAN_BERT_confusion_matrix.png', 'rb').read()\n",
        "\n",
        "wi4 = widgets.Image(value=img4, format='png', width=390, height=400)\n",
        "wi5 = widgets.Image(value=img5, format='png', width=390, height=400)\n",
        "wi6 = widgets.Image(value=img6, format='png', width=390, height=400)\n",
        "\n",
        "sidebyside2 = widgets.HBox([wi4, wi5, wi6])\n",
        "\n",
        "display.display(sidebyside2)"
      ],
      "execution_count": null,
      "outputs": [
        {
          "output_type": "display_data",
          "data": {
            "application/vnd.jupyter.widget-view+json": {
              "model_id": "4dbac4ce262a4184b9de47db4489d4d0",
              "version_minor": 0,
              "version_major": 2
            },
            "text/plain": [
              "HBox(children=(Image(value=b'\\x89PNG\\r\\n\\x1a\\n\\x00\\x00\\x00\\rIHDR\\x00\\x00\\x01\\xb0\\x00\\x00\\x01 \\x08\\x06\\x00\\x00\\…"
            ]
          },
          "metadata": {
            "tags": []
          }
        }
      ]
    },
    {
      "cell_type": "markdown",
      "metadata": {
        "id": "vpXs_iYR4SxX"
      },
      "source": [
        "## RQ2: To what extend can we predict an author's age-group based on: <a name=\"RQ2\"></a>\n",
        "\n",
        "*   ## I Blogs<a name=\"RQ2B\"></a>\n",
        "\n"
      ]
    },
    {
      "cell_type": "code",
      "metadata": {
        "id": "A08WBTyiOk79",
        "colab": {
          "base_uri": "https://localhost:8080/",
          "height": 112
        },
        "outputId": "fad80ead-5658-4f64-ca0a-e7d536c19ace"
      },
      "source": [
        "df_ba = pd.read_csv(path+'ACC/BA.csv', sep=';', index_col=0)\n",
        "df_ba"
      ],
      "execution_count": null,
      "outputs": [
        {
          "output_type": "execute_result",
          "data": {
            "text/html": [
              "<div>\n",
              "<style scoped>\n",
              "    .dataframe tbody tr th:only-of-type {\n",
              "        vertical-align: middle;\n",
              "    }\n",
              "\n",
              "    .dataframe tbody tr th {\n",
              "        vertical-align: top;\n",
              "    }\n",
              "\n",
              "    .dataframe thead th {\n",
              "        text-align: right;\n",
              "    }\n",
              "</style>\n",
              "<table border=\"1\" class=\"dataframe\">\n",
              "  <thead>\n",
              "    <tr style=\"text-align: right;\">\n",
              "      <th></th>\n",
              "      <th>NN</th>\n",
              "      <th>RNN</th>\n",
              "      <th>BERT</th>\n",
              "    </tr>\n",
              "    <tr>\n",
              "      <th>Model</th>\n",
              "      <th></th>\n",
              "      <th></th>\n",
              "      <th></th>\n",
              "    </tr>\n",
              "  </thead>\n",
              "  <tbody>\n",
              "    <tr>\n",
              "      <th>Acc. valid</th>\n",
              "      <td>56.2%</td>\n",
              "      <td>44.7%</td>\n",
              "      <td>60.0%</td>\n",
              "    </tr>\n",
              "  </tbody>\n",
              "</table>\n",
              "</div>"
            ],
            "text/plain": [
              "               NN    RNN   BERT\n",
              "Model                          \n",
              "Acc. valid  56.2%  44.7%  60.0%"
            ]
          },
          "metadata": {
            "tags": []
          },
          "execution_count": 48
        }
      ]
    },
    {
      "cell_type": "code",
      "metadata": {
        "id": "9eSBLtoBT7ft",
        "colab": {
          "base_uri": "https://localhost:8080/",
          "height": 281,
          "referenced_widgets": [
            "dd7be10ee6824edfa94257516adcd5b5",
            "ff7eed3389fc4329b594370ab0d502aa",
            "4fece8e9a0e14083b39910b4c690ba23",
            "d750a3a69a5a4f299b5033ddcd35218b",
            "93c445721e734316b2757e6024646a51",
            "78ce264ce8284e378326ae63ac306cc4"
          ]
        },
        "outputId": "bb02e181-9e65-4ebe-a720-0a0331a5cfdd"
      },
      "source": [
        "img7 = open(path+'Blog_nn_confusion_matrix.png', 'rb').read()\n",
        "img8 = open(path+'Blog_rnn_confusion_matrix.png', 'rb').read()\n",
        "#img9 = open(path+'Blog_BERT_confusion_matrix.png', 'rb').read()\n",
        "\n",
        "wi7 = widgets.Image(value=img7, format='png', width=390, height=400)\n",
        "wi8 = widgets.Image(value=img8, format='png', width=390, height=400)\n",
        "#wi9 = widgets.Image(value=img9, format='png', width=390, height=400)\n",
        "\n",
        "sidebyside3 = widgets.HBox([wi7, wi8])\n",
        "\n",
        "display.display(sidebyside3)"
      ],
      "execution_count": null,
      "outputs": [
        {
          "output_type": "display_data",
          "data": {
            "application/vnd.jupyter.widget-view+json": {
              "model_id": "dd7be10ee6824edfa94257516adcd5b5",
              "version_minor": 0,
              "version_major": 2
            },
            "text/plain": [
              "HBox(children=(Image(value=b'\\x89PNG\\r\\n\\x1a\\n\\x00\\x00\\x00\\rIHDR\\x00\\x00\\x01\\xb0\\x00\\x00\\x01 \\x08\\x06\\x00\\x00\\…"
            ]
          },
          "metadata": {
            "tags": []
          }
        }
      ]
    },
    {
      "cell_type": "markdown",
      "metadata": {
        "id": "rd-ylBK58-86"
      },
      "source": [
        " * ## II Chats<a name=\"RQ2C\"></a>"
      ]
    },
    {
      "cell_type": "code",
      "metadata": {
        "id": "YPe-AfSBOzNZ",
        "colab": {
          "base_uri": "https://localhost:8080/",
          "height": 112
        },
        "outputId": "60cf079f-7ae1-4eae-b79e-02dc04a901de"
      },
      "source": [
        "df_pa = pd.read_csv(path+'ACC/PA.csv', sep=';', index_col=0)\n",
        "df_pa"
      ],
      "execution_count": null,
      "outputs": [
        {
          "output_type": "execute_result",
          "data": {
            "text/html": [
              "<div>\n",
              "<style scoped>\n",
              "    .dataframe tbody tr th:only-of-type {\n",
              "        vertical-align: middle;\n",
              "    }\n",
              "\n",
              "    .dataframe tbody tr th {\n",
              "        vertical-align: top;\n",
              "    }\n",
              "\n",
              "    .dataframe thead th {\n",
              "        text-align: right;\n",
              "    }\n",
              "</style>\n",
              "<table border=\"1\" class=\"dataframe\">\n",
              "  <thead>\n",
              "    <tr style=\"text-align: right;\">\n",
              "      <th></th>\n",
              "      <th>NN</th>\n",
              "      <th>RNN</th>\n",
              "      <th>BERT</th>\n",
              "    </tr>\n",
              "    <tr>\n",
              "      <th>Model</th>\n",
              "      <th></th>\n",
              "      <th></th>\n",
              "      <th></th>\n",
              "    </tr>\n",
              "  </thead>\n",
              "  <tbody>\n",
              "    <tr>\n",
              "      <th>Acc. valid</th>\n",
              "      <td>48.6%</td>\n",
              "      <td>50.6%</td>\n",
              "      <td>44.2%</td>\n",
              "    </tr>\n",
              "  </tbody>\n",
              "</table>\n",
              "</div>"
            ],
            "text/plain": [
              "               NN    RNN   BERT\n",
              "Model                          \n",
              "Acc. valid  48.6%  50.6%  44.2%"
            ]
          },
          "metadata": {
            "tags": []
          },
          "execution_count": 37
        }
      ]
    },
    {
      "cell_type": "code",
      "metadata": {
        "id": "Wl1FprhqUgGZ",
        "colab": {
          "base_uri": "https://localhost:8080/",
          "height": 281,
          "referenced_widgets": [
            "116beac08ab14be3b38127169303147d",
            "77c3bb6a37f54c78b3e8255fd73e0289",
            "b73cbe6297a5491b9de97aefe92ee3f5",
            "4b46378a967b4d24bb0a38aa47a36561",
            "5fb8d6fd6e8645d6bd9c01336c16ecb7",
            "f7ea6248355d4f03bb9a4392fb7ae678",
            "419c990a9b0e41829b31bba464b79aa0",
            "f1f803c456d1437bb14e6c6319b30b35"
          ]
        },
        "outputId": "5d50bfd8-4d29-48e1-8cd3-90144465508f"
      },
      "source": [
        "img10 = open(path+'PAN_nn_confusion_matrix.png', 'rb').read()\n",
        "img11 = open(path+'PAN_rnn_confusion_matrix.png', 'rb').read()\n",
        "img12 = open(path+'AGE_PAN_BERT_confusion_matrix.png', 'rb').read()\n",
        "\n",
        "wi10 = widgets.Image(value=img10, format='png', width=390, height=400)\n",
        "wi11 = widgets.Image(value=img11, format='png', width=390, height=400)\n",
        "wi12 = widgets.Image(value=img12, format='png', width=390, height=400)\n",
        "\n",
        "sidebyside4 = widgets.HBox([wi10, wi11, wi12])\n",
        "\n",
        "display.display(sidebyside4)"
      ],
      "execution_count": null,
      "outputs": [
        {
          "output_type": "display_data",
          "data": {
            "application/vnd.jupyter.widget-view+json": {
              "model_id": "116beac08ab14be3b38127169303147d",
              "version_minor": 0,
              "version_major": 2
            },
            "text/plain": [
              "HBox(children=(Image(value=b'\\x89PNG\\r\\n\\x1a\\n\\x00\\x00\\x00\\rIHDR\\x00\\x00\\x01\\xb0\\x00\\x00\\x01 \\x08\\x06\\x00\\x00\\…"
            ]
          },
          "metadata": {
            "tags": []
          }
        }
      ]
    },
    {
      "cell_type": "markdown",
      "metadata": {
        "id": "r1ZAjpOcsrQ3"
      },
      "source": [
        "## Conclusions <a name=\"Conclusions\"></a>\n",
        "\n",
        "Above results give us some insights on the predictive performance of the different networks. \n",
        "\n",
        "First of all, the models can predict an author's gender pretty well based on blogs, they tend to be slightly better at predicting female authors versus male authors. For this type of data our neural network showed the best performance. \n",
        "\n",
        "Secondly, the results showed that it was more difficult for to predict an authors' gender based on chats, especcially BERT. The other two models were slightly beter at predicting male writers than female writers. In this case the recurrent neural network performed slightly better than the others.\n",
        "\n",
        "Thirdly the confustion matrices of the neural network and the recurrent neural network, from the age-group predicition task on the blog dataset show that most true positives are in the 10's age group. As well as the 40's age-group, this shows that those two models perform better at the edge age-groups than the middle two age groups.The BERT model showed the highest accuarcy for this dataset on this classification task.\n",
        "\n",
        "Lastly, all models performed fairly similair on the age-group classification task on the chat dataset. These confusion matrices show (similair as with the blog dataset) that the models tend to be slightly better at predicting the 10s age group, rather than the other two. Overall, the recurrent neural network showed the highest accuracy in this case."
      ]
    },
    {
      "cell_type": "markdown",
      "metadata": {
        "id": "vuLFfmsEYI-f"
      },
      "source": [
        "## Discussion <a name=\"Discussion\"></a>\n",
        "\n",
        "This research has clearly shown that age and gender can be predicted with a neural network approach. However, there is still much room for future research.\n",
        "\n",
        "First of all, in this research we used integer encodings to map words to numbers for our NN and RNN. However there are more ways to do word embeddings that could lead to better predictive performance. One of these methods is would be one-hot encodings. This would give unique word dimensions, and it would assume fully independent words. One more way of embedding words would be to use a pre-trained embedding model like word2vec. The advantage of pre-trained word vectors would be that similar words get similar vectors. The exact effects of these embeddings are not clear but these options could possibly lead to better predictive perfomance.\n",
        "\n",
        "Secondly, to avoid bias in the neural networks, the choice has been made to use under-sampling on the age-groups. This results in a much smaller dataset, and that is not a desired result. So in future work, other methods of balancing could be considered. For example, weighted classes or over-sampling are other possible options.\n",
        "\n",
        "Lastly, these test results show that there is predictive power in all three models. However, all models have been trained and tested seperately on blog and chat texts. Another interesting research would be to cross-validate the models on both datasets. This means that we would train a model on blog texts and test the model on chat texts and vice-versa.\n",
        "This gives more insight on the \"real\" predictive power of the models because it would be a test on another distribution.\n",
        "\n",
        "### Monologue versus dialogue\n",
        "\n",
        "The main difference between the datasets is the perspective and audiance the texts were written for. In the Blog Authorship dataset the data are blogposts which are obviousely monologues aimed for no direct audiance. The posts can be written for the author self or for any group interested in the blogposts. On the other hand, the PAN13 dataset contains of texts derived from social media. These are one part of a conversation that is aimed at the other person receiving the certain texts. This data is thus an isolated part of a dialogue. Interstingly "
      ]
    },
    {
      "cell_type": "markdown",
      "metadata": {
        "id": "PUIupRyZA-Kz"
      },
      "source": [
        "## References <a name=\"References\"></a>\n",
        "7 Techniques to Handle Imbalanced Data. (2021). KDnuggets. Geraadpleegd 11 maart 2021, van https://www.kdnuggets.com/7-techniques-to-handle-imbalanced-data.html/\n",
        "\n",
        "\n",
        "Dichiu, D., & Rancea, I. (z.d.). Using Machine Learning Algorithms for Author Profiling In Social Media. 6.\n",
        "\n",
        "Hsieh, F., Dias, R., & Paraboni, I. (2018, May). Author Profiling from Facebook Corpora. Proceedings of the Eleventh International Conference on Language Resources and Evaluation (LREC 2018). LREC 2018, Miyazaki, Japan. https://www.aclweb.org/anthology/L18-1407\n",
        "\n",
        "Mesnards, N. G. des, Hunter, D. S., Hjouji, Z. el, & Zaman, T. (2020). Detecting Bots and Assessing Their Impact in Social Networks. ArXiv:1810.12398 [Physics, Stat]. http://arxiv.org/abs/1810.12398\n",
        "\n",
        "Mitchell, K. J. (2001). Risk Factors for and Impact of Online Sexual Solicitation of Youth. JAMA, 285(23), 3011. https://doi.org/10.1001/jama.285.23.3011\n",
        "\n",
        "Ross, B., Pilz, L., Cabrera, B., Brachten, F., Neubaum, G., & Stieglitz, S. (2019). Are social bots a real threat? An agent-based model of the spiral of silence to analyse the impact of manipulative actors in social networks. European Journal of Information Systems, 28(4), 394–412. https://doi.org/10.1080/0960085X.2018.1560920\n",
        "\n",
        "Santosh, K., Bansal, R., Shekhar, M., & Varma, V. (2013, januari 1). Author Profiling: Predicting Age and Gender from Blogs Notebook for PAN at CLEF 2013.\n",
        "\n",
        "Wiegmann, M., Stein, B., & Potthast, M. (2019). Overview of the Celebrity Proﬁling Task at PAN 2019. 19.\n",
        "\n"
      ]
    }
  ]
}